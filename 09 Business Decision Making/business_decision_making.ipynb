{
 "cells": [
  {
   "cell_type": "markdown",
   "metadata": {
    "toc": true
   },
   "source": [
    "<h1>Принятие решений в бизнесе<span class=\"tocSkip\"></span></h1>\n",
    "<div class=\"toc\"><ul class=\"toc-item\"><li><span><a href=\"#Описание-проекта-и-данных\" data-toc-modified-id=\"Описание-проекта-и-данных-1\">Описание проекта и данных</a></span></li><li><span><a href=\"#Знакомимся-с-данными\" data-toc-modified-id=\"Знакомимся-с-данными-2\">Знакомимся с данными</a></span><ul class=\"toc-item\"><li><span><a href=\"#Импортируем-библиотеки\" data-toc-modified-id=\"Импортируем-библиотеки-2.1\">Импортируем библиотеки</a></span></li><li><span><a href=\"#Откроем-файлы\" data-toc-modified-id=\"Откроем-файлы-2.2\">Откроем файлы</a></span></li><li><span><a href=\"#Изучим-общую-информацию\" data-toc-modified-id=\"Изучим-общую-информацию-2.3\">Изучим общую информацию</a></span></li><li><span><a href=\"#Вывод-по-блоку\" data-toc-modified-id=\"Вывод-по-блоку-2.4\">Вывод по блоку</a></span></li></ul></li><li><span><a href=\"#Предобработка-данных\" data-toc-modified-id=\"Предобработка-данных-3\">Предобработка данных</a></span><ul class=\"toc-item\"><li><span><a href=\"#Приведение-названий-столбцов-к-нижнему-регистру\" data-toc-modified-id=\"Приведение-названий-столбцов-к-нижнему-регистру-3.1\">Приведение названий столбцов к нижнему регистру</a></span></li><li><span><a href=\"#Добавление-&quot;_&quot;-в-названии-столбцов\" data-toc-modified-id=\"Добавление-&quot;_&quot;-в-названии-столбцов-3.2\">Добавление \"_\" в названии столбцов</a></span></li><li><span><a href=\"#Преобразование-типов-данных-в-столбцах\" data-toc-modified-id=\"Преобразование-типов-данных-в-столбцах-3.3\">Преобразование типов данных в столбцах</a></span></li><li><span><a href=\"#Вывод-по-блоку\" data-toc-modified-id=\"Вывод-по-блоку-3.4\">Вывод по блоку</a></span></li></ul></li><li><span><a href=\"#Приоритизация-гипотез\" data-toc-modified-id=\"Приоритизация-гипотез-4\">Приоритизация гипотез</a></span><ul class=\"toc-item\"><li><span><a href=\"#Применим-фреймворк-ICE-для-приоритизации-гипотез.-Отсортируем-их-по-убыванию-приоритета\" data-toc-modified-id=\"Применим-фреймворк-ICE-для-приоритизации-гипотез.-Отсортируем-их-по-убыванию-приоритета-4.1\">Применим фреймворк ICE для приоритизации гипотез. Отсортируем их по убыванию приоритета</a></span></li><li><span><a href=\"#Применим-фреймворк-RICE-для-приоритизации-гипотез.-Отсортируем-их-по-убыванию-приоритета\" data-toc-modified-id=\"Применим-фреймворк-RICE-для-приоритизации-гипотез.-Отсортируем-их-по-убыванию-приоритета-4.2\">Применим фреймворк RICE для приоритизации гипотез. Отсортируем их по убыванию приоритета</a></span></li><li><span><a href=\"#Укажем,-как-изменилась-приоритизация-гипотез-при-применении-RICE-вместо-ICE.-Объясним,-почему-так-произошло\" data-toc-modified-id=\"Укажем,-как-изменилась-приоритизация-гипотез-при-применении-RICE-вместо-ICE.-Объясним,-почему-так-произошло-4.3\">Укажем, как изменилась приоритизация гипотез при применении RICE вместо ICE. Объясним, почему так произошло</a></span></li></ul></li><li><span><a href=\"#Анализ-A/B-теста\" data-toc-modified-id=\"Анализ-A/B-теста-5\">Анализ A/B-теста</a></span><ul class=\"toc-item\"><li><span><a href=\"#Сколько-у-нас-групп-в-АВ-тесте\" data-toc-modified-id=\"Сколько-у-нас-групп-в-АВ-тесте-5.1\">Сколько у нас групп в АВ-тесте</a></span></li><li><span><a href=\"#Построим-график-кумулятивной-выручки-по-группам.-Сделаем-выводы-и-предположения.\" data-toc-modified-id=\"Построим-график-кумулятивной-выручки-по-группам.-Сделаем-выводы-и-предположения.-5.2\">Построим график кумулятивной выручки по группам. Сделаем выводы и предположения.</a></span></li><li><span><a href=\"#Построим-график-кумулятивного-среднего-чека-по-группам.-Сделаем-выводы-и-предположения.\" data-toc-modified-id=\"Построим-график-кумулятивного-среднего-чека-по-группам.-Сделаем-выводы-и-предположения.-5.3\">Построим график кумулятивного среднего чека по группам. Сделаем выводы и предположения.</a></span></li><li><span><a href=\"#Построим-график-относительного-изменения-кумулятивного-среднего-чека-группы-B-к-группе-A.-Сделаем-выводы-и-предположения.\" data-toc-modified-id=\"Построим-график-относительного-изменения-кумулятивного-среднего-чека-группы-B-к-группе-A.-Сделаем-выводы-и-предположения.-5.4\">Построим график относительного изменения кумулятивного среднего чека группы B к группе A. Сделаем выводы и предположения.</a></span></li><li><span><a href=\"#Построим-график-кумулятивного-среднего-количества-заказов-на-посетителя-по-группам.-Сделаем-выводы-и-предположения.\" data-toc-modified-id=\"Построим-график-кумулятивного-среднего-количества-заказов-на-посетителя-по-группам.-Сделаем-выводы-и-предположения.-5.5\">Построим график кумулятивного среднего количества заказов на посетителя по группам. Сделаем выводы и предположения.</a></span></li><li><span><a href=\"#Построим-график-относительного-изменения-кумулятивного-среднего-количества-заказов-на-посетителя-группы-B-к-группе-A.-Сделаем-выводы-и-предположения.\" data-toc-modified-id=\"Построим-график-относительного-изменения-кумулятивного-среднего-количества-заказов-на-посетителя-группы-B-к-группе-A.-Сделаем-выводы-и-предположения.-5.6\">Построим график относительного изменения кумулятивного среднего количества заказов на посетителя группы B к группе A. Сделаем выводы и предположения.</a></span></li><li><span><a href=\"#Построим-точечный-график-количества-заказов-по-пользователям.-Сделаем-выводы-и-предположения.\" data-toc-modified-id=\"Построим-точечный-график-количества-заказов-по-пользователям.-Сделаем-выводы-и-предположения.-5.7\">Построим точечный график количества заказов по пользователям. Сделаем выводы и предположения.</a></span></li><li><span><a href=\"#Посчитаем-95-й-и-99-й-перцентили-количества-заказов-на-пользователя.-Выберем-границу-для-определения-аномальных-пользователей\" data-toc-modified-id=\"Посчитаем-95-й-и-99-й-перцентили-количества-заказов-на-пользователя.-Выберем-границу-для-определения-аномальных-пользователей-5.8\">Посчитаем 95-й и 99-й перцентили количества заказов на пользователя. Выберем границу для определения аномальных пользователей</a></span></li><li><span><a href=\"#Построим-точечный-график-стоимостей-заказов.-Сделаем-выводы-и-предположения\" data-toc-modified-id=\"Построим-точечный-график-стоимостей-заказов.-Сделаем-выводы-и-предположения-5.9\">Построим точечный график стоимостей заказов. Сделаем выводы и предположения</a></span></li><li><span><a href=\"#Посчитаем-95-й-и-99-й-перцентили-стоимости-заказов.-Выберем-границу-для-определения-аномальных-заказов\" data-toc-modified-id=\"Посчитаем-95-й-и-99-й-перцентили-стоимости-заказов.-Выберем-границу-для-определения-аномальных-заказов-5.10\">Посчитаем 95-й и 99-й перцентили стоимости заказов. Выберем границу для определения аномальных заказов</a></span></li><li><span><a href=\"#Посчитаем-статистическую-значимость-различий-в-среднем-количестве-заказов-на-посетителя-между-группами-по-«сырым»-данным.-Сделаем-выводы-и-предположения\" data-toc-modified-id=\"Посчитаем-статистическую-значимость-различий-в-среднем-количестве-заказов-на-посетителя-между-группами-по-«сырым»-данным.-Сделаем-выводы-и-предположения-5.11\">Посчитаем статистическую значимость различий в среднем количестве заказов на посетителя между группами по «сырым» данным. Сделаем выводы и предположения</a></span></li><li><span><a href=\"#Посчитаем-статистическую-значимость-различий-в-среднем-чеке-заказа-между-группами-по-«сырым»-данным.-Сделаем-выводы-и-предположения.\" data-toc-modified-id=\"Посчитаем-статистическую-значимость-различий-в-среднем-чеке-заказа-между-группами-по-«сырым»-данным.-Сделаем-выводы-и-предположения.-5.12\">Посчитаем статистическую значимость различий в среднем чеке заказа между группами по «сырым» данным. Сделаем выводы и предположения.</a></span></li><li><span><a href=\"#Посчитаем-статистическую-значимость-различий-в-среднем-количестве-заказов-на-посетителя-между-группами-по-«очищенным»-данным.-Сделаем-выводы-и-предположения.\" data-toc-modified-id=\"Посчитаем-статистическую-значимость-различий-в-среднем-количестве-заказов-на-посетителя-между-группами-по-«очищенным»-данным.-Сделаем-выводы-и-предположения.-5.13\">Посчитаем статистическую значимость различий в среднем количестве заказов на посетителя между группами по «очищенным» данным. Сделаем выводы и предположения.</a></span></li><li><span><a href=\"#Посчитаем-статистическую-значимость-различий-в-среднем-чеке-заказа-между-группами-по-«очищенным»-данным.-Сделаем-выводы-и-предположения.\" data-toc-modified-id=\"Посчитаем-статистическую-значимость-различий-в-среднем-чеке-заказа-между-группами-по-«очищенным»-данным.-Сделаем-выводы-и-предположения.-5.14\">Посчитаем статистическую значимость различий в среднем чеке заказа между группами по «очищенным» данным. Сделаем выводы и предположения.</a></span></li></ul></li><li><span><a href=\"#Общий-вывод\" data-toc-modified-id=\"Общий-вывод-6\">Общий вывод</a></span></li></ul></div>"
   ]
  },
  {
   "cell_type": "code",
   "execution_count": null,
   "metadata": {},
   "outputs": [],
   "source": []
  },
  {
   "cell_type": "markdown",
   "metadata": {},
   "source": [
    "### Описание проекта и данных"
   ]
  },
  {
   "cell_type": "markdown",
   "metadata": {},
   "source": [
    "Мы представлем себя в роли аналитик крупного интернет-магазина в проекте \"Контекст\". Вместе с отделом маркетинга были подготовили список гипотез для увеличения выручки.\n",
    "\n",
    "Мы будем приоритизировать гипотезы, запускать A/B-тест и анализировать результаты. "
   ]
  },
  {
   "cell_type": "markdown",
   "metadata": {},
   "source": [
    "Структура hypothesis.csv:\n",
    "\n",
    "<ul>\n",
    "<li>Hypothesis — краткое описание гипотезы;</li>\n",
    "<li>Reach — охват пользователей по 10-балльной шкале;</li>\n",
    "<li>Impact — влияние на пользователей по 10-балльной шкале;</li>\n",
    "<li>Confidence — уверенность в гипотезе по 10-балльной шкале;</li>\n",
    "<li>Efforts — затраты ресурсов на проверку гипотезы по 10-балльной шкале. Чем больше значение Efforts, тем дороже проверка гипотезы.</li>\n",
    "</ul>\n",
    "\n",
    "Структура orders.csv:\n",
    "\n",
    "<ul>\n",
    "<li>transactionId — идентификатор заказа;</li>\n",
    "<li>visitorId — идентификатор пользователя, совершившего заказ;</li>\n",
    "<li>date — дата, когда был совершён заказ;</li>\n",
    "<li>revenue — выручка заказа;</li>\n",
    "<li>group — группа A/B-теста, в которую попал заказ.</li>\n",
    "</ul>\n",
    "\n",
    "Структура visitors.csv:\n",
    "\n",
    "<ul>\n",
    "<li>date — дата;</li>\n",
    "<li>group — группа A/B-теста;</li>\n",
    "<li>visitors — количество пользователей в указанную дату в указанной группе A/B-теста</li>\n",
    "</ul>"
   ]
  },
  {
   "cell_type": "markdown",
   "metadata": {},
   "source": [
    "### Знакомимся с данными"
   ]
  },
  {
   "cell_type": "markdown",
   "metadata": {},
   "source": [
    "#### Импортируем библиотеки"
   ]
  },
  {
   "cell_type": "code",
   "execution_count": 1,
   "metadata": {},
   "outputs": [],
   "source": [
    "import pandas as pd\n",
    "import scipy.stats as stats\n",
    "import datetime as dt\n",
    "import numpy as np\n",
    "import seaborn as sns\n",
    "\n",
    "from matplotlib import pyplot as plt\n",
    "from datetime import datetime, timedelta"
   ]
  },
  {
   "cell_type": "markdown",
   "metadata": {},
   "source": [
    "#### Откроем файлы"
   ]
  },
  {
   "cell_type": "code",
   "execution_count": 2,
   "metadata": {},
   "outputs": [],
   "source": [
    "hypothesis = pd.read_csv('/datasets/hypothesis.csv')\n",
    "orders = pd.read_csv('/datasets/orders.csv')\n",
    "visitors = pd.read_csv('/datasets/visitors.csv')"
   ]
  },
  {
   "cell_type": "markdown",
   "metadata": {},
   "source": [
    "#### Изучим общую информацию"
   ]
  },
  {
   "cell_type": "code",
   "execution_count": 3,
   "metadata": {},
   "outputs": [
    {
     "name": "stdout",
     "output_type": "stream",
     "text": [
      "<class 'pandas.core.frame.DataFrame'>\n",
      "RangeIndex: 9 entries, 0 to 8\n",
      "Data columns (total 5 columns):\n",
      " #   Column      Non-Null Count  Dtype \n",
      "---  ------      --------------  ----- \n",
      " 0   Hypothesis  9 non-null      object\n",
      " 1   Reach       9 non-null      int64 \n",
      " 2   Impact      9 non-null      int64 \n",
      " 3   Confidence  9 non-null      int64 \n",
      " 4   Efforts     9 non-null      int64 \n",
      "dtypes: int64(4), object(1)\n",
      "memory usage: 488.0+ bytes\n"
     ]
    }
   ],
   "source": [
    "hypothesis.info()"
   ]
  },
  {
   "cell_type": "code",
   "execution_count": 4,
   "metadata": {},
   "outputs": [
    {
     "data": {
      "text/html": [
       "<div>\n",
       "<style scoped>\n",
       "    .dataframe tbody tr th:only-of-type {\n",
       "        vertical-align: middle;\n",
       "    }\n",
       "\n",
       "    .dataframe tbody tr th {\n",
       "        vertical-align: top;\n",
       "    }\n",
       "\n",
       "    .dataframe thead th {\n",
       "        text-align: right;\n",
       "    }\n",
       "</style>\n",
       "<table border=\"1\" class=\"dataframe\">\n",
       "  <thead>\n",
       "    <tr style=\"text-align: right;\">\n",
       "      <th></th>\n",
       "      <th>Hypothesis</th>\n",
       "      <th>Reach</th>\n",
       "      <th>Impact</th>\n",
       "      <th>Confidence</th>\n",
       "      <th>Efforts</th>\n",
       "    </tr>\n",
       "  </thead>\n",
       "  <tbody>\n",
       "    <tr>\n",
       "      <th>0</th>\n",
       "      <td>Добавить два новых канала привлечения трафика,...</td>\n",
       "      <td>3</td>\n",
       "      <td>10</td>\n",
       "      <td>8</td>\n",
       "      <td>6</td>\n",
       "    </tr>\n",
       "    <tr>\n",
       "      <th>1</th>\n",
       "      <td>Запустить собственную службу доставки, что сок...</td>\n",
       "      <td>2</td>\n",
       "      <td>5</td>\n",
       "      <td>4</td>\n",
       "      <td>10</td>\n",
       "    </tr>\n",
       "    <tr>\n",
       "      <th>2</th>\n",
       "      <td>Добавить блоки рекомендаций товаров на сайт ин...</td>\n",
       "      <td>8</td>\n",
       "      <td>3</td>\n",
       "      <td>7</td>\n",
       "      <td>3</td>\n",
       "    </tr>\n",
       "    <tr>\n",
       "      <th>3</th>\n",
       "      <td>Изменить структура категорий, что увеличит кон...</td>\n",
       "      <td>8</td>\n",
       "      <td>3</td>\n",
       "      <td>3</td>\n",
       "      <td>8</td>\n",
       "    </tr>\n",
       "    <tr>\n",
       "      <th>4</th>\n",
       "      <td>Изменить цвет фона главной страницы, чтобы уве...</td>\n",
       "      <td>3</td>\n",
       "      <td>1</td>\n",
       "      <td>1</td>\n",
       "      <td>1</td>\n",
       "    </tr>\n",
       "  </tbody>\n",
       "</table>\n",
       "</div>"
      ],
      "text/plain": [
       "                                          Hypothesis  Reach  Impact  \\\n",
       "0  Добавить два новых канала привлечения трафика,...      3      10   \n",
       "1  Запустить собственную службу доставки, что сок...      2       5   \n",
       "2  Добавить блоки рекомендаций товаров на сайт ин...      8       3   \n",
       "3  Изменить структура категорий, что увеличит кон...      8       3   \n",
       "4  Изменить цвет фона главной страницы, чтобы уве...      3       1   \n",
       "\n",
       "   Confidence  Efforts  \n",
       "0           8        6  \n",
       "1           4       10  \n",
       "2           7        3  \n",
       "3           3        8  \n",
       "4           1        1  "
      ]
     },
     "execution_count": 4,
     "metadata": {},
     "output_type": "execute_result"
    }
   ],
   "source": [
    "hypothesis.head()"
   ]
  },
  {
   "cell_type": "code",
   "execution_count": 5,
   "metadata": {},
   "outputs": [
    {
     "name": "stdout",
     "output_type": "stream",
     "text": [
      "0\n"
     ]
    }
   ],
   "source": [
    "#Автоматический поиск дубликатов\n",
    "print(hypothesis.duplicated().sum())"
   ]
  },
  {
   "cell_type": "markdown",
   "metadata": {},
   "source": [
    "Полных дубликатов не выявлено."
   ]
  },
  {
   "cell_type": "code",
   "execution_count": 6,
   "metadata": {},
   "outputs": [
    {
     "data": {
      "text/html": [
       "<style  type=\"text/css\" >\n",
       "#T_cb398_row0_col0,#T_cb398_row1_col0,#T_cb398_row2_col0,#T_cb398_row3_col0,#T_cb398_row4_col0{\n",
       "            background-color:  #3b4cc0;\n",
       "            color:  #f1f1f1;\n",
       "        }</style><table id=\"T_cb398_\" ><thead>    <tr>        <th class=\"blank level0\" ></th>        <th class=\"col_heading level0 col0\" >0</th>    </tr></thead><tbody>\n",
       "                <tr>\n",
       "                        <th id=\"T_cb398_level0_row0\" class=\"row_heading level0 row0\" >Hypothesis</th>\n",
       "                        <td id=\"T_cb398_row0_col0\" class=\"data row0 col0\" >0.00%</td>\n",
       "            </tr>\n",
       "            <tr>\n",
       "                        <th id=\"T_cb398_level0_row1\" class=\"row_heading level0 row1\" >Reach</th>\n",
       "                        <td id=\"T_cb398_row1_col0\" class=\"data row1 col0\" >0.00%</td>\n",
       "            </tr>\n",
       "            <tr>\n",
       "                        <th id=\"T_cb398_level0_row2\" class=\"row_heading level0 row2\" >Impact</th>\n",
       "                        <td id=\"T_cb398_row2_col0\" class=\"data row2 col0\" >0.00%</td>\n",
       "            </tr>\n",
       "            <tr>\n",
       "                        <th id=\"T_cb398_level0_row3\" class=\"row_heading level0 row3\" >Confidence</th>\n",
       "                        <td id=\"T_cb398_row3_col0\" class=\"data row3 col0\" >0.00%</td>\n",
       "            </tr>\n",
       "            <tr>\n",
       "                        <th id=\"T_cb398_level0_row4\" class=\"row_heading level0 row4\" >Efforts</th>\n",
       "                        <td id=\"T_cb398_row4_col0\" class=\"data row4 col0\" >0.00%</td>\n",
       "            </tr>\n",
       "    </tbody></table>"
      ],
      "text/plain": [
       "<pandas.io.formats.style.Styler at 0x7fc9c447c760>"
      ]
     },
     "execution_count": 6,
     "metadata": {},
     "output_type": "execute_result"
    }
   ],
   "source": [
    "#Просмотр пропусков\n",
    "hypothesis.isna().mean().round(4).to_frame().sort_values(by=0).style.format('{:.2%}').background_gradient('coolwarm')"
   ]
  },
  {
   "cell_type": "markdown",
   "metadata": {},
   "source": [
    "Пропусков не выявлено."
   ]
  },
  {
   "cell_type": "code",
   "execution_count": 7,
   "metadata": {},
   "outputs": [
    {
     "name": "stdout",
     "output_type": "stream",
     "text": [
      "<class 'pandas.core.frame.DataFrame'>\n",
      "RangeIndex: 1197 entries, 0 to 1196\n",
      "Data columns (total 5 columns):\n",
      " #   Column         Non-Null Count  Dtype \n",
      "---  ------         --------------  ----- \n",
      " 0   transactionId  1197 non-null   int64 \n",
      " 1   visitorId      1197 non-null   int64 \n",
      " 2   date           1197 non-null   object\n",
      " 3   revenue        1197 non-null   int64 \n",
      " 4   group          1197 non-null   object\n",
      "dtypes: int64(3), object(2)\n",
      "memory usage: 46.9+ KB\n"
     ]
    }
   ],
   "source": [
    "orders.info()"
   ]
  },
  {
   "cell_type": "code",
   "execution_count": 8,
   "metadata": {},
   "outputs": [
    {
     "data": {
      "text/html": [
       "<div>\n",
       "<style scoped>\n",
       "    .dataframe tbody tr th:only-of-type {\n",
       "        vertical-align: middle;\n",
       "    }\n",
       "\n",
       "    .dataframe tbody tr th {\n",
       "        vertical-align: top;\n",
       "    }\n",
       "\n",
       "    .dataframe thead th {\n",
       "        text-align: right;\n",
       "    }\n",
       "</style>\n",
       "<table border=\"1\" class=\"dataframe\">\n",
       "  <thead>\n",
       "    <tr style=\"text-align: right;\">\n",
       "      <th></th>\n",
       "      <th>transactionId</th>\n",
       "      <th>visitorId</th>\n",
       "      <th>date</th>\n",
       "      <th>revenue</th>\n",
       "      <th>group</th>\n",
       "    </tr>\n",
       "  </thead>\n",
       "  <tbody>\n",
       "    <tr>\n",
       "      <th>0</th>\n",
       "      <td>3667963787</td>\n",
       "      <td>3312258926</td>\n",
       "      <td>2019-08-15</td>\n",
       "      <td>1650</td>\n",
       "      <td>B</td>\n",
       "    </tr>\n",
       "    <tr>\n",
       "      <th>1</th>\n",
       "      <td>2804400009</td>\n",
       "      <td>3642806036</td>\n",
       "      <td>2019-08-15</td>\n",
       "      <td>730</td>\n",
       "      <td>B</td>\n",
       "    </tr>\n",
       "    <tr>\n",
       "      <th>2</th>\n",
       "      <td>2961555356</td>\n",
       "      <td>4069496402</td>\n",
       "      <td>2019-08-15</td>\n",
       "      <td>400</td>\n",
       "      <td>A</td>\n",
       "    </tr>\n",
       "    <tr>\n",
       "      <th>3</th>\n",
       "      <td>3797467345</td>\n",
       "      <td>1196621759</td>\n",
       "      <td>2019-08-15</td>\n",
       "      <td>9759</td>\n",
       "      <td>B</td>\n",
       "    </tr>\n",
       "    <tr>\n",
       "      <th>4</th>\n",
       "      <td>2282983706</td>\n",
       "      <td>2322279887</td>\n",
       "      <td>2019-08-15</td>\n",
       "      <td>2308</td>\n",
       "      <td>B</td>\n",
       "    </tr>\n",
       "  </tbody>\n",
       "</table>\n",
       "</div>"
      ],
      "text/plain": [
       "   transactionId   visitorId        date  revenue group\n",
       "0     3667963787  3312258926  2019-08-15     1650     B\n",
       "1     2804400009  3642806036  2019-08-15      730     B\n",
       "2     2961555356  4069496402  2019-08-15      400     A\n",
       "3     3797467345  1196621759  2019-08-15     9759     B\n",
       "4     2282983706  2322279887  2019-08-15     2308     B"
      ]
     },
     "execution_count": 8,
     "metadata": {},
     "output_type": "execute_result"
    }
   ],
   "source": [
    "orders.head()"
   ]
  },
  {
   "cell_type": "code",
   "execution_count": 9,
   "metadata": {},
   "outputs": [
    {
     "name": "stdout",
     "output_type": "stream",
     "text": [
      "0\n"
     ]
    }
   ],
   "source": [
    "#Автоматический поиск дубликатов\n",
    "print(orders.duplicated().sum())"
   ]
  },
  {
   "cell_type": "markdown",
   "metadata": {},
   "source": [
    "Полных дубликатов не выявлено."
   ]
  },
  {
   "cell_type": "code",
   "execution_count": 10,
   "metadata": {},
   "outputs": [
    {
     "data": {
      "text/html": [
       "<style  type=\"text/css\" >\n",
       "#T_964d3_row0_col0,#T_964d3_row1_col0,#T_964d3_row2_col0,#T_964d3_row3_col0,#T_964d3_row4_col0{\n",
       "            background-color:  #3b4cc0;\n",
       "            color:  #f1f1f1;\n",
       "        }</style><table id=\"T_964d3_\" ><thead>    <tr>        <th class=\"blank level0\" ></th>        <th class=\"col_heading level0 col0\" >0</th>    </tr></thead><tbody>\n",
       "                <tr>\n",
       "                        <th id=\"T_964d3_level0_row0\" class=\"row_heading level0 row0\" >transactionId</th>\n",
       "                        <td id=\"T_964d3_row0_col0\" class=\"data row0 col0\" >0.00%</td>\n",
       "            </tr>\n",
       "            <tr>\n",
       "                        <th id=\"T_964d3_level0_row1\" class=\"row_heading level0 row1\" >visitorId</th>\n",
       "                        <td id=\"T_964d3_row1_col0\" class=\"data row1 col0\" >0.00%</td>\n",
       "            </tr>\n",
       "            <tr>\n",
       "                        <th id=\"T_964d3_level0_row2\" class=\"row_heading level0 row2\" >date</th>\n",
       "                        <td id=\"T_964d3_row2_col0\" class=\"data row2 col0\" >0.00%</td>\n",
       "            </tr>\n",
       "            <tr>\n",
       "                        <th id=\"T_964d3_level0_row3\" class=\"row_heading level0 row3\" >revenue</th>\n",
       "                        <td id=\"T_964d3_row3_col0\" class=\"data row3 col0\" >0.00%</td>\n",
       "            </tr>\n",
       "            <tr>\n",
       "                        <th id=\"T_964d3_level0_row4\" class=\"row_heading level0 row4\" >group</th>\n",
       "                        <td id=\"T_964d3_row4_col0\" class=\"data row4 col0\" >0.00%</td>\n",
       "            </tr>\n",
       "    </tbody></table>"
      ],
      "text/plain": [
       "<pandas.io.formats.style.Styler at 0x7fc997c3a670>"
      ]
     },
     "execution_count": 10,
     "metadata": {},
     "output_type": "execute_result"
    }
   ],
   "source": [
    "#Просмотр пропусков\n",
    "orders.isna().mean().round(4).to_frame().sort_values(by=0).style.format('{:.2%}').background_gradient('coolwarm')"
   ]
  },
  {
   "cell_type": "markdown",
   "metadata": {},
   "source": [
    "Пропусков не выявлено."
   ]
  },
  {
   "cell_type": "code",
   "execution_count": 11,
   "metadata": {},
   "outputs": [
    {
     "name": "stdout",
     "output_type": "stream",
     "text": [
      "<class 'pandas.core.frame.DataFrame'>\n",
      "RangeIndex: 62 entries, 0 to 61\n",
      "Data columns (total 3 columns):\n",
      " #   Column    Non-Null Count  Dtype \n",
      "---  ------    --------------  ----- \n",
      " 0   date      62 non-null     object\n",
      " 1   group     62 non-null     object\n",
      " 2   visitors  62 non-null     int64 \n",
      "dtypes: int64(1), object(2)\n",
      "memory usage: 1.6+ KB\n"
     ]
    }
   ],
   "source": [
    "visitors.info()"
   ]
  },
  {
   "cell_type": "code",
   "execution_count": 12,
   "metadata": {},
   "outputs": [
    {
     "data": {
      "text/html": [
       "<div>\n",
       "<style scoped>\n",
       "    .dataframe tbody tr th:only-of-type {\n",
       "        vertical-align: middle;\n",
       "    }\n",
       "\n",
       "    .dataframe tbody tr th {\n",
       "        vertical-align: top;\n",
       "    }\n",
       "\n",
       "    .dataframe thead th {\n",
       "        text-align: right;\n",
       "    }\n",
       "</style>\n",
       "<table border=\"1\" class=\"dataframe\">\n",
       "  <thead>\n",
       "    <tr style=\"text-align: right;\">\n",
       "      <th></th>\n",
       "      <th>date</th>\n",
       "      <th>group</th>\n",
       "      <th>visitors</th>\n",
       "    </tr>\n",
       "  </thead>\n",
       "  <tbody>\n",
       "    <tr>\n",
       "      <th>0</th>\n",
       "      <td>2019-08-01</td>\n",
       "      <td>A</td>\n",
       "      <td>719</td>\n",
       "    </tr>\n",
       "    <tr>\n",
       "      <th>1</th>\n",
       "      <td>2019-08-02</td>\n",
       "      <td>A</td>\n",
       "      <td>619</td>\n",
       "    </tr>\n",
       "    <tr>\n",
       "      <th>2</th>\n",
       "      <td>2019-08-03</td>\n",
       "      <td>A</td>\n",
       "      <td>507</td>\n",
       "    </tr>\n",
       "    <tr>\n",
       "      <th>3</th>\n",
       "      <td>2019-08-04</td>\n",
       "      <td>A</td>\n",
       "      <td>717</td>\n",
       "    </tr>\n",
       "    <tr>\n",
       "      <th>4</th>\n",
       "      <td>2019-08-05</td>\n",
       "      <td>A</td>\n",
       "      <td>756</td>\n",
       "    </tr>\n",
       "  </tbody>\n",
       "</table>\n",
       "</div>"
      ],
      "text/plain": [
       "         date group  visitors\n",
       "0  2019-08-01     A       719\n",
       "1  2019-08-02     A       619\n",
       "2  2019-08-03     A       507\n",
       "3  2019-08-04     A       717\n",
       "4  2019-08-05     A       756"
      ]
     },
     "execution_count": 12,
     "metadata": {},
     "output_type": "execute_result"
    }
   ],
   "source": [
    "visitors.head()"
   ]
  },
  {
   "cell_type": "code",
   "execution_count": 13,
   "metadata": {},
   "outputs": [
    {
     "name": "stdout",
     "output_type": "stream",
     "text": [
      "0\n"
     ]
    }
   ],
   "source": [
    "#Автоматический поиск дубликатов\n",
    "print(visitors.duplicated().sum())"
   ]
  },
  {
   "cell_type": "markdown",
   "metadata": {},
   "source": [
    "Полных дубликатов не выявлено."
   ]
  },
  {
   "cell_type": "code",
   "execution_count": 14,
   "metadata": {},
   "outputs": [
    {
     "data": {
      "text/html": [
       "<style  type=\"text/css\" >\n",
       "#T_401c3_row0_col0,#T_401c3_row1_col0,#T_401c3_row2_col0{\n",
       "            background-color:  #3b4cc0;\n",
       "            color:  #f1f1f1;\n",
       "        }</style><table id=\"T_401c3_\" ><thead>    <tr>        <th class=\"blank level0\" ></th>        <th class=\"col_heading level0 col0\" >0</th>    </tr></thead><tbody>\n",
       "                <tr>\n",
       "                        <th id=\"T_401c3_level0_row0\" class=\"row_heading level0 row0\" >date</th>\n",
       "                        <td id=\"T_401c3_row0_col0\" class=\"data row0 col0\" >0.00%</td>\n",
       "            </tr>\n",
       "            <tr>\n",
       "                        <th id=\"T_401c3_level0_row1\" class=\"row_heading level0 row1\" >group</th>\n",
       "                        <td id=\"T_401c3_row1_col0\" class=\"data row1 col0\" >0.00%</td>\n",
       "            </tr>\n",
       "            <tr>\n",
       "                        <th id=\"T_401c3_level0_row2\" class=\"row_heading level0 row2\" >visitors</th>\n",
       "                        <td id=\"T_401c3_row2_col0\" class=\"data row2 col0\" >0.00%</td>\n",
       "            </tr>\n",
       "    </tbody></table>"
      ],
      "text/plain": [
       "<pandas.io.formats.style.Styler at 0x7fc997c3c700>"
      ]
     },
     "execution_count": 14,
     "metadata": {},
     "output_type": "execute_result"
    }
   ],
   "source": [
    "#Просмотр пропусков\n",
    "visitors.isna().mean().round(4).to_frame().sort_values(by=0).style.format('{:.2%}').background_gradient('coolwarm')"
   ]
  },
  {
   "cell_type": "markdown",
   "metadata": {},
   "source": [
    "Пропусков не выявлено."
   ]
  },
  {
   "cell_type": "markdown",
   "metadata": {},
   "source": [
    "#### Вывод по блоку"
   ]
  },
  {
   "cell_type": "markdown",
   "metadata": {},
   "source": [
    "Во всех трех датафреймах нет дубликатов и проаусков. Стоить отметить, что сталбцы с датой представлены строчным типом, а не специальным типом для работы с датой, а также несколько столюцов начинаються с загравной буквы, что не совпадает с принятым стилем офрмлемления."
   ]
  },
  {
   "cell_type": "markdown",
   "metadata": {},
   "source": [
    "### Предобработка данных"
   ]
  },
  {
   "cell_type": "markdown",
   "metadata": {},
   "source": [
    "#### Приведение названий столбцов к нижнему регистру"
   ]
  },
  {
   "cell_type": "code",
   "execution_count": 15,
   "metadata": {},
   "outputs": [],
   "source": [
    "hypothesis.columns = hypothesis.columns.str.lower()"
   ]
  },
  {
   "cell_type": "markdown",
   "metadata": {},
   "source": [
    "#### Добавление \"_\" в названии столбцов"
   ]
  },
  {
   "cell_type": "code",
   "execution_count": 16,
   "metadata": {},
   "outputs": [],
   "source": [
    "orders.rename(columns = {'transactionId' : 'transaction_id', 'visitorId' : 'visitor_id'}, inplace = True)"
   ]
  },
  {
   "cell_type": "markdown",
   "metadata": {},
   "source": [
    "#### Преобразование типов данных в столбцах"
   ]
  },
  {
   "cell_type": "code",
   "execution_count": 17,
   "metadata": {},
   "outputs": [],
   "source": [
    "#Преобразование даты в visits к типу datetime\n",
    "orders['date'] = pd.to_datetime(orders['date'])\n",
    "visitors['date'] = pd.to_datetime(visitors['date'])"
   ]
  },
  {
   "cell_type": "markdown",
   "metadata": {},
   "source": [
    "#### Вывод по блоку"
   ]
  },
  {
   "cell_type": "markdown",
   "metadata": {},
   "source": [
    "Столбцы были приведены к стилестически правильному варианту. Стольбцы с датой с типом object были преобразованы в тип datetime."
   ]
  },
  {
   "cell_type": "markdown",
   "metadata": {},
   "source": [
    "### Приоритизация гипотез"
   ]
  },
  {
   "cell_type": "markdown",
   "metadata": {},
   "source": [
    "#### Применим фреймворк ICE для приоритизации гипотез. Отсортируем их по убыванию приоритета"
   ]
  },
  {
   "cell_type": "code",
   "execution_count": 18,
   "metadata": {
    "scrolled": true
   },
   "outputs": [
    {
     "data": {
      "text/html": [
       "<div>\n",
       "<style scoped>\n",
       "    .dataframe tbody tr th:only-of-type {\n",
       "        vertical-align: middle;\n",
       "    }\n",
       "\n",
       "    .dataframe tbody tr th {\n",
       "        vertical-align: top;\n",
       "    }\n",
       "\n",
       "    .dataframe thead th {\n",
       "        text-align: right;\n",
       "    }\n",
       "</style>\n",
       "<table border=\"1\" class=\"dataframe\">\n",
       "  <thead>\n",
       "    <tr style=\"text-align: right;\">\n",
       "      <th></th>\n",
       "      <th>hypothesis</th>\n",
       "      <th>ICE</th>\n",
       "    </tr>\n",
       "  </thead>\n",
       "  <tbody>\n",
       "    <tr>\n",
       "      <th>8</th>\n",
       "      <td>Запустить акцию, дающую скидку на товар в день рождения</td>\n",
       "      <td>16.200000</td>\n",
       "    </tr>\n",
       "    <tr>\n",
       "      <th>0</th>\n",
       "      <td>Добавить два новых канала привлечения трафика, что позволит привлекать на 30% больше пользователей</td>\n",
       "      <td>13.333333</td>\n",
       "    </tr>\n",
       "    <tr>\n",
       "      <th>7</th>\n",
       "      <td>Добавить форму подписки на все основные страницы, чтобы собрать базу клиентов для email-рассылок</td>\n",
       "      <td>11.200000</td>\n",
       "    </tr>\n",
       "    <tr>\n",
       "      <th>6</th>\n",
       "      <td>Показать на главной странице баннеры с актуальными акциями и распродажами, чтобы увеличить конверсию</td>\n",
       "      <td>8.000000</td>\n",
       "    </tr>\n",
       "    <tr>\n",
       "      <th>2</th>\n",
       "      <td>Добавить блоки рекомендаций товаров на сайт интернет магазина, чтобы повысить конверсию и средний чек заказа</td>\n",
       "      <td>7.000000</td>\n",
       "    </tr>\n",
       "    <tr>\n",
       "      <th>1</th>\n",
       "      <td>Запустить собственную службу доставки, что сократит срок доставки заказов</td>\n",
       "      <td>2.000000</td>\n",
       "    </tr>\n",
       "    <tr>\n",
       "      <th>5</th>\n",
       "      <td>Добавить страницу отзывов клиентов о магазине, что позволит увеличить количество заказов</td>\n",
       "      <td>1.333333</td>\n",
       "    </tr>\n",
       "    <tr>\n",
       "      <th>3</th>\n",
       "      <td>Изменить структура категорий, что увеличит конверсию, т.к. пользователи быстрее найдут нужный товар</td>\n",
       "      <td>1.125000</td>\n",
       "    </tr>\n",
       "    <tr>\n",
       "      <th>4</th>\n",
       "      <td>Изменить цвет фона главной страницы, чтобы увеличить вовлеченность пользователей</td>\n",
       "      <td>1.000000</td>\n",
       "    </tr>\n",
       "  </tbody>\n",
       "</table>\n",
       "</div>"
      ],
      "text/plain": [
       "                                                                                                     hypothesis  \\\n",
       "8                                                       Запустить акцию, дающую скидку на товар в день рождения   \n",
       "0            Добавить два новых канала привлечения трафика, что позволит привлекать на 30% больше пользователей   \n",
       "7              Добавить форму подписки на все основные страницы, чтобы собрать базу клиентов для email-рассылок   \n",
       "6          Показать на главной странице баннеры с актуальными акциями и распродажами, чтобы увеличить конверсию   \n",
       "2  Добавить блоки рекомендаций товаров на сайт интернет магазина, чтобы повысить конверсию и средний чек заказа   \n",
       "1                                     Запустить собственную службу доставки, что сократит срок доставки заказов   \n",
       "5                      Добавить страницу отзывов клиентов о магазине, что позволит увеличить количество заказов   \n",
       "3           Изменить структура категорий, что увеличит конверсию, т.к. пользователи быстрее найдут нужный товар   \n",
       "4                              Изменить цвет фона главной страницы, чтобы увеличить вовлеченность пользователей   \n",
       "\n",
       "         ICE  \n",
       "8  16.200000  \n",
       "0  13.333333  \n",
       "7  11.200000  \n",
       "6   8.000000  \n",
       "2   7.000000  \n",
       "1   2.000000  \n",
       "5   1.333333  \n",
       "3   1.125000  \n",
       "4   1.000000  "
      ]
     },
     "metadata": {},
     "output_type": "display_data"
    }
   ],
   "source": [
    "hypothesis['ICE'] = hypothesis['impact'] * hypothesis['confidence'] / hypothesis['efforts']\n",
    "pd.options.display.max_colwidth = 120\n",
    "display(hypothesis[['hypothesis', 'ICE']].sort_values(by='ICE', ascending = False))"
   ]
  },
  {
   "cell_type": "markdown",
   "metadata": {},
   "source": [
    "#### Применим фреймворк RICE для приоритизации гипотез. Отсортируем их по убыванию приоритета"
   ]
  },
  {
   "cell_type": "code",
   "execution_count": 19,
   "metadata": {},
   "outputs": [
    {
     "data": {
      "text/html": [
       "<div>\n",
       "<style scoped>\n",
       "    .dataframe tbody tr th:only-of-type {\n",
       "        vertical-align: middle;\n",
       "    }\n",
       "\n",
       "    .dataframe tbody tr th {\n",
       "        vertical-align: top;\n",
       "    }\n",
       "\n",
       "    .dataframe thead th {\n",
       "        text-align: right;\n",
       "    }\n",
       "</style>\n",
       "<table border=\"1\" class=\"dataframe\">\n",
       "  <thead>\n",
       "    <tr style=\"text-align: right;\">\n",
       "      <th></th>\n",
       "      <th>hypothesis</th>\n",
       "      <th>RICE</th>\n",
       "    </tr>\n",
       "  </thead>\n",
       "  <tbody>\n",
       "    <tr>\n",
       "      <th>7</th>\n",
       "      <td>Добавить форму подписки на все основные страницы, чтобы собрать базу клиентов для email-рассылок</td>\n",
       "      <td>112.0</td>\n",
       "    </tr>\n",
       "    <tr>\n",
       "      <th>2</th>\n",
       "      <td>Добавить блоки рекомендаций товаров на сайт интернет магазина, чтобы повысить конверсию и средний чек заказа</td>\n",
       "      <td>56.0</td>\n",
       "    </tr>\n",
       "    <tr>\n",
       "      <th>0</th>\n",
       "      <td>Добавить два новых канала привлечения трафика, что позволит привлекать на 30% больше пользователей</td>\n",
       "      <td>40.0</td>\n",
       "    </tr>\n",
       "    <tr>\n",
       "      <th>6</th>\n",
       "      <td>Показать на главной странице баннеры с актуальными акциями и распродажами, чтобы увеличить конверсию</td>\n",
       "      <td>40.0</td>\n",
       "    </tr>\n",
       "    <tr>\n",
       "      <th>8</th>\n",
       "      <td>Запустить акцию, дающую скидку на товар в день рождения</td>\n",
       "      <td>16.2</td>\n",
       "    </tr>\n",
       "    <tr>\n",
       "      <th>3</th>\n",
       "      <td>Изменить структура категорий, что увеличит конверсию, т.к. пользователи быстрее найдут нужный товар</td>\n",
       "      <td>9.0</td>\n",
       "    </tr>\n",
       "    <tr>\n",
       "      <th>1</th>\n",
       "      <td>Запустить собственную службу доставки, что сократит срок доставки заказов</td>\n",
       "      <td>4.0</td>\n",
       "    </tr>\n",
       "    <tr>\n",
       "      <th>5</th>\n",
       "      <td>Добавить страницу отзывов клиентов о магазине, что позволит увеличить количество заказов</td>\n",
       "      <td>4.0</td>\n",
       "    </tr>\n",
       "    <tr>\n",
       "      <th>4</th>\n",
       "      <td>Изменить цвет фона главной страницы, чтобы увеличить вовлеченность пользователей</td>\n",
       "      <td>3.0</td>\n",
       "    </tr>\n",
       "  </tbody>\n",
       "</table>\n",
       "</div>"
      ],
      "text/plain": [
       "                                                                                                     hypothesis  \\\n",
       "7              Добавить форму подписки на все основные страницы, чтобы собрать базу клиентов для email-рассылок   \n",
       "2  Добавить блоки рекомендаций товаров на сайт интернет магазина, чтобы повысить конверсию и средний чек заказа   \n",
       "0            Добавить два новых канала привлечения трафика, что позволит привлекать на 30% больше пользователей   \n",
       "6          Показать на главной странице баннеры с актуальными акциями и распродажами, чтобы увеличить конверсию   \n",
       "8                                                       Запустить акцию, дающую скидку на товар в день рождения   \n",
       "3           Изменить структура категорий, что увеличит конверсию, т.к. пользователи быстрее найдут нужный товар   \n",
       "1                                     Запустить собственную службу доставки, что сократит срок доставки заказов   \n",
       "5                      Добавить страницу отзывов клиентов о магазине, что позволит увеличить количество заказов   \n",
       "4                              Изменить цвет фона главной страницы, чтобы увеличить вовлеченность пользователей   \n",
       "\n",
       "    RICE  \n",
       "7  112.0  \n",
       "2   56.0  \n",
       "0   40.0  \n",
       "6   40.0  \n",
       "8   16.2  \n",
       "3    9.0  \n",
       "1    4.0  \n",
       "5    4.0  \n",
       "4    3.0  "
      ]
     },
     "metadata": {},
     "output_type": "display_data"
    }
   ],
   "source": [
    "hypothesis['RICE'] = hypothesis['reach'] * hypothesis['impact'] * hypothesis['confidence'] / hypothesis['efforts']\n",
    "display(hypothesis[['hypothesis', 'RICE']].sort_values(by='RICE', ascending = False))"
   ]
  },
  {
   "cell_type": "markdown",
   "metadata": {},
   "source": [
    "#### Укажем, как изменилась приоритизация гипотез при применении RICE вместо ICE. Объясним, почему так произошло"
   ]
  },
  {
   "cell_type": "markdown",
   "metadata": {},
   "source": [
    "Гипотезы 3, 1, 5, 4 остались на четырех нижних позициях, но они поменялись местами. Сильно изменилась позиция гипотез 2, 8. Осатльные гипотезы остались вверху, но немного сместились их места.\n",
    "\n",
    "Такие изменения произошли, потому что добавился параметр Confidence в фреймворке RICE, появилась оценка сколько пользователей подвержено изменению и оценка трудозатрат, и рисков их увеличения нет, либо они низкие.\n",
    "\n",
    "Так на примере фурмулировок первых трех гипотез из фреймворка RICE видно, что на первый план вышли количественные гипотезы, где примерно можно оценить число клиентов, которых затрагивают данные гипотезы."
   ]
  },
  {
   "cell_type": "markdown",
   "metadata": {},
   "source": [
    "### Анализ A/B-теста"
   ]
  },
  {
   "cell_type": "markdown",
   "metadata": {},
   "source": [
    "#### Сколько у нас групп в АВ-тесте"
   ]
  },
  {
   "cell_type": "code",
   "execution_count": 20,
   "metadata": {
    "scrolled": false
   },
   "outputs": [
    {
     "data": {
      "text/plain": [
       "B    640\n",
       "A    557\n",
       "Name: group, dtype: int64"
      ]
     },
     "execution_count": 20,
     "metadata": {},
     "output_type": "execute_result"
    }
   ],
   "source": [
    "orders['group'].value_counts()"
   ]
  },
  {
   "cell_type": "code",
   "execution_count": 21,
   "metadata": {
    "scrolled": true
   },
   "outputs": [
    {
     "data": {
      "text/plain": [
       "A    31\n",
       "B    31\n",
       "Name: group, dtype: int64"
      ]
     },
     "execution_count": 21,
     "metadata": {},
     "output_type": "execute_result"
    }
   ],
   "source": [
    "visitors['group'].value_counts()"
   ]
  },
  {
   "cell_type": "markdown",
   "metadata": {},
   "source": [
    "В тесте учавствуют две группы. В группе B учавствуют 640 человек, а в группе A 557 человек. "
   ]
  },
  {
   "cell_type": "code",
   "execution_count": 22,
   "metadata": {},
   "outputs": [
    {
     "data": {
      "text/plain": [
       "Timestamp('2019-08-31 00:00:00')"
      ]
     },
     "execution_count": 22,
     "metadata": {},
     "output_type": "execute_result"
    }
   ],
   "source": [
    "orders['date'].max()"
   ]
  },
  {
   "cell_type": "code",
   "execution_count": 23,
   "metadata": {},
   "outputs": [
    {
     "data": {
      "text/plain": [
       "Timestamp('2019-08-01 00:00:00')"
      ]
     },
     "execution_count": 23,
     "metadata": {},
     "output_type": "execute_result"
    }
   ],
   "source": [
    "orders['date'].min()"
   ]
  },
  {
   "cell_type": "code",
   "execution_count": 24,
   "metadata": {},
   "outputs": [
    {
     "data": {
      "text/plain": [
       "Timestamp('2019-08-31 00:00:00')"
      ]
     },
     "execution_count": 24,
     "metadata": {},
     "output_type": "execute_result"
    }
   ],
   "source": [
    "visitors['date'].max()"
   ]
  },
  {
   "cell_type": "code",
   "execution_count": 25,
   "metadata": {
    "scrolled": false
   },
   "outputs": [
    {
     "data": {
      "text/plain": [
       "Timestamp('2019-08-01 00:00:00')"
      ]
     },
     "execution_count": 25,
     "metadata": {},
     "output_type": "execute_result"
    }
   ],
   "source": [
    "visitors['date'].min()"
   ]
  },
  {
   "cell_type": "markdown",
   "metadata": {},
   "source": [
    "Дата начала теста 2019-08-01, дата окончания теста 2019-08-31"
   ]
  },
  {
   "cell_type": "code",
   "execution_count": 26,
   "metadata": {
    "scrolled": true
   },
   "outputs": [
    {
     "data": {
      "text/html": [
       "<div>\n",
       "<style scoped>\n",
       "    .dataframe tbody tr th:only-of-type {\n",
       "        vertical-align: middle;\n",
       "    }\n",
       "\n",
       "    .dataframe tbody tr th {\n",
       "        vertical-align: top;\n",
       "    }\n",
       "\n",
       "    .dataframe thead th {\n",
       "        text-align: right;\n",
       "    }\n",
       "</style>\n",
       "<table border=\"1\" class=\"dataframe\">\n",
       "  <thead>\n",
       "    <tr style=\"text-align: right;\">\n",
       "      <th></th>\n",
       "      <th>transaction_id</th>\n",
       "      <th>visitor_id</th>\n",
       "      <th>date</th>\n",
       "      <th>revenue</th>\n",
       "      <th>group</th>\n",
       "    </tr>\n",
       "  </thead>\n",
       "  <tbody>\n",
       "  </tbody>\n",
       "</table>\n",
       "</div>"
      ],
      "text/plain": [
       "Empty DataFrame\n",
       "Columns: [transaction_id, visitor_id, date, revenue, group]\n",
       "Index: []"
      ]
     },
     "execution_count": 26,
     "metadata": {},
     "output_type": "execute_result"
    }
   ],
   "source": [
    "orders.query('group == \"A\" and group == \"B\"')"
   ]
  },
  {
   "cell_type": "markdown",
   "metadata": {},
   "source": [
    "Один пользовательно принадлежит только одной группе."
   ]
  },
  {
   "cell_type": "code",
   "execution_count": 32,
   "metadata": {},
   "outputs": [
    {
     "data": {
      "text/html": [
       "<div>\n",
       "<style scoped>\n",
       "    .dataframe tbody tr th:only-of-type {\n",
       "        vertical-align: middle;\n",
       "    }\n",
       "\n",
       "    .dataframe tbody tr th {\n",
       "        vertical-align: top;\n",
       "    }\n",
       "\n",
       "    .dataframe thead th {\n",
       "        text-align: right;\n",
       "    }\n",
       "</style>\n",
       "<table border=\"1\" class=\"dataframe\">\n",
       "  <thead>\n",
       "    <tr style=\"text-align: right;\">\n",
       "      <th></th>\n",
       "      <th>transaction_id</th>\n",
       "      <th>visitor_id</th>\n",
       "      <th>date</th>\n",
       "      <th>revenue</th>\n",
       "      <th>group</th>\n",
       "    </tr>\n",
       "  </thead>\n",
       "  <tbody>\n",
       "    <tr>\n",
       "      <th>71</th>\n",
       "      <td>3679129301</td>\n",
       "      <td>8300375</td>\n",
       "      <td>2019-08-01</td>\n",
       "      <td>10510</td>\n",
       "      <td>B</td>\n",
       "    </tr>\n",
       "    <tr>\n",
       "      <th>703</th>\n",
       "      <td>4293855558</td>\n",
       "      <td>8300375</td>\n",
       "      <td>2019-08-07</td>\n",
       "      <td>1790</td>\n",
       "      <td>A</td>\n",
       "    </tr>\n",
       "  </tbody>\n",
       "</table>\n",
       "</div>"
      ],
      "text/plain": [
       "     transaction_id  visitor_id       date  revenue group\n",
       "71       3679129301     8300375 2019-08-01    10510     B\n",
       "703      4293855558     8300375 2019-08-07     1790     A"
      ]
     },
     "execution_count": 32,
     "metadata": {},
     "output_type": "execute_result"
    }
   ],
   "source": [
    "orders.query('visitor_id == 8300375')"
   ]
  },
  {
   "cell_type": "code",
   "execution_count": 29,
   "metadata": {},
   "outputs": [
    {
     "data": {
      "text/plain": [
       "2          8300375\n",
       "44       199603092\n",
       "51       232979603\n",
       "55       237748145\n",
       "66       276558944\n",
       "84       351125977\n",
       "97       393266494\n",
       "114      457167155\n",
       "119      471551937\n",
       "122      477780734\n",
       "192      818047933\n",
       "236      963407295\n",
       "299     1230306981\n",
       "311     1294878855\n",
       "316     1316129916\n",
       "318     1333886533\n",
       "340     1404934699\n",
       "386     1602967004\n",
       "393     1614305549\n",
       "402     1648269707\n",
       "406     1668030113\n",
       "422     1738359350\n",
       "436     1801183820\n",
       "469     1959144690\n",
       "487     2038680547\n",
       "491     2044997962\n",
       "569     2378935119\n",
       "591     2458001652\n",
       "614     2579882178\n",
       "619     2587333274\n",
       "622     2600415354\n",
       "639     2654030115\n",
       "648     2686716486\n",
       "661     2712142231\n",
       "662     2716752286\n",
       "677     2780786433\n",
       "710     2927087541\n",
       "715     2949041841\n",
       "718     2954449915\n",
       "744     3062433592\n",
       "784     3202540741\n",
       "792     3234906277\n",
       "884     3656415546\n",
       "897     3717692402\n",
       "909     3766097110\n",
       "917     3803269165\n",
       "932     3891541246\n",
       "950     3941795274\n",
       "954     3951559397\n",
       "957     3957174400\n",
       "958     3963646447\n",
       "960     3972127743\n",
       "963     3984495233\n",
       "984     4069496402\n",
       "992     4120364173\n",
       "1009    4186807279\n",
       "1023    4256040402\n",
       "1026    4266935830\n",
       "Name: visitor_id, dtype: int64"
      ]
     },
     "execution_count": 29,
     "metadata": {},
     "output_type": "execute_result"
    }
   ],
   "source": [
    "orders.groupby('visitor_id').agg({'group' : 'nunique'}).reset_index().query('group>1')['visitor_id']"
   ]
  },
  {
   "cell_type": "markdown",
   "metadata": {},
   "source": [
    "#### Построим график кумулятивной выручки по группам. Сделаем выводы и предположения."
   ]
  },
  {
   "cell_type": "markdown",
   "metadata": {},
   "source": [
    "Чтобы построить графики, нужно собрать кумулятивные данные. Объявим датафрейм cumulativeData со столбцами: \n",
    "\n",
    "<ul>\n",
    "<li>date — дата;</li>\n",
    "<li>group — группа A/B-теста (A или B);</li>\n",
    "<li>orders — кумулятивное количество заказов на указанную дату в указанной группе;</li>\n",
    "<li>buyers — кумулятивное количество пользователей, совершивших хотя бы один заказ, на указанную дату в указанной группе;</li>\n",
    "<li>revenue — кумулятивная выручка на указанную дату в указанной группе (средний чек);</li>\n",
    "<li>visitors — кумулятивное количество посетителей интернет-магазина на указанную дату в определённой группе.</li>\n",
    "</ul>"
   ]
  },
  {
   "cell_type": "code",
   "execution_count": 27,
   "metadata": {
    "scrolled": true
   },
   "outputs": [
    {
     "name": "stdout",
     "output_type": "stream",
     "text": [
      "        date group  orders  buyers  revenue  visitors\n",
      "0 2019-08-01     A      24      20   148579       719\n",
      "1 2019-08-01     B      21      20   101217       713\n",
      "2 2019-08-02     A      44      38   242401      1338\n",
      "3 2019-08-02     B      45      43   266748      1294\n",
      "4 2019-08-03     A      68      62   354874      1845\n"
     ]
    }
   ],
   "source": [
    "# создаем массив уникальных пар значений дат и групп теста\n",
    "datesGroups = orders[['date','group']].drop_duplicates()\n",
    "\n",
    "# получаем агрегированные кумулятивные по дням данные о заказах \n",
    "ordersAggregated = datesGroups.apply(lambda x: orders[np.logical_and(orders['date'] <= x['date'],\n",
    "                                     orders['group'] == x['group'])].agg({'date' : 'max', 'group' : 'max',\n",
    "                                     'transaction_id' : 'nunique', 'visitor_id' : 'nunique', 'revenue' : 'sum'}),\n",
    "                                     axis=1).sort_values(by=['date','group'])\n",
    "\n",
    "# получаем агрегированные кумулятивные по дням данные о посетителях интернет-магазина \n",
    "visitorsAggregated = datesGroups.apply(lambda x: visitors[np.logical_and(visitors['date'] <= x['date'],\n",
    "                                       visitors['group'] == x['group'])].agg({'date' : 'max', 'group' : 'max',\n",
    "                                       'visitors' : 'sum'}), axis=1).sort_values(by=['date','group'])\n",
    "\n",
    "# объединяем кумулятивные данные в одной таблице и присваиваем ее столбцам понятные названия\n",
    "cumulativeData = ordersAggregated.merge(visitorsAggregated, left_on=['date', 'group'], right_on=['date', 'group'])\n",
    "cumulativeData.columns = ['date', 'group', 'orders', 'buyers', 'revenue', 'visitors']\n",
    "\n",
    "print(cumulativeData.head(5)) "
   ]
  },
  {
   "cell_type": "markdown",
   "metadata": {},
   "source": [
    "Построим графики кумулятивной выручки по дням и группам A/B-тестирования: "
   ]
  },
  {
   "cell_type": "code",
   "execution_count": 28,
   "metadata": {},
   "outputs": [
    {
     "data": {
      "image/png": "[encoded data removed]",
      "text/plain": [
       "<Figure size 720x576 with 1 Axes>"
      ]
     },
     "metadata": {
      "needs_background": "light"
     },
     "output_type": "display_data"
    }
   ],
   "source": [
    "# датафрейм с кумулятивным количеством заказов и кумулятивной выручкой по дням в группе А\n",
    "cumulativeRevenueA = cumulativeData[cumulativeData['group']=='A'][['date','revenue', 'orders']]\n",
    "\n",
    "# датафрейм с кумулятивным количеством заказов и кумулятивной выручкой по дням в группе B\n",
    "cumulativeRevenueB = cumulativeData[cumulativeData['group']=='B'][['date','revenue', 'orders']]\n",
    "\n",
    "plt.figure(figsize=(10, 8))\n",
    "\n",
    "# Строим график выручки группы А\n",
    "plt.plot(cumulativeRevenueA['date'], cumulativeRevenueA['revenue'], label='A')\n",
    "\n",
    "# Строим график выручки группы B\n",
    "plt.plot(cumulativeRevenueB['date'], cumulativeRevenueB['revenue'], label='B')\n",
    "\n",
    "plt.title('График динамики кумулятивной выручки по группам А и В')\n",
    "plt.ylabel(\"Выручка, млн.\")\n",
    "plt.xticks(rotation=60)\n",
    "plt.legend() \n",
    "plt.show()"
   ]
  },
  {
   "cell_type": "markdown",
   "metadata": {},
   "source": [
    "Выручка почти равномерно увеличивается в течение всего теста. Хороший знак. Однако график выручки группы B 18 августа резко растет. Это может сигнализировать о всплесках числа заказов, либо о появлении очень дорогих заказов в выборке."
   ]
  },
  {
   "cell_type": "markdown",
   "metadata": {},
   "source": [
    "#### Построим график кумулятивного среднего чека по группам. Сделаем выводы и предположения."
   ]
  },
  {
   "cell_type": "code",
   "execution_count": 29,
   "metadata": {},
   "outputs": [
    {
     "data": {
      "image/png": "[encoded data removed]",
      "text/plain": [
       "<Figure size 720x576 with 1 Axes>"
      ]
     },
     "metadata": {
      "needs_background": "light"
     },
     "output_type": "display_data"
    }
   ],
   "source": [
    "plt.figure(figsize=(10, 8))\n",
    "plt.plot(cumulativeRevenueA['date'], cumulativeRevenueA['revenue']/cumulativeRevenueA['orders'], label='A')\n",
    "plt.plot(cumulativeRevenueB['date'], cumulativeRevenueB['revenue']/cumulativeRevenueB['orders'], label='B')\n",
    "plt.title('График динамики кумулятивного среднего чека по группам А и В')\n",
    "plt.ylabel(\"Выручка, млн.\")\n",
    "plt.xticks(rotation=60)\n",
    "plt.legend() \n",
    "plt.show()"
   ]
  },
  {
   "cell_type": "markdown",
   "metadata": {},
   "source": [
    "Видим сказки в обеих группах, что говорит в пользу предположения о крупном заказе."
   ]
  },
  {
   "cell_type": "markdown",
   "metadata": {},
   "source": [
    "#### Построим график относительного изменения кумулятивного среднего чека группы B к группе A. Сделаем выводы и предположения."
   ]
  },
  {
   "cell_type": "code",
   "execution_count": 30,
   "metadata": {},
   "outputs": [
    {
     "data": {
      "image/png": "[encoded data removed]",
      "text/plain": [
       "<Figure size 720x576 with 1 Axes>"
      ]
     },
     "metadata": {
      "needs_background": "light"
     },
     "output_type": "display_data"
    }
   ],
   "source": [
    "# собираем данные в одном датафрейме\n",
    "mergedCumulativeRevenue = cumulativeRevenueA.merge(cumulativeRevenueB, left_on='date', right_on='date',\n",
    "                                                   how='left', suffixes=['A', 'B'])\n",
    "\n",
    "plt.figure(figsize=(10, 8))\n",
    "\n",
    "# cтроим отношение средних чеков\n",
    "plt.plot(mergedCumulativeRevenue['date'], (mergedCumulativeRevenue['revenueB']/\n",
    "                                           mergedCumulativeRevenue['ordersB'])/\n",
    "         (mergedCumulativeRevenue['revenueA']/mergedCumulativeRevenue['ordersA'])-1)\n",
    "\n",
    "# добавляем ось X\n",
    "plt.axhline(y=0, color='black', linestyle='--') \n",
    "plt.title('График относительного изменения кумулятивного среднего чека группы B к группе A')\n",
    "plt.xticks(rotation=60)\n",
    "plt.show()"
   ]
  },
  {
   "cell_type": "markdown",
   "metadata": {},
   "source": [
    "В нескольких точках график различия между сегментами резко «скачет». Где-то точно появились крупные заказы и выбросы."
   ]
  },
  {
   "cell_type": "markdown",
   "metadata": {},
   "source": [
    "#### Построим график кумулятивного среднего количества заказов на посетителя по группам. Сделаем выводы и предположения."
   ]
  },
  {
   "cell_type": "code",
   "execution_count": 31,
   "metadata": {},
   "outputs": [
    {
     "data": {
      "image/png": "[encoded data removed]",
      "text/plain": [
       "<Figure size 720x576 with 1 Axes>"
      ]
     },
     "metadata": {
      "needs_background": "light"
     },
     "output_type": "display_data"
    }
   ],
   "source": [
    "# считаем кумулятивную конверсию\n",
    "cumulativeData['conversion'] = cumulativeData['orders']/cumulativeData['visitors']\n",
    "\n",
    "# отделяем данные по группе A\n",
    "cumulativeDataA = cumulativeData[cumulativeData['group']=='A']\n",
    "\n",
    "# отделяем данные по группе B\n",
    "cumulativeDataB = cumulativeData[cumulativeData['group']=='B']\n",
    "\n",
    "# строим графики\n",
    "plt.figure(figsize=(10, 8))\n",
    "plt.plot(cumulativeDataA['date'], cumulativeDataA['conversion'], label='A')\n",
    "plt.plot(cumulativeDataB['date'], cumulativeDataB['conversion'], label='B')\n",
    "plt.title('график кумулятивного среднего количества заказов на посетителя по группам')\n",
    "plt.xticks(rotation=60)\n",
    "plt.legend()\n",
    "plt.show()"
   ]
  },
  {
   "cell_type": "markdown",
   "metadata": {},
   "source": [
    "Конверсия группы A хуже по сравнению с группой B."
   ]
  },
  {
   "cell_type": "markdown",
   "metadata": {},
   "source": [
    "#### Построим график относительного изменения кумулятивного среднего количества заказов на посетителя группы B к группе A. Сделаем выводы и предположения."
   ]
  },
  {
   "cell_type": "code",
   "execution_count": 32,
   "metadata": {},
   "outputs": [
    {
     "data": {
      "image/png": "[encoded data removed]",
      "text/plain": [
       "<Figure size 720x576 with 1 Axes>"
      ]
     },
     "metadata": {
      "needs_background": "light"
     },
     "output_type": "display_data"
    }
   ],
   "source": [
    "mergedCumulativeConversions = cumulativeDataA[['date','conversion']].merge(cumulativeDataB[\n",
    "    ['date','conversion']], left_on='date', right_on='date', how='left', suffixes=['A', 'B'])\n",
    "\n",
    "plt.figure(figsize=(10, 8))\n",
    "plt.plot(mergedCumulativeConversions['date'], mergedCumulativeConversions['conversionB']/\n",
    "         mergedCumulativeConversions['conversionA']-1,\n",
    "         label=\"Относительный прирост конверсии группы B относительно группы A\")\n",
    "\n",
    "plt.axhline(y=0, color='black', linestyle='--')\n",
    "plt.axhline(y=0.1, color='grey', linestyle='--')\n",
    "plt.title('график относительного изменения кумулятивного среднего количества заказов на посетителя группы B к группе A')\n",
    "plt.xticks(rotation=60)\n",
    "plt.show()"
   ]
  },
  {
   "cell_type": "markdown",
   "metadata": {},
   "source": [
    "В начале теста группа B значительно проигрывала группе A, затем вырвалась вперёд."
   ]
  },
  {
   "cell_type": "markdown",
   "metadata": {},
   "source": [
    "#### Построим точечный график количества заказов по пользователям. Сделаем выводы и предположения."
   ]
  },
  {
   "cell_type": "code",
   "execution_count": 33,
   "metadata": {},
   "outputs": [
    {
     "data": {
      "image/png": "[encoded data removed]",
      "text/plain": [
       "<Figure size 720x576 with 1 Axes>"
      ]
     },
     "metadata": {
      "needs_background": "light"
     },
     "output_type": "display_data"
    }
   ],
   "source": [
    "ordersByUsers = (\n",
    "    orders.groupby('visitor_id', as_index=False)\n",
    "    .agg({'transaction_id': 'nunique'})\n",
    ")\n",
    "\n",
    "ordersByUsers.columns = ['visitor_id', 'orders']\n",
    "\n",
    "x_values = pd.Series(range(0,len(ordersByUsers)))\n",
    "\n",
    "plt.figure(figsize=(10, 8))\n",
    "plt.scatter(x_values, ordersByUsers['orders']) \n",
    "plt.title('График числа заказов на одного пользователя')\n",
    "plt.show()"
   ]
  },
  {
   "cell_type": "markdown",
   "metadata": {},
   "source": [
    "Большинство покупателей заказывали только один раз. Однако доля пользователей с 2-3 заказами тоже значительна. "
   ]
  },
  {
   "cell_type": "markdown",
   "metadata": {},
   "source": [
    "####  Посчитаем 95-й и 99-й перцентили количества заказов на пользователя. Выберем границу для определения аномальных пользователей"
   ]
  },
  {
   "cell_type": "code",
   "execution_count": 34,
   "metadata": {},
   "outputs": [
    {
     "name": "stdout",
     "output_type": "stream",
     "text": [
      "[2. 4.]\n"
     ]
    }
   ],
   "source": [
    "print(np.percentile(ordersByUsers['orders'], [95, 99]))"
   ]
  },
  {
   "cell_type": "markdown",
   "metadata": {},
   "source": [
    "Не более 5% пользователей оформляли больше чем 2 заказа. И 1% пользователей заказывали более четырех раз. За верхнюю границу возьмем пользлователей с тремя заказами, так как принято отсеивать от 1% до 5% наблюдений с крайними значениями, которые могу повлиять на результат, то такая граница допустима. "
   ]
  },
  {
   "cell_type": "markdown",
   "metadata": {},
   "source": [
    "####  Построим точечный график стоимостей заказов. Сделаем выводы и предположения"
   ]
  },
  {
   "cell_type": "code",
   "execution_count": 35,
   "metadata": {},
   "outputs": [
    {
     "data": {
      "image/png": "[encoded data removed]",
      "text/plain": [
       "<Figure size 720x576 with 1 Axes>"
      ]
     },
     "metadata": {
      "needs_background": "light"
     },
     "output_type": "display_data"
    }
   ],
   "source": [
    "x_values = pd.Series(range(0,len(orders['revenue'])))\n",
    "\n",
    "plt.figure(figsize=(10, 8))\n",
    "plt.scatter(x_values, orders['revenue'])\n",
    "plt.title('График стоимостей заказов')\n",
    "plt.show()"
   ]
  },
  {
   "cell_type": "markdown",
   "metadata": {},
   "source": [
    "Видим два выброса, которые могут повлиять на результат."
   ]
  },
  {
   "cell_type": "code",
   "execution_count": 36,
   "metadata": {},
   "outputs": [
    {
     "data": {
      "image/png": "[encoded data removed]",
      "text/plain": [
       "<Figure size 720x576 with 1 Axes>"
      ]
     },
     "metadata": {
      "needs_background": "light"
     },
     "output_type": "display_data"
    }
   ],
   "source": [
    "x_values = pd.Series(range(0,len(orders['revenue'])))\n",
    "plt.figure(figsize=(10, 8))\n",
    "plt.ylim(0, 300000)\n",
    "plt.scatter(x_values, orders['revenue'])\n",
    "plt.title('График стоимостей заказов')\n",
    "plt.show()"
   ]
  },
  {
   "cell_type": "markdown",
   "metadata": {},
   "source": [
    "#### Посчитаем 95-й и 99-й перцентили стоимости заказов. Выберем границу для определения аномальных заказов"
   ]
  },
  {
   "cell_type": "code",
   "execution_count": 37,
   "metadata": {},
   "outputs": [
    {
     "name": "stdout",
     "output_type": "stream",
     "text": [
      "[28000.  58233.2]\n"
     ]
    }
   ],
   "source": [
    "print(np.percentile(orders['revenue'], [95, 99])) "
   ]
  },
  {
   "cell_type": "markdown",
   "metadata": {},
   "source": [
    "За верхнюю границу возьмем 58233."
   ]
  },
  {
   "cell_type": "markdown",
   "metadata": {},
   "source": [
    "#### Посчитаем статистическую значимость различий в среднем количестве заказов на посетителя между группами по «сырым» данным. Сделаем выводы и предположения"
   ]
  },
  {
   "cell_type": "markdown",
   "metadata": {},
   "source": [
    "Для проверки всех гипотез используется критерий Манна-Уитни, с уровнем значимости 0.05."
   ]
  },
  {
   "cell_type": "markdown",
   "metadata": {},
   "source": [
    "Нулевая гипотеза: различий в среднем количестве заказов между группами нет. \n",
    "\n",
    "Альтернативная: различия в среднем между группами есть."
   ]
  },
  {
   "cell_type": "code",
   "execution_count": 38,
   "metadata": {},
   "outputs": [
    {
     "name": "stdout",
     "output_type": "stream",
     "text": [
      "        date  ordersPerDateA  revenuePerDateA  ordersPerDateB  \\\n",
      "0 2019-08-01              24           148579              21   \n",
      "1 2019-08-02              20            93822              24   \n",
      "2 2019-08-03              24           112473              16   \n",
      "3 2019-08-04              16            70825              17   \n",
      "4 2019-08-05              25           124218              23   \n",
      "\n",
      "   revenuePerDateB  ordersCummulativeA  revenueCummulativeA  \\\n",
      "0           101217                  24               148579   \n",
      "1           165531                  44               242401   \n",
      "2           114248                  68               354874   \n",
      "3           108571                  84               425699   \n",
      "4            92428                 109               549917   \n",
      "\n",
      "   ordersCummulativeB  revenueCummulativeB  visitorsPerDateA  \\\n",
      "0                  21               101217               719   \n",
      "1                  45               266748               619   \n",
      "2                  61               380996               507   \n",
      "3                  78               489567               717   \n",
      "4                 101               581995               756   \n",
      "\n",
      "   visitorsPerDateB  visitorsCummulativeA  visitorsCummulativeB  \n",
      "0               713                   719                   713  \n",
      "1               581                  1338                  1294  \n",
      "2               509                  1845                  1803  \n",
      "3               770                  2562                  2573  \n",
      "4               707                  3318                  3280  \n"
     ]
    }
   ],
   "source": [
    "visitorsADaily = visitors[visitors['group'] == 'A'][['date', 'visitors']]\n",
    "visitorsADaily.columns = ['date', 'visitorsPerDateA']\n",
    "\n",
    "visitorsACummulative = visitorsADaily.apply(\n",
    "    lambda x: visitorsADaily[visitorsADaily['date'] <= x['date']].agg(\n",
    "        {'date': 'max', 'visitorsPerDateA': 'sum'}\n",
    "    ),\n",
    "    axis=1,\n",
    ")\n",
    "visitorsACummulative.columns = ['date', 'visitorsCummulativeA']\n",
    "\n",
    "visitorsBDaily = visitors[visitors['group'] == 'B'][['date', 'visitors']]\n",
    "visitorsBDaily.columns = ['date', 'visitorsPerDateB']\n",
    "\n",
    "visitorsBCummulative = visitorsBDaily.apply(\n",
    "    lambda x: visitorsBDaily[visitorsBDaily['date'] <= x['date']].agg(\n",
    "        {'date': 'max', 'visitorsPerDateB': 'sum'}\n",
    "    ),\n",
    "    axis=1,\n",
    ")\n",
    "visitorsBCummulative.columns = ['date', 'visitorsCummulativeB']\n",
    "\n",
    "ordersADaily = (\n",
    "    orders[orders['group'] == 'A'][['date', 'transaction_id', 'visitor_id', 'revenue']]\n",
    "    .groupby('date', as_index=False)\n",
    "    .agg({'transaction_id': pd.Series.nunique, 'revenue': 'sum'})\n",
    ")\n",
    "ordersADaily.columns = ['date', 'ordersPerDateA', 'revenuePerDateA']\n",
    "\n",
    "ordersACummulative = ordersADaily.apply(\n",
    "    lambda x: ordersADaily[ordersADaily['date'] <= x['date']].agg(\n",
    "        {'date': 'max', 'ordersPerDateA': 'sum', 'revenuePerDateA': 'sum'}\n",
    "    ),\n",
    "    axis=1,\n",
    ").sort_values(by=['date'])\n",
    "ordersACummulative.columns = [\n",
    "    'date',\n",
    "    'ordersCummulativeA',\n",
    "    'revenueCummulativeA',\n",
    "]\n",
    "\n",
    "ordersBDaily = (\n",
    "    orders[orders['group'] == 'B'][['date', 'transaction_id', 'visitor_id', 'revenue']]\n",
    "    .groupby('date', as_index=False)\n",
    "    .agg({'transaction_id': pd.Series.nunique, 'revenue': 'sum'})\n",
    ")\n",
    "ordersBDaily.columns = ['date', 'ordersPerDateB', 'revenuePerDateB']\n",
    "\n",
    "ordersBCummulative = ordersBDaily.apply(\n",
    "    lambda x: ordersBDaily[ordersBDaily['date'] <= x['date']].agg(\n",
    "        {'date': 'max', 'ordersPerDateB': 'sum', 'revenuePerDateB': 'sum'}\n",
    "    ),\n",
    "    axis=1,\n",
    ").sort_values(by=['date'])\n",
    "ordersBCummulative.columns = [\n",
    "    'date',\n",
    "    'ordersCummulativeB',\n",
    "    'revenueCummulativeB',\n",
    "]\n",
    "\n",
    "data = (\n",
    "    ordersADaily.merge(\n",
    "        ordersBDaily, left_on='date', right_on='date', how='left'\n",
    "    )\n",
    "    .merge(ordersACummulative, left_on='date', right_on='date', how='left')\n",
    "    .merge(ordersBCummulative, left_on='date', right_on='date', how='left')\n",
    "    .merge(visitorsADaily, left_on='date', right_on='date', how='left')\n",
    "    .merge(visitorsBDaily, left_on='date', right_on='date', how='left')\n",
    "    .merge(visitorsACummulative, left_on='date', right_on='date', how='left')\n",
    "    .merge(visitorsBCummulative, left_on='date', right_on='date', how='left')\n",
    ")\n",
    "\n",
    "print(data.head(5)) "
   ]
  },
  {
   "cell_type": "markdown",
   "metadata": {},
   "source": [
    "<ul>\n",
    "<li>date — дата;\n",
    "<li>ordersPerDateA — количество заказов в выбранную дату в группе A;</li>\n",
    "<li>revenuePerDateA — суммарная выручка в выбранную дату в группе A;</li>\n",
    "<li>ordersPerDateB — количество заказов в выбранную дату в группе B;</li>\n",
    "<li>revenuePerDateB — суммарная выручка в выбранную дату в группе B;</li>\n",
    "<li>ordersCummulativeA — суммарное число заказов до выбранной даты включительно в группе A;</li>\n",
    "<li>revenueCummulativeA — суммарная выручка до выбранной даты включительно в группе A;</li>\n",
    "<li>ordersCummulativeB — суммарное количество заказов до выбранной даты включительно в группе B;</li>\n",
    "<li>revenueCummulativeB — суммарная выручка до выбранной даты включительно в группе B;</li>\n",
    "<li>visitorsPerDateA — количество пользователей в выбранную дату в группе A;</li>\n",
    "<li>visitorsPerDateB — количество пользователей в выбранную дату в группе B;</li>\n",
    "<li>visitorsCummulativeA  — количество пользователей до выбранной даты включительно в группе A;</li>\n",
    "<li>visitorsCummulativeB — количество пользователей до выбранной даты включительно в группе B.</li>\n",
    "</ul>"
   ]
  },
  {
   "cell_type": "markdown",
   "metadata": {},
   "source": [
    "Создадим переменные ordersByUsersA и ordersByUsersB со столбцами ['userId', 'orders']. В них для пользователей, которые заказывали хотя бы 1 раз, укажем число совершённых заказов. "
   ]
  },
  {
   "cell_type": "code",
   "execution_count": 39,
   "metadata": {},
   "outputs": [],
   "source": [
    "ordersByUsersA = (\n",
    "    orders[orders['group'] == 'A']\n",
    "    .groupby('visitor_id', as_index=False)\n",
    "    .agg({'transaction_id': pd.Series.nunique})\n",
    ")\n",
    "ordersByUsersA.columns = ['userId', 'orders']\n",
    "\n",
    "ordersByUsersB = (\n",
    "    orders[orders['group'] == 'B']\n",
    "    .groupby('visitor_id', as_index=False)\n",
    "    .agg({'transaction_id': pd.Series.nunique})\n",
    ")\n",
    "ordersByUsersB.columns = ['userId', 'orders']"
   ]
  },
  {
   "cell_type": "markdown",
   "metadata": {},
   "source": [
    "Объявим переменные sampleA и sampleB, в которых пользователям из разных групп будет соответствовать количество заказов. Тем, кто ничего не заказал, будут соответствовать нули. Это нужно, чтобы подготовить выборки к проверке критерием Манна-Уитни."
   ]
  },
  {
   "cell_type": "code",
   "execution_count": 40,
   "metadata": {},
   "outputs": [
    {
     "name": "stdout",
     "output_type": "stream",
     "text": [
      "p-значение: 0.017\n",
      "Отвергаем нулевую гипотезу: разница статистически значима\n"
     ]
    }
   ],
   "source": [
    "sampleA = pd.concat(\n",
    "    [\n",
    "        ordersByUsersA['orders'],\n",
    "        pd.Series(\n",
    "            0,\n",
    "            index=np.arange(\n",
    "                data['visitorsPerDateA'].sum() - len(ordersByUsersA['orders'])\n",
    "            ),\n",
    "            name='orders',\n",
    "        ),\n",
    "    ],\n",
    "    axis=0,\n",
    ")\n",
    "\n",
    "sampleB = pd.concat(\n",
    "    [\n",
    "        ordersByUsersB['orders'],\n",
    "        pd.Series(\n",
    "            0,\n",
    "            index=np.arange(\n",
    "                data['visitorsPerDateB'].sum() - len(ordersByUsersB['orders'])\n",
    "            ),\n",
    "            name='orders',\n",
    "        ),\n",
    "    ],\n",
    "    axis=0,\n",
    ")\n",
    "\n",
    "alpha = 0.05  # критический уровень статистической значимости\n",
    "\n",
    "pvalue = stats.mannwhitneyu(sampleA, sampleB)[1]\n",
    "\n",
    "print('p-значение: {0:.3f}'.format(pvalue))\n",
    "\n",
    "if pvalue < alpha:\n",
    "    print('Отвергаем нулевую гипотезу: разница статистически значима')\n",
    "else:\n",
    "    print(\n",
    "        'Не получилось отвергнуть нулевую гипотезу, вывод о различии сделать нельзя'\n",
    "    ) "
   ]
  },
  {
   "cell_type": "markdown",
   "metadata": {},
   "source": [
    "По «сырым» данным в среднем числе заказов групп A и B наблюдается статистически значимая разница."
   ]
  },
  {
   "cell_type": "code",
   "execution_count": 41,
   "metadata": {},
   "outputs": [
    {
     "name": "stdout",
     "output_type": "stream",
     "text": [
      "0.138\n"
     ]
    }
   ],
   "source": [
    "print(\"{0:.3f}\".format(sampleB.mean() / sampleA.mean() - 1))"
   ]
  },
  {
   "cell_type": "markdown",
   "metadata": {},
   "source": [
    "Относительный выигрыш группы B равен 14%"
   ]
  },
  {
   "cell_type": "markdown",
   "metadata": {},
   "source": [
    "#### Посчитаем статистическую значимость различий в среднем чеке заказа между группами по «сырым» данным. Сделаем выводы и предположения."
   ]
  },
  {
   "cell_type": "markdown",
   "metadata": {},
   "source": [
    "Нулевая гипотеза: различий в среднем чеке между группами нет. \n",
    "\n",
    "Альтернативная: различия в среднем чеке между группами есть. "
   ]
  },
  {
   "cell_type": "code",
   "execution_count": 42,
   "metadata": {},
   "outputs": [
    {
     "name": "stdout",
     "output_type": "stream",
     "text": [
      "p-значение: 0.729\n",
      "Не получилось отвергнуть нулевую гипотезу, вывод о различии сделать нельзя\n"
     ]
    }
   ],
   "source": [
    "pvalue = stats.mannwhitneyu(orders[orders['group']=='A']['revenue'], orders[orders['group']=='B']['revenue'])[1]\n",
    "\n",
    "print('p-значение: {0:.3f}'.format(pvalue))\n",
    "\n",
    "if pvalue < alpha:\n",
    "    print('Отвергаем нулевую гипотезу: разница статистически значима')\n",
    "else:\n",
    "    print(\n",
    "        'Не получилось отвергнуть нулевую гипотезу, вывод о различии сделать нельзя'\n",
    "    ) "
   ]
  },
  {
   "cell_type": "markdown",
   "metadata": {},
   "source": [
    "Не получилось отвергнуть нулевую гипотезу, вывод о наличии различии в среднем чеке между группами не получилось подтвердить."
   ]
  },
  {
   "cell_type": "code",
   "execution_count": 43,
   "metadata": {},
   "outputs": [
    {
     "name": "stdout",
     "output_type": "stream",
     "text": [
      "0.259\n"
     ]
    }
   ],
   "source": [
    "print('{0:.3f}'.format(orders[orders['group']=='B']['revenue'].mean()/orders[orders['group']=='A']['revenue'].mean()-1)) "
   ]
  },
  {
   "cell_type": "markdown",
   "metadata": {},
   "source": [
    "Относительный выигрыш группы B равен 26%"
   ]
  },
  {
   "cell_type": "markdown",
   "metadata": {},
   "source": [
    "#### Посчитаем статистическую значимость различий в среднем количестве заказов на посетителя между группами по «очищенным» данным. Сделаем выводы и предположения."
   ]
  },
  {
   "cell_type": "markdown",
   "metadata": {},
   "source": [
    "Узнаем, сколько всего аномальных пользователей атрибутом shape."
   ]
  },
  {
   "cell_type": "code",
   "execution_count": 44,
   "metadata": {},
   "outputs": [
    {
     "name": "stdout",
     "output_type": "stream",
     "text": [
      "1099    148427295\n",
      "18      199603092\n",
      "23      237748145\n",
      "949     887908475\n",
      "744     888512513\n",
      "dtype: int64\n",
      "20\n"
     ]
    }
   ],
   "source": [
    "usersWithManyOrders = pd.concat(\n",
    "    [\n",
    "        ordersByUsersA[ordersByUsersA['orders'] > 3]['userId'],\n",
    "        ordersByUsersB[ordersByUsersB['orders'] > 3]['userId'],\n",
    "    ],\n",
    "    axis=0,\n",
    ")\n",
    "usersWithExpensiveOrders = orders[orders['revenue'] > 58233]['visitor_id']\n",
    "abnormalUsers = (\n",
    "    pd.concat([usersWithManyOrders, usersWithExpensiveOrders], axis=0)\n",
    "    .drop_duplicates()\n",
    "    .sort_values()\n",
    ")\n",
    "print(abnormalUsers.head(5))\n",
    "print(abnormalUsers.shape[0]) "
   ]
  },
  {
   "cell_type": "markdown",
   "metadata": {},
   "source": [
    "Всего 20 аномальных пользователей. "
   ]
  },
  {
   "cell_type": "code",
   "execution_count": 45,
   "metadata": {},
   "outputs": [],
   "source": [
    "sampleAFiltered = pd.concat(\n",
    "    [\n",
    "        ordersByUsersA[\n",
    "            np.logical_not(ordersByUsersA['userId'].isin(abnormalUsers))\n",
    "        ]['orders'],\n",
    "        pd.Series(\n",
    "            0,\n",
    "            index=np.arange(\n",
    "                data['visitorsPerDateA'].sum() - len(ordersByUsersA['orders'])\n",
    "            ),\n",
    "            name='orders',\n",
    "        ),\n",
    "    ],\n",
    "    axis=0,\n",
    ")\n",
    "\n",
    "sampleBFiltered = pd.concat(\n",
    "    [\n",
    "        ordersByUsersB[\n",
    "            np.logical_not(ordersByUsersB['userId'].isin(abnormalUsers))\n",
    "        ]['orders'],\n",
    "        pd.Series(\n",
    "            0,\n",
    "            index=np.arange(\n",
    "                data['visitorsPerDateB'].sum() - len(ordersByUsersB['orders'])\n",
    "            ),\n",
    "            name='orders',\n",
    "        ),\n",
    "    ],\n",
    "    axis=0,\n",
    ")"
   ]
  },
  {
   "cell_type": "code",
   "execution_count": 46,
   "metadata": {},
   "outputs": [
    {
     "name": "stdout",
     "output_type": "stream",
     "text": [
      "p-значение: 0.014\n",
      "Отвергаем нулевую гипотезу: разница статистически значима\n"
     ]
    }
   ],
   "source": [
    "pvalue = stats.mannwhitneyu(sampleAFiltered, sampleBFiltered)[1]\n",
    "\n",
    "print('p-значение: {0:.3f}'.format(pvalue))\n",
    "\n",
    "if pvalue < alpha:\n",
    "    print('Отвергаем нулевую гипотезу: разница статистически значима')\n",
    "else:\n",
    "    print(\n",
    "        'Не получилось отвергнуть нулевую гипотезу, вывод о различии сделать нельзя'\n",
    "    ) "
   ]
  },
  {
   "cell_type": "markdown",
   "metadata": {},
   "source": [
    "По «очищенным» данным разница  в среднем числе заказов групп A и B статистически значима."
   ]
  },
  {
   "cell_type": "code",
   "execution_count": 47,
   "metadata": {},
   "outputs": [
    {
     "name": "stdout",
     "output_type": "stream",
     "text": [
      "0.151\n"
     ]
    }
   ],
   "source": [
    "print('{0:.3f}'.format(sampleBFiltered.mean()/sampleAFiltered.mean()-1)) "
   ]
  },
  {
   "cell_type": "markdown",
   "metadata": {},
   "source": [
    "Относительный выигрыш группы B равен 15%"
   ]
  },
  {
   "cell_type": "markdown",
   "metadata": {},
   "source": [
    "#### Посчитаем статистическую значимость различий в среднем чеке заказа между группами по «очищенным» данным. Сделаем выводы и предположения."
   ]
  },
  {
   "cell_type": "code",
   "execution_count": 48,
   "metadata": {},
   "outputs": [
    {
     "name": "stdout",
     "output_type": "stream",
     "text": [
      "p-значение: 0.959\n",
      "Не получилось отвергнуть нулевую гипотезу, вывод о различии сделать нельзя\n"
     ]
    }
   ],
   "source": [
    "pvalue = stats.mannwhitneyu(orders[np.logical_and(orders['group'] == 'A', np.logical_not(orders['visitor_id'].isin(abnormalUsers)),\n",
    "                )]['revenue'], orders[np.logical_and(orders['group'] == 'B', np.logical_not(orders['visitor_id'].isin(abnormalUsers)),\n",
    "                )]['revenue'],)[1]\n",
    "\n",
    "print('p-значение: {0:.3f}'.format(pvalue))\n",
    "\n",
    "if pvalue < alpha:\n",
    "    print('Отвергаем нулевую гипотезу: разница статистически значима')\n",
    "else:\n",
    "    print(\n",
    "        'Не получилось отвергнуть нулевую гипотезу, вывод о различии сделать нельзя'\n",
    "    ) "
   ]
  },
  {
   "cell_type": "markdown",
   "metadata": {},
   "source": [
    "Не получилось отвергнуть нулевую гипотезу, вывод о наличии различии в среднем чеке между группами не получилось подтвердить."
   ]
  },
  {
   "cell_type": "code",
   "execution_count": 49,
   "metadata": {},
   "outputs": [
    {
     "name": "stdout",
     "output_type": "stream",
     "text": [
      "-0.014\n"
     ]
    }
   ],
   "source": [
    "print(\n",
    "    \"{0:.3f}\".format(\n",
    "        orders[\n",
    "            np.logical_and(\n",
    "                orders['group'] == 'B',\n",
    "                np.logical_not(orders['visitor_id'].isin(abnormalUsers)),\n",
    "            )\n",
    "        ]['revenue'].mean()\n",
    "        / orders[\n",
    "            np.logical_and(\n",
    "                orders['group'] == 'A',\n",
    "                np.logical_not(orders['visitor_id'].isin(abnormalUsers)),\n",
    "            )\n",
    "        ]['revenue'].mean()\n",
    "        - 1\n",
    "    )\n",
    ") "
   ]
  },
  {
   "cell_type": "markdown",
   "metadata": {},
   "source": [
    "Относительная разница на очищенных данных почти отсутствует"
   ]
  },
  {
   "cell_type": "markdown",
   "metadata": {},
   "source": [
    "### Общий вывод"
   ]
  },
  {
   "cell_type": "markdown",
   "metadata": {},
   "source": [
    "В блоке приоритизация гипотез, если использовать фреймворк ICE получим следующий список приоритетов по убыванию:\n",
    "\n",
    "<ul>\n",
    "<li>Запустить акцию, дающую скидку на товар в день рождения</li>\n",
    "<li>Добавить два новых канала привлечения трафика, что позволит привлекать на 30% больше пользователей</li>\n",
    "<li>Добавить форму подписки на все основные страницы, чтобы собрать базу клиентов для email-рассылок</li>\n",
    "<li>Показать на главной странице баннеры с актуальными акциями и распродажами, чтобы увеличить конверсию</li>\n",
    "<li>Добавить блоки рекомендаций товаров на сайт интернет магазина, чтобы повысить конверсию и средний чек заказа</li>\n",
    "<li>Запустить собственную службу доставки, что сократит срок доставки заказов</li>\n",
    "<li>Добавить страницу отзывов клиентов о магазине, что позволит увеличить количество заказов</li>\n",
    "<li>Изменить структура категорий, что увеличит конверсию, т.к. пользователи быстрее найдут нужный товар</li>\n",
    "<li>Изменить цвет фона главной страницы, чтобы увеличить вовлеченность пользователей</li>\n",
    "</ul>\n",
    "\n",
    "Если использовать фреймворк RICE получим следующий список приоритетов по убыванию:\n",
    "\n",
    "<ul>\n",
    "<li>Добавить форму подписки на все основные страницы, чтобы собрать базу клиентов для email-рассылок</li>\n",
    "<li>Добавить блоки рекомендаций товаров на сайт интернет магазина, чтобы повысить конверсию и средний чек заказа</li>\n",
    "<li>Добавить два новых канала привлечения трафика, что позволит привлекать на 30% больше пользователей</li>\n",
    "<li>Показать на главной странице баннеры с актуальными акциями и распродажами, чтобы увеличить конверсию</li>\n",
    "<li>Запустить акцию, дающую скидку на товар в день рождения</li>\n",
    "<li>Изменить структура категорий, что увеличит конверсию, т.к. пользователи быстрее найдут нужный товар</li>\n",
    "<li>Запустить собственную службу доставки, что сократит срок доставки заказов</li>\n",
    "<li>Добавить страницу отзывов клиентов о магазине, что позволит увеличить количество заказов</li>\n",
    "<li>Изменить цвет фона главной страницы, чтобы увеличить вовлеченность пользователей</li>\n",
    "</ul>\n",
    "\n",
    "Результаты кумулятивных метрик показывает, что группа B лучше группы A.\n",
    "\n",
    "По «сырым» и «очищенным» в среднем числе заказов групп A и B наблюдается статистически значимая разница. Группа B в выигрыше на 14% на «сырых» даннах, а на «очищенных» 15%.\n",
    "\n",
    "По «сырым» и «очищенным» в среднем чеке между группами наблюдается статистически не значимая разница. Группа B в выигрыше на 26% на «сырых» даннах, а на «очищенных» группы равны.\n",
    "\n",
    "При таких результатах я бы посоветовал продолжить тест, чтобы попробовать выявить статистичскую значимость в среднем числе заказов групп A и B, чтобы доказать, что группа И показывает себя лучше."
   ]
  }
 ],
 "metadata": {
  "ExecuteTimeLog": [
   {
    "duration": 1458,
    "start_time": "2022-12-28T09:51:09.442Z"
   },
   {
    "duration": 116,
    "start_time": "2022-12-28T09:51:25.942Z"
   },
   {
    "duration": 4,
    "start_time": "2022-12-28T09:51:31.317Z"
   },
   {
    "duration": 5,
    "start_time": "2022-12-28T09:51:35.351Z"
   },
   {
    "duration": 84,
    "start_time": "2022-12-28T09:53:15.666Z"
   },
   {
    "duration": 11,
    "start_time": "2022-12-28T09:53:28.771Z"
   },
   {
    "duration": 228,
    "start_time": "2022-12-28T09:55:17.122Z"
   },
   {
    "duration": 12,
    "start_time": "2022-12-28T09:56:13.918Z"
   },
   {
    "duration": 11,
    "start_time": "2022-12-28T09:56:18.491Z"
   },
   {
    "duration": 8,
    "start_time": "2022-12-28T09:56:21.656Z"
   },
   {
    "duration": 5,
    "start_time": "2022-12-28T09:56:42.739Z"
   },
   {
    "duration": 57,
    "start_time": "2022-12-28T09:57:12.521Z"
   },
   {
    "duration": 81,
    "start_time": "2022-12-28T09:57:23.680Z"
   },
   {
    "duration": 12,
    "start_time": "2022-12-28T09:57:50.629Z"
   },
   {
    "duration": 8,
    "start_time": "2022-12-28T09:58:15.922Z"
   },
   {
    "duration": 5,
    "start_time": "2022-12-28T09:58:37.333Z"
   },
   {
    "duration": 13,
    "start_time": "2022-12-28T09:59:02.434Z"
   },
   {
    "duration": 10,
    "start_time": "2022-12-28T09:59:26.633Z"
   },
   {
    "duration": 7,
    "start_time": "2022-12-28T09:59:44.777Z"
   },
   {
    "duration": 4,
    "start_time": "2022-12-28T09:59:59.218Z"
   },
   {
    "duration": 12,
    "start_time": "2022-12-28T10:00:21.224Z"
   },
   {
    "duration": 3,
    "start_time": "2022-12-28T10:06:01.500Z"
   },
   {
    "duration": 3,
    "start_time": "2022-12-28T10:06:42.651Z"
   },
   {
    "duration": 8,
    "start_time": "2022-12-28T10:06:59.897Z"
   },
   {
    "duration": 11,
    "start_time": "2022-12-28T10:09:50.206Z"
   },
   {
    "duration": 21,
    "start_time": "2022-12-28T10:10:00.596Z"
   },
   {
    "duration": 7,
    "start_time": "2022-12-28T10:10:10.252Z"
   },
   {
    "duration": 12,
    "start_time": "2022-12-28T10:33:28.568Z"
   },
   {
    "duration": 10,
    "start_time": "2022-12-28T10:33:42.370Z"
   },
   {
    "duration": 14,
    "start_time": "2022-12-28T10:34:20.951Z"
   },
   {
    "duration": 10,
    "start_time": "2022-12-28T10:43:10.624Z"
   },
   {
    "duration": 34,
    "start_time": "2022-12-28T11:26:11.646Z"
   },
   {
    "duration": 290,
    "start_time": "2022-12-28T11:27:32.329Z"
   },
   {
    "duration": 262,
    "start_time": "2022-12-28T11:31:30.233Z"
   },
   {
    "duration": 3,
    "start_time": "2022-12-28T11:33:22.837Z"
   },
   {
    "duration": 115,
    "start_time": "2022-12-28T11:33:22.843Z"
   },
   {
    "duration": 9,
    "start_time": "2022-12-28T11:33:22.960Z"
   },
   {
    "duration": 25,
    "start_time": "2022-12-28T11:33:22.971Z"
   },
   {
    "duration": 62,
    "start_time": "2022-12-28T11:33:22.998Z"
   },
   {
    "duration": 35,
    "start_time": "2022-12-28T11:33:23.061Z"
   },
   {
    "duration": 55,
    "start_time": "2022-12-28T11:33:23.098Z"
   },
   {
    "duration": 21,
    "start_time": "2022-12-28T11:33:23.155Z"
   },
   {
    "duration": 21,
    "start_time": "2022-12-28T11:33:23.178Z"
   },
   {
    "duration": 65,
    "start_time": "2022-12-28T11:33:23.200Z"
   },
   {
    "duration": 37,
    "start_time": "2022-12-28T11:33:23.266Z"
   },
   {
    "duration": 64,
    "start_time": "2022-12-28T11:33:23.304Z"
   },
   {
    "duration": 44,
    "start_time": "2022-12-28T11:33:23.370Z"
   },
   {
    "duration": 44,
    "start_time": "2022-12-28T11:33:23.421Z"
   },
   {
    "duration": 22,
    "start_time": "2022-12-28T11:33:23.467Z"
   },
   {
    "duration": 58,
    "start_time": "2022-12-28T11:33:23.490Z"
   },
   {
    "duration": 19,
    "start_time": "2022-12-28T11:33:23.549Z"
   },
   {
    "duration": 47,
    "start_time": "2022-12-28T11:33:23.570Z"
   },
   {
    "duration": 306,
    "start_time": "2022-12-28T11:33:23.620Z"
   },
   {
    "duration": 336,
    "start_time": "2022-12-28T11:33:23.937Z"
   },
   {
    "duration": 220,
    "start_time": "2022-12-28T11:33:44.323Z"
   },
   {
    "duration": 299,
    "start_time": "2022-12-28T11:34:03.317Z"
   },
   {
    "duration": 210,
    "start_time": "2022-12-28T11:34:09.347Z"
   },
   {
    "duration": 308,
    "start_time": "2022-12-28T11:36:13.377Z"
   },
   {
    "duration": 242,
    "start_time": "2022-12-28T11:36:27.843Z"
   },
   {
    "duration": 240,
    "start_time": "2022-12-28T11:40:55.697Z"
   },
   {
    "duration": 309,
    "start_time": "2022-12-28T11:46:45.352Z"
   },
   {
    "duration": 304,
    "start_time": "2022-12-28T11:47:17.813Z"
   },
   {
    "duration": 313,
    "start_time": "2022-12-28T11:47:49.528Z"
   },
   {
    "duration": 227,
    "start_time": "2022-12-28T12:41:22.202Z"
   },
   {
    "duration": 201,
    "start_time": "2022-12-28T12:41:25.651Z"
   },
   {
    "duration": 343,
    "start_time": "2022-12-28T12:45:07.180Z"
   },
   {
    "duration": 376,
    "start_time": "2022-12-28T12:45:20.535Z"
   },
   {
    "duration": 333,
    "start_time": "2022-12-28T12:45:32.080Z"
   },
   {
    "duration": 1134,
    "start_time": "2022-12-28T12:45:43.069Z"
   },
   {
    "duration": 84,
    "start_time": "2022-12-28T12:45:44.205Z"
   },
   {
    "duration": 12,
    "start_time": "2022-12-28T12:45:44.290Z"
   },
   {
    "duration": 12,
    "start_time": "2022-12-28T12:45:44.304Z"
   },
   {
    "duration": 4,
    "start_time": "2022-12-28T12:45:44.319Z"
   },
   {
    "duration": 52,
    "start_time": "2022-12-28T12:45:44.325Z"
   },
   {
    "duration": 26,
    "start_time": "2022-12-28T12:45:44.379Z"
   },
   {
    "duration": 9,
    "start_time": "2022-12-28T12:45:44.406Z"
   },
   {
    "duration": 7,
    "start_time": "2022-12-28T12:45:44.417Z"
   },
   {
    "duration": 13,
    "start_time": "2022-12-28T12:45:44.426Z"
   },
   {
    "duration": 10,
    "start_time": "2022-12-28T12:45:44.441Z"
   },
   {
    "duration": 9,
    "start_time": "2022-12-28T12:45:44.452Z"
   },
   {
    "duration": 5,
    "start_time": "2022-12-28T12:45:44.462Z"
   },
   {
    "duration": 41,
    "start_time": "2022-12-28T12:45:44.470Z"
   },
   {
    "duration": 3,
    "start_time": "2022-12-28T12:45:44.513Z"
   },
   {
    "duration": 12,
    "start_time": "2022-12-28T12:45:44.517Z"
   },
   {
    "duration": 15,
    "start_time": "2022-12-28T12:45:44.530Z"
   },
   {
    "duration": 11,
    "start_time": "2022-12-28T12:45:44.546Z"
   },
   {
    "duration": 285,
    "start_time": "2022-12-28T12:45:44.558Z"
   },
   {
    "duration": 320,
    "start_time": "2022-12-28T12:45:44.845Z"
   },
   {
    "duration": 208,
    "start_time": "2022-12-28T12:45:45.167Z"
   },
   {
    "duration": 344,
    "start_time": "2022-12-28T12:45:45.377Z"
   },
   {
    "duration": 227,
    "start_time": "2022-12-28T12:45:45.723Z"
   },
   {
    "duration": 299,
    "start_time": "2022-12-28T12:45:45.952Z"
   },
   {
    "duration": 342,
    "start_time": "2022-12-28T12:46:00.875Z"
   },
   {
    "duration": 304,
    "start_time": "2022-12-28T12:46:09.718Z"
   },
   {
    "duration": 101,
    "start_time": "2022-12-28T12:56:21.176Z"
   },
   {
    "duration": 8,
    "start_time": "2022-12-28T12:59:26.870Z"
   },
   {
    "duration": 9,
    "start_time": "2022-12-28T12:59:44.314Z"
   },
   {
    "duration": 197,
    "start_time": "2022-12-28T13:00:30.477Z"
   },
   {
    "duration": 107,
    "start_time": "2022-12-28T13:00:42.375Z"
   },
   {
    "duration": 122,
    "start_time": "2022-12-28T13:02:45.685Z"
   },
   {
    "duration": 104,
    "start_time": "2022-12-28T13:03:51.125Z"
   },
   {
    "duration": 5,
    "start_time": "2022-12-28T13:05:47.483Z"
   },
   {
    "duration": 9,
    "start_time": "2022-12-28T13:13:24.484Z"
   },
   {
    "duration": 118,
    "start_time": "2022-12-28T13:14:05.634Z"
   },
   {
    "duration": 131,
    "start_time": "2022-12-28T13:15:09.763Z"
   },
   {
    "duration": 139,
    "start_time": "2022-12-28T13:15:13.153Z"
   },
   {
    "duration": 5,
    "start_time": "2022-12-28T13:18:31.014Z"
   },
   {
    "duration": 5,
    "start_time": "2022-12-28T13:20:03.594Z"
   },
   {
    "duration": 109,
    "start_time": "2022-12-28T13:25:17.150Z"
   },
   {
    "duration": 4,
    "start_time": "2022-12-28T13:28:26.260Z"
   },
   {
    "duration": 10,
    "start_time": "2022-12-28T13:28:37.910Z"
   },
   {
    "duration": 1153,
    "start_time": "2022-12-28T13:31:36.610Z"
   },
   {
    "duration": 73,
    "start_time": "2022-12-28T13:31:37.765Z"
   },
   {
    "duration": 10,
    "start_time": "2022-12-28T13:31:37.840Z"
   },
   {
    "duration": 14,
    "start_time": "2022-12-28T13:31:37.852Z"
   },
   {
    "duration": 3,
    "start_time": "2022-12-28T13:31:37.868Z"
   },
   {
    "duration": 48,
    "start_time": "2022-12-28T13:31:37.873Z"
   },
   {
    "duration": 10,
    "start_time": "2022-12-28T13:31:37.922Z"
   },
   {
    "duration": 28,
    "start_time": "2022-12-28T13:31:37.933Z"
   },
   {
    "duration": 8,
    "start_time": "2022-12-28T13:31:37.963Z"
   },
   {
    "duration": 21,
    "start_time": "2022-12-28T13:31:37.973Z"
   },
   {
    "duration": 29,
    "start_time": "2022-12-28T13:31:37.996Z"
   },
   {
    "duration": 24,
    "start_time": "2022-12-28T13:31:38.027Z"
   },
   {
    "duration": 17,
    "start_time": "2022-12-28T13:31:38.052Z"
   },
   {
    "duration": 17,
    "start_time": "2022-12-28T13:31:38.073Z"
   },
   {
    "duration": 11,
    "start_time": "2022-12-28T13:31:38.091Z"
   },
   {
    "duration": 13,
    "start_time": "2022-12-28T13:31:38.104Z"
   },
   {
    "duration": 10,
    "start_time": "2022-12-28T13:31:38.119Z"
   },
   {
    "duration": 15,
    "start_time": "2022-12-28T13:31:38.130Z"
   },
   {
    "duration": 12,
    "start_time": "2022-12-28T13:31:38.147Z"
   },
   {
    "duration": 289,
    "start_time": "2022-12-28T13:31:38.160Z"
   },
   {
    "duration": 310,
    "start_time": "2022-12-28T13:31:38.451Z"
   },
   {
    "duration": 206,
    "start_time": "2022-12-28T13:31:38.763Z"
   },
   {
    "duration": 341,
    "start_time": "2022-12-28T13:31:38.970Z"
   },
   {
    "duration": 228,
    "start_time": "2022-12-28T13:31:39.313Z"
   },
   {
    "duration": 286,
    "start_time": "2022-12-28T13:31:39.542Z"
   },
   {
    "duration": 126,
    "start_time": "2022-12-28T13:31:39.829Z"
   },
   {
    "duration": 4,
    "start_time": "2022-12-28T13:31:39.956Z"
   },
   {
    "duration": 148,
    "start_time": "2022-12-28T13:31:39.961Z"
   },
   {
    "duration": 4,
    "start_time": "2022-12-28T13:31:40.111Z"
   },
   {
    "duration": 272,
    "start_time": "2022-12-28T13:31:40.116Z"
   },
   {
    "duration": 216,
    "start_time": "2022-12-28T13:33:42.664Z"
   },
   {
    "duration": 124,
    "start_time": "2022-12-28T13:38:43.444Z"
   },
   {
    "duration": 6,
    "start_time": "2022-12-28T13:39:35.794Z"
   },
   {
    "duration": 26,
    "start_time": "2022-12-28T13:47:13.112Z"
   },
   {
    "duration": 25,
    "start_time": "2022-12-28T13:48:26.956Z"
   },
   {
    "duration": 51,
    "start_time": "2022-12-28T13:52:23.071Z"
   },
   {
    "duration": 46,
    "start_time": "2022-12-28T13:54:33.334Z"
   },
   {
    "duration": 25,
    "start_time": "2022-12-28T13:54:46.890Z"
   },
   {
    "duration": 123,
    "start_time": "2022-12-28T13:55:03.056Z"
   },
   {
    "duration": 25,
    "start_time": "2022-12-28T13:55:50.328Z"
   },
   {
    "duration": 8,
    "start_time": "2022-12-28T14:00:17.334Z"
   },
   {
    "duration": 1158,
    "start_time": "2022-12-28T14:14:27.624Z"
   },
   {
    "duration": 1096,
    "start_time": "2022-12-28T14:14:44.533Z"
   },
   {
    "duration": 9,
    "start_time": "2022-12-28T14:15:13.602Z"
   },
   {
    "duration": 7,
    "start_time": "2022-12-28T14:16:40.623Z"
   },
   {
    "duration": 21,
    "start_time": "2022-12-28T14:17:16.685Z"
   },
   {
    "duration": 4,
    "start_time": "2022-12-28T14:18:23.324Z"
   },
   {
    "duration": 1223,
    "start_time": "2022-12-28T14:20:24.971Z"
   },
   {
    "duration": 10,
    "start_time": "2022-12-28T14:21:30.800Z"
   },
   {
    "duration": 10,
    "start_time": "2022-12-28T14:21:50.227Z"
   },
   {
    "duration": 4,
    "start_time": "2022-12-28T14:24:47.090Z"
   },
   {
    "duration": 75,
    "start_time": "2022-12-28T14:26:21.224Z"
   },
   {
    "duration": 6,
    "start_time": "2022-12-28T14:26:39.858Z"
   },
   {
    "duration": 4,
    "start_time": "2022-12-28T14:27:43.157Z"
   },
   {
    "duration": 74,
    "start_time": "2022-12-28T14:28:11.350Z"
   },
   {
    "duration": 70,
    "start_time": "2022-12-28T14:28:34.441Z"
   },
   {
    "duration": 72,
    "start_time": "2022-12-28T14:28:47.350Z"
   },
   {
    "duration": 1106,
    "start_time": "2022-12-28T14:29:10.435Z"
   },
   {
    "duration": 75,
    "start_time": "2022-12-28T14:29:11.543Z"
   },
   {
    "duration": 11,
    "start_time": "2022-12-28T14:29:11.619Z"
   },
   {
    "duration": 43,
    "start_time": "2022-12-28T14:29:11.631Z"
   },
   {
    "duration": 38,
    "start_time": "2022-12-28T14:29:11.676Z"
   },
   {
    "duration": 78,
    "start_time": "2022-12-28T14:29:11.715Z"
   },
   {
    "duration": 32,
    "start_time": "2022-12-28T14:29:11.795Z"
   },
   {
    "duration": 9,
    "start_time": "2022-12-28T14:29:11.829Z"
   },
   {
    "duration": 7,
    "start_time": "2022-12-28T14:29:11.840Z"
   },
   {
    "duration": 14,
    "start_time": "2022-12-28T14:29:11.849Z"
   },
   {
    "duration": 12,
    "start_time": "2022-12-28T14:29:11.865Z"
   },
   {
    "duration": 10,
    "start_time": "2022-12-28T14:29:11.878Z"
   },
   {
    "duration": 6,
    "start_time": "2022-12-28T14:29:11.889Z"
   },
   {
    "duration": 15,
    "start_time": "2022-12-28T14:29:11.898Z"
   },
   {
    "duration": 15,
    "start_time": "2022-12-28T14:29:11.914Z"
   },
   {
    "duration": 5,
    "start_time": "2022-12-28T14:29:11.931Z"
   },
   {
    "duration": 14,
    "start_time": "2022-12-28T14:29:11.937Z"
   },
   {
    "duration": 14,
    "start_time": "2022-12-28T14:29:11.952Z"
   },
   {
    "duration": 14,
    "start_time": "2022-12-28T14:29:11.967Z"
   },
   {
    "duration": 275,
    "start_time": "2022-12-28T14:29:11.983Z"
   },
   {
    "duration": 276,
    "start_time": "2022-12-28T14:29:12.260Z"
   },
   {
    "duration": 200,
    "start_time": "2022-12-28T14:29:12.538Z"
   },
   {
    "duration": 292,
    "start_time": "2022-12-28T14:29:12.740Z"
   },
   {
    "duration": 214,
    "start_time": "2022-12-28T14:29:13.034Z"
   },
   {
    "duration": 285,
    "start_time": "2022-12-28T14:29:13.249Z"
   },
   {
    "duration": 128,
    "start_time": "2022-12-28T14:29:13.536Z"
   },
   {
    "duration": 4,
    "start_time": "2022-12-28T14:29:13.666Z"
   },
   {
    "duration": 169,
    "start_time": "2022-12-28T14:29:13.672Z"
   },
   {
    "duration": 4,
    "start_time": "2022-12-28T14:29:13.843Z"
   },
   {
    "duration": 325,
    "start_time": "2022-12-28T14:29:13.849Z"
   },
   {
    "duration": 144,
    "start_time": "2022-12-28T14:29:14.176Z"
   },
   {
    "duration": 28,
    "start_time": "2022-12-28T14:29:14.322Z"
   },
   {
    "duration": 3,
    "start_time": "2022-12-28T14:29:14.352Z"
   },
   {
    "duration": 189,
    "start_time": "2022-12-28T14:29:14.356Z"
   },
   {
    "duration": 42,
    "start_time": "2022-12-28T14:29:14.546Z"
   },
   {
    "duration": 59,
    "start_time": "2022-12-28T14:29:14.590Z"
   },
   {
    "duration": 42,
    "start_time": "2022-12-28T14:29:14.651Z"
   },
   {
    "duration": 60,
    "start_time": "2022-12-28T14:29:14.694Z"
   },
   {
    "duration": 20,
    "start_time": "2022-12-28T14:29:14.756Z"
   },
   {
    "duration": 51,
    "start_time": "2022-12-28T14:29:14.777Z"
   },
   {
    "duration": 79,
    "start_time": "2022-12-28T14:29:14.832Z"
   },
   {
    "duration": 1351,
    "start_time": "2022-12-28T14:29:31.531Z"
   },
   {
    "duration": 7,
    "start_time": "2022-12-28T14:29:36.031Z"
   },
   {
    "duration": 75,
    "start_time": "2022-12-28T14:30:36.871Z"
   },
   {
    "duration": 86,
    "start_time": "2022-12-28T14:35:19.090Z"
   },
   {
    "duration": 1154,
    "start_time": "2022-12-28T16:11:59.479Z"
   },
   {
    "duration": 79,
    "start_time": "2022-12-28T16:12:00.634Z"
   },
   {
    "duration": 11,
    "start_time": "2022-12-28T16:12:00.715Z"
   },
   {
    "duration": 29,
    "start_time": "2022-12-28T16:12:00.728Z"
   },
   {
    "duration": 10,
    "start_time": "2022-12-28T16:12:00.759Z"
   },
   {
    "duration": 63,
    "start_time": "2022-12-28T16:12:00.771Z"
   },
   {
    "duration": 11,
    "start_time": "2022-12-28T16:12:00.836Z"
   },
   {
    "duration": 20,
    "start_time": "2022-12-28T16:12:00.849Z"
   },
   {
    "duration": 18,
    "start_time": "2022-12-28T16:12:00.870Z"
   },
   {
    "duration": 25,
    "start_time": "2022-12-28T16:12:00.890Z"
   },
   {
    "duration": 30,
    "start_time": "2022-12-28T16:12:00.919Z"
   },
   {
    "duration": 12,
    "start_time": "2022-12-28T16:12:00.951Z"
   },
   {
    "duration": 17,
    "start_time": "2022-12-28T16:12:00.965Z"
   },
   {
    "duration": 24,
    "start_time": "2022-12-28T16:12:00.984Z"
   },
   {
    "duration": 19,
    "start_time": "2022-12-28T16:12:01.009Z"
   },
   {
    "duration": 29,
    "start_time": "2022-12-28T16:12:01.030Z"
   },
   {
    "duration": 14,
    "start_time": "2022-12-28T16:12:01.061Z"
   },
   {
    "duration": 26,
    "start_time": "2022-12-28T16:12:01.077Z"
   },
   {
    "duration": 39,
    "start_time": "2022-12-28T16:12:01.105Z"
   },
   {
    "duration": 285,
    "start_time": "2022-12-28T16:12:01.146Z"
   },
   {
    "duration": 298,
    "start_time": "2022-12-28T16:12:01.433Z"
   },
   {
    "duration": 222,
    "start_time": "2022-12-28T16:12:01.733Z"
   },
   {
    "duration": 314,
    "start_time": "2022-12-28T16:12:01.956Z"
   },
   {
    "duration": 223,
    "start_time": "2022-12-28T16:12:02.272Z"
   },
   {
    "duration": 333,
    "start_time": "2022-12-28T16:12:02.497Z"
   },
   {
    "duration": 138,
    "start_time": "2022-12-28T16:12:02.832Z"
   },
   {
    "duration": 4,
    "start_time": "2022-12-28T16:12:02.972Z"
   },
   {
    "duration": 172,
    "start_time": "2022-12-28T16:12:02.981Z"
   },
   {
    "duration": 4,
    "start_time": "2022-12-28T16:12:03.155Z"
   },
   {
    "duration": 313,
    "start_time": "2022-12-28T16:12:03.161Z"
   },
   {
    "duration": 131,
    "start_time": "2022-12-28T16:12:03.476Z"
   },
   {
    "duration": 32,
    "start_time": "2022-12-28T16:12:03.608Z"
   },
   {
    "duration": 8,
    "start_time": "2022-12-28T16:12:03.642Z"
   },
   {
    "duration": 35,
    "start_time": "2022-12-28T16:12:03.651Z"
   },
   {
    "duration": 27,
    "start_time": "2022-12-28T16:12:03.688Z"
   },
   {
    "duration": 72,
    "start_time": "2022-12-28T16:12:03.721Z"
   },
   {
    "duration": 37,
    "start_time": "2022-12-28T16:12:03.795Z"
   },
   {
    "duration": 43,
    "start_time": "2022-12-28T16:12:03.834Z"
   },
   {
    "duration": 9,
    "start_time": "2022-12-28T16:12:03.879Z"
   },
   {
    "duration": 27,
    "start_time": "2022-12-28T16:12:03.889Z"
   },
   {
    "duration": 41,
    "start_time": "2022-12-28T16:12:03.918Z"
   },
   {
    "duration": 55,
    "start_time": "2022-12-28T22:48:30.741Z"
   },
   {
    "duration": 1336,
    "start_time": "2022-12-28T22:48:39.550Z"
   },
   {
    "duration": 187,
    "start_time": "2022-12-28T22:48:40.889Z"
   },
   {
    "duration": 12,
    "start_time": "2022-12-28T22:48:41.077Z"
   },
   {
    "duration": 20,
    "start_time": "2022-12-28T22:48:41.091Z"
   },
   {
    "duration": 15,
    "start_time": "2022-12-28T22:48:41.113Z"
   },
   {
    "duration": 54,
    "start_time": "2022-12-28T22:48:41.129Z"
   },
   {
    "duration": 13,
    "start_time": "2022-12-28T22:48:41.186Z"
   },
   {
    "duration": 14,
    "start_time": "2022-12-28T22:48:41.201Z"
   },
   {
    "duration": 15,
    "start_time": "2022-12-28T22:48:41.217Z"
   },
   {
    "duration": 22,
    "start_time": "2022-12-28T22:48:41.235Z"
   },
   {
    "duration": 15,
    "start_time": "2022-12-28T22:48:41.259Z"
   },
   {
    "duration": 10,
    "start_time": "2022-12-28T22:48:41.296Z"
   },
   {
    "duration": 7,
    "start_time": "2022-12-28T22:48:41.308Z"
   },
   {
    "duration": 17,
    "start_time": "2022-12-28T22:48:41.318Z"
   },
   {
    "duration": 11,
    "start_time": "2022-12-28T22:48:41.336Z"
   },
   {
    "duration": 27,
    "start_time": "2022-12-28T22:48:41.349Z"
   },
   {
    "duration": 8,
    "start_time": "2022-12-28T22:48:41.378Z"
   },
   {
    "duration": 13,
    "start_time": "2022-12-28T22:48:41.387Z"
   },
   {
    "duration": 14,
    "start_time": "2022-12-28T22:48:41.402Z"
   },
   {
    "duration": 293,
    "start_time": "2022-12-28T22:48:41.417Z"
   },
   {
    "duration": 328,
    "start_time": "2022-12-28T22:48:41.712Z"
   },
   {
    "duration": 217,
    "start_time": "2022-12-28T22:48:42.042Z"
   },
   {
    "duration": 385,
    "start_time": "2022-12-28T22:48:42.261Z"
   },
   {
    "duration": 238,
    "start_time": "2022-12-28T22:48:42.649Z"
   },
   {
    "duration": 331,
    "start_time": "2022-12-28T22:48:42.896Z"
   },
   {
    "duration": 144,
    "start_time": "2022-12-28T22:48:43.229Z"
   },
   {
    "duration": 4,
    "start_time": "2022-12-28T22:48:43.375Z"
   },
   {
    "duration": 162,
    "start_time": "2022-12-28T22:48:43.381Z"
   },
   {
    "duration": 4,
    "start_time": "2022-12-28T22:48:43.545Z"
   },
   {
    "duration": 308,
    "start_time": "2022-12-28T22:48:43.551Z"
   },
   {
    "duration": 180,
    "start_time": "2022-12-28T22:48:43.861Z"
   },
   {
    "duration": 39,
    "start_time": "2022-12-28T22:48:44.043Z"
   },
   {
    "duration": 15,
    "start_time": "2022-12-28T22:48:44.084Z"
   },
   {
    "duration": 15,
    "start_time": "2022-12-28T22:48:44.101Z"
   },
   {
    "duration": 10,
    "start_time": "2022-12-28T22:48:44.118Z"
   },
   {
    "duration": 36,
    "start_time": "2022-12-28T22:48:44.130Z"
   },
   {
    "duration": 11,
    "start_time": "2022-12-28T22:48:44.168Z"
   },
   {
    "duration": 28,
    "start_time": "2022-12-28T22:48:44.181Z"
   },
   {
    "duration": 4,
    "start_time": "2022-12-28T22:48:44.210Z"
   },
   {
    "duration": 14,
    "start_time": "2022-12-28T22:48:44.216Z"
   },
   {
    "duration": 8,
    "start_time": "2022-12-28T22:48:44.233Z"
   },
   {
    "duration": 105,
    "start_time": "2022-12-28T23:03:17.892Z"
   },
   {
    "duration": 6,
    "start_time": "2022-12-28T23:03:24.944Z"
   },
   {
    "duration": 5,
    "start_time": "2022-12-28T23:03:34.040Z"
   },
   {
    "duration": 5,
    "start_time": "2022-12-28T23:04:51.464Z"
   },
   {
    "duration": 5,
    "start_time": "2022-12-28T23:05:04.153Z"
   },
   {
    "duration": 4,
    "start_time": "2022-12-28T23:05:34.093Z"
   },
   {
    "duration": 4,
    "start_time": "2022-12-28T23:05:36.125Z"
   },
   {
    "duration": 34,
    "start_time": "2022-12-28T23:09:33.661Z"
   },
   {
    "duration": 9,
    "start_time": "2022-12-28T23:09:47.862Z"
   },
   {
    "duration": 17,
    "start_time": "2022-12-28T23:09:59.058Z"
   },
   {
    "duration": 9,
    "start_time": "2022-12-28T23:10:17.443Z"
   },
   {
    "duration": 54,
    "start_time": "2022-12-28T23:17:14.626Z"
   },
   {
    "duration": 333,
    "start_time": "2022-12-28T23:17:42.069Z"
   },
   {
    "duration": 340,
    "start_time": "2022-12-28T23:18:07.979Z"
   },
   {
    "duration": 47,
    "start_time": "2022-12-28T23:19:09.263Z"
   },
   {
    "duration": 12,
    "start_time": "2022-12-28T23:21:48.207Z"
   },
   {
    "duration": 11,
    "start_time": "2022-12-28T23:21:57.367Z"
   },
   {
    "duration": 243,
    "start_time": "2022-12-28T23:22:52.967Z"
   },
   {
    "duration": 253,
    "start_time": "2022-12-28T23:23:03.962Z"
   },
   {
    "duration": 149,
    "start_time": "2022-12-28T23:23:34.516Z"
   },
   {
    "duration": 144,
    "start_time": "2022-12-28T23:23:39.364Z"
   },
   {
    "duration": 160,
    "start_time": "2022-12-28T23:23:56.164Z"
   },
   {
    "duration": 157,
    "start_time": "2022-12-28T23:24:09.873Z"
   },
   {
    "duration": 1099,
    "start_time": "2022-12-29T00:02:18.745Z"
   },
   {
    "duration": 77,
    "start_time": "2022-12-29T00:02:19.846Z"
   },
   {
    "duration": 15,
    "start_time": "2022-12-29T00:02:19.924Z"
   },
   {
    "duration": 15,
    "start_time": "2022-12-29T00:02:19.941Z"
   },
   {
    "duration": 4,
    "start_time": "2022-12-29T00:02:19.959Z"
   },
   {
    "duration": 58,
    "start_time": "2022-12-29T00:02:19.965Z"
   },
   {
    "duration": 11,
    "start_time": "2022-12-29T00:02:20.025Z"
   },
   {
    "duration": 11,
    "start_time": "2022-12-29T00:02:20.038Z"
   },
   {
    "duration": 43,
    "start_time": "2022-12-29T00:02:20.051Z"
   },
   {
    "duration": 17,
    "start_time": "2022-12-29T00:02:20.096Z"
   },
   {
    "duration": 15,
    "start_time": "2022-12-29T00:02:20.115Z"
   },
   {
    "duration": 22,
    "start_time": "2022-12-29T00:02:20.132Z"
   },
   {
    "duration": 16,
    "start_time": "2022-12-29T00:02:20.155Z"
   },
   {
    "duration": 17,
    "start_time": "2022-12-29T00:02:20.174Z"
   },
   {
    "duration": 18,
    "start_time": "2022-12-29T00:02:20.193Z"
   },
   {
    "duration": 15,
    "start_time": "2022-12-29T00:02:20.213Z"
   },
   {
    "duration": 18,
    "start_time": "2022-12-29T00:02:20.230Z"
   },
   {
    "duration": 21,
    "start_time": "2022-12-29T00:02:20.250Z"
   },
   {
    "duration": 12,
    "start_time": "2022-12-29T00:02:20.273Z"
   },
   {
    "duration": 22,
    "start_time": "2022-12-29T00:02:20.287Z"
   },
   {
    "duration": 37,
    "start_time": "2022-12-29T00:02:20.310Z"
   },
   {
    "duration": 38,
    "start_time": "2022-12-29T00:02:20.349Z"
   },
   {
    "duration": 14,
    "start_time": "2022-12-29T00:02:20.389Z"
   },
   {
    "duration": 17,
    "start_time": "2022-12-29T00:02:20.406Z"
   },
   {
    "duration": 11,
    "start_time": "2022-12-29T00:02:20.425Z"
   },
   {
    "duration": 23,
    "start_time": "2022-12-29T00:02:20.438Z"
   },
   {
    "duration": 282,
    "start_time": "2022-12-29T00:02:20.463Z"
   },
   {
    "duration": 297,
    "start_time": "2022-12-29T00:02:20.747Z"
   },
   {
    "duration": 219,
    "start_time": "2022-12-29T00:02:21.045Z"
   },
   {
    "duration": 355,
    "start_time": "2022-12-29T00:02:21.265Z"
   },
   {
    "duration": 239,
    "start_time": "2022-12-29T00:02:21.622Z"
   },
   {
    "duration": 363,
    "start_time": "2022-12-29T00:02:21.865Z"
   },
   {
    "duration": 142,
    "start_time": "2022-12-29T00:02:22.230Z"
   },
   {
    "duration": 5,
    "start_time": "2022-12-29T00:02:22.374Z"
   },
   {
    "duration": 189,
    "start_time": "2022-12-29T00:02:22.381Z"
   },
   {
    "duration": 239,
    "start_time": "2022-12-29T00:02:22.572Z"
   },
   {
    "duration": 4,
    "start_time": "2022-12-29T00:02:22.813Z"
   },
   {
    "duration": 235,
    "start_time": "2022-12-29T00:02:22.818Z"
   },
   {
    "duration": 141,
    "start_time": "2022-12-29T00:02:23.055Z"
   },
   {
    "duration": 24,
    "start_time": "2022-12-29T00:02:23.198Z"
   },
   {
    "duration": 6,
    "start_time": "2022-12-29T00:02:23.223Z"
   },
   {
    "duration": 27,
    "start_time": "2022-12-29T00:02:23.231Z"
   },
   {
    "duration": 22,
    "start_time": "2022-12-29T00:02:23.259Z"
   },
   {
    "duration": 16,
    "start_time": "2022-12-29T00:02:23.283Z"
   },
   {
    "duration": 17,
    "start_time": "2022-12-29T00:02:23.301Z"
   },
   {
    "duration": 43,
    "start_time": "2022-12-29T00:02:23.320Z"
   },
   {
    "duration": 11,
    "start_time": "2022-12-29T00:02:23.364Z"
   },
   {
    "duration": 19,
    "start_time": "2022-12-29T00:02:23.376Z"
   },
   {
    "duration": 13,
    "start_time": "2022-12-29T00:02:23.396Z"
   },
   {
    "duration": 1183,
    "start_time": "2022-12-29T21:27:07.656Z"
   },
   {
    "duration": 201,
    "start_time": "2022-12-29T21:27:08.841Z"
   },
   {
    "duration": 13,
    "start_time": "2022-12-29T21:27:09.044Z"
   },
   {
    "duration": 16,
    "start_time": "2022-12-29T21:27:09.058Z"
   },
   {
    "duration": 5,
    "start_time": "2022-12-29T21:27:09.076Z"
   },
   {
    "duration": 53,
    "start_time": "2022-12-29T21:27:09.082Z"
   },
   {
    "duration": 27,
    "start_time": "2022-12-29T21:27:09.138Z"
   },
   {
    "duration": 16,
    "start_time": "2022-12-29T21:27:09.167Z"
   },
   {
    "duration": 6,
    "start_time": "2022-12-29T21:27:09.185Z"
   },
   {
    "duration": 15,
    "start_time": "2022-12-29T21:27:09.193Z"
   },
   {
    "duration": 45,
    "start_time": "2022-12-29T21:27:09.210Z"
   },
   {
    "duration": 8,
    "start_time": "2022-12-29T21:27:09.256Z"
   },
   {
    "duration": 9,
    "start_time": "2022-12-29T21:27:09.265Z"
   },
   {
    "duration": 14,
    "start_time": "2022-12-29T21:27:09.277Z"
   },
   {
    "duration": 5,
    "start_time": "2022-12-29T21:27:09.292Z"
   },
   {
    "duration": 6,
    "start_time": "2022-12-29T21:27:09.299Z"
   },
   {
    "duration": 15,
    "start_time": "2022-12-29T21:27:09.307Z"
   },
   {
    "duration": 35,
    "start_time": "2022-12-29T21:27:09.324Z"
   },
   {
    "duration": 12,
    "start_time": "2022-12-29T21:27:09.360Z"
   },
   {
    "duration": 9,
    "start_time": "2022-12-29T21:27:09.374Z"
   },
   {
    "duration": 11,
    "start_time": "2022-12-29T21:27:09.385Z"
   },
   {
    "duration": 12,
    "start_time": "2022-12-29T21:27:09.398Z"
   },
   {
    "duration": 10,
    "start_time": "2022-12-29T21:27:09.412Z"
   },
   {
    "duration": 7,
    "start_time": "2022-12-29T21:27:09.424Z"
   },
   {
    "duration": 6,
    "start_time": "2022-12-29T21:27:09.451Z"
   },
   {
    "duration": 17,
    "start_time": "2022-12-29T21:27:09.459Z"
   },
   {
    "duration": 382,
    "start_time": "2022-12-29T21:27:09.478Z"
   },
   {
    "duration": 360,
    "start_time": "2022-12-29T21:27:09.862Z"
   },
   {
    "duration": 233,
    "start_time": "2022-12-29T21:27:10.224Z"
   },
   {
    "duration": 324,
    "start_time": "2022-12-29T21:27:10.458Z"
   },
   {
    "duration": 252,
    "start_time": "2022-12-29T21:27:10.784Z"
   },
   {
    "duration": 367,
    "start_time": "2022-12-29T21:27:11.038Z"
   },
   {
    "duration": 154,
    "start_time": "2022-12-29T21:27:11.407Z"
   },
   {
    "duration": 4,
    "start_time": "2022-12-29T21:27:11.563Z"
   },
   {
    "duration": 170,
    "start_time": "2022-12-29T21:27:11.569Z"
   },
   {
    "duration": 245,
    "start_time": "2022-12-29T21:27:11.741Z"
   },
   {
    "duration": 5,
    "start_time": "2022-12-29T21:27:11.988Z"
   },
   {
    "duration": 264,
    "start_time": "2022-12-29T21:27:11.994Z"
   },
   {
    "duration": 181,
    "start_time": "2022-12-29T21:27:12.260Z"
   },
   {
    "duration": 37,
    "start_time": "2022-12-29T21:27:12.443Z"
   },
   {
    "duration": 4,
    "start_time": "2022-12-29T21:27:12.484Z"
   },
   {
    "duration": 12,
    "start_time": "2022-12-29T21:27:12.490Z"
   },
   {
    "duration": 8,
    "start_time": "2022-12-29T21:27:12.504Z"
   },
   {
    "duration": 39,
    "start_time": "2022-12-29T21:27:12.513Z"
   },
   {
    "duration": 11,
    "start_time": "2022-12-29T21:27:12.553Z"
   },
   {
    "duration": 27,
    "start_time": "2022-12-29T21:27:12.566Z"
   },
   {
    "duration": 5,
    "start_time": "2022-12-29T21:27:12.594Z"
   },
   {
    "duration": 14,
    "start_time": "2022-12-29T21:27:12.600Z"
   },
   {
    "duration": 12,
    "start_time": "2022-12-29T21:27:12.616Z"
   },
   {
    "duration": 1300,
    "start_time": "2023-01-10T11:31:13.358Z"
   },
   {
    "duration": 296,
    "start_time": "2023-01-10T11:31:14.661Z"
   },
   {
    "duration": 12,
    "start_time": "2023-01-10T11:31:14.959Z"
   },
   {
    "duration": 21,
    "start_time": "2023-01-10T11:31:14.972Z"
   },
   {
    "duration": 30,
    "start_time": "2023-01-10T11:31:14.995Z"
   },
   {
    "duration": 68,
    "start_time": "2023-01-10T11:31:15.027Z"
   },
   {
    "duration": 12,
    "start_time": "2023-01-10T11:31:15.097Z"
   },
   {
    "duration": 21,
    "start_time": "2023-01-10T11:31:15.110Z"
   },
   {
    "duration": 15,
    "start_time": "2023-01-10T11:31:15.133Z"
   },
   {
    "duration": 21,
    "start_time": "2023-01-10T11:31:15.150Z"
   },
   {
    "duration": 20,
    "start_time": "2023-01-10T11:31:15.173Z"
   },
   {
    "duration": 19,
    "start_time": "2023-01-10T11:31:15.195Z"
   },
   {
    "duration": 36,
    "start_time": "2023-01-10T11:31:15.216Z"
   },
   {
    "duration": 34,
    "start_time": "2023-01-10T11:31:15.255Z"
   },
   {
    "duration": 27,
    "start_time": "2023-01-10T11:31:15.291Z"
   },
   {
    "duration": 13,
    "start_time": "2023-01-10T11:31:15.320Z"
   },
   {
    "duration": 16,
    "start_time": "2023-01-10T11:31:15.335Z"
   },
   {
    "duration": 26,
    "start_time": "2023-01-10T11:31:15.353Z"
   },
   {
    "duration": 18,
    "start_time": "2023-01-10T11:31:15.381Z"
   },
   {
    "duration": 23,
    "start_time": "2023-01-10T11:31:15.402Z"
   },
   {
    "duration": 14,
    "start_time": "2023-01-10T11:31:15.427Z"
   },
   {
    "duration": 22,
    "start_time": "2023-01-10T11:31:15.442Z"
   },
   {
    "duration": 13,
    "start_time": "2023-01-10T11:31:15.465Z"
   },
   {
    "duration": 18,
    "start_time": "2023-01-10T11:31:15.480Z"
   },
   {
    "duration": 12,
    "start_time": "2023-01-10T11:31:15.499Z"
   },
   {
    "duration": 17,
    "start_time": "2023-01-10T11:31:15.513Z"
   },
   {
    "duration": 114,
    "start_time": "2023-01-10T11:31:15.532Z"
   },
   {
    "duration": 966,
    "start_time": "2023-01-10T11:31:29.450Z"
   },
   {
    "duration": 10,
    "start_time": "2023-01-10T11:31:42.156Z"
   },
   {
    "duration": 9,
    "start_time": "2023-01-10T11:32:43.029Z"
   },
   {
    "duration": 17,
    "start_time": "2023-01-10T11:33:29.729Z"
   },
   {
    "duration": 12,
    "start_time": "2023-01-10T11:33:37.779Z"
   }
  ],
  "kernelspec": {
   "display_name": "Python 3 (ipykernel)",
   "language": "python",
   "name": "python3"
  },
  "language_info": {
   "codemirror_mode": {
    "name": "ipython",
    "version": 3
   },
   "file_extension": ".py",
   "mimetype": "text/x-python",
   "name": "python",
   "nbconvert_exporter": "python",
   "pygments_lexer": "ipython3",
   "version": "3.9.5"
  },
  "toc": {
   "base_numbering": 1,
   "nav_menu": {},
   "number_sections": false,
   "sideBar": true,
   "skip_h1_title": false,
   "title_cell": "Принятие решений в бизнесе",
   "title_sidebar": "Contents",
   "toc_cell": true,
   "toc_position": {
    "height": "563.625px",
    "left": "99px",
    "top": "109.525px",
    "width": "317.075px"
   },
   "toc_section_display": true,
   "toc_window_display": true
  }
 },
 "nbformat": 4,
 "nbformat_minor": 2
}
