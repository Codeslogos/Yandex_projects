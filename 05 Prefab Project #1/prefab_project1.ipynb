{
 "cells": [
  {
   "cell_type": "markdown",
   "metadata": {
    "toc": true
   },
   "source": [
    "<h1>Сборный Проект<span class=\"tocSkip\"></span></h1>\n",
    "<div class=\"toc\"><ul class=\"toc-item\"><li><span><a href=\"#Описание-проекта-и-данных.\" data-toc-modified-id=\"Описание-проекта-и-данных.-1\"><span class=\"toc-item-num\">1&nbsp;&nbsp;</span>Описание проекта и данных.</a></span></li><li><span><a href=\"#Знакомимся-с-данными.\" data-toc-modified-id=\"Знакомимся-с-данными.-2\"><span class=\"toc-item-num\">2&nbsp;&nbsp;</span>Знакомимся с данными.</a></span><ul class=\"toc-item\"><li><span><a href=\"#Импортируем-библиотеки\" data-toc-modified-id=\"Импортируем-библиотеки-2.1\"><span class=\"toc-item-num\">2.1&nbsp;&nbsp;</span>Импортируем библиотеки</a></span></li><li><span><a href=\"#Откроем-файл\" data-toc-modified-id=\"Откроем-файл-2.2\"><span class=\"toc-item-num\">2.2&nbsp;&nbsp;</span>Откроем файл</a></span></li><li><span><a href=\"#Изучим-общую-информацию\" data-toc-modified-id=\"Изучим-общую-информацию-2.3\"><span class=\"toc-item-num\">2.3&nbsp;&nbsp;</span>Изучим общую информацию</a></span></li><li><span><a href=\"#Вывод-по-блоку\" data-toc-modified-id=\"Вывод-по-блоку-2.4\"><span class=\"toc-item-num\">2.4&nbsp;&nbsp;</span>Вывод по блоку</a></span></li></ul></li><li><span><a href=\"#Предобработка-данных\" data-toc-modified-id=\"Предобработка-данных-3\"><span class=\"toc-item-num\">3&nbsp;&nbsp;</span>Предобработка данных</a></span><ul class=\"toc-item\"><li><span><a href=\"#Приведение-названий-столбцов-к-нижнему-регистру\" data-toc-modified-id=\"Приведение-названий-столбцов-к-нижнему-регистру-3.1\"><span class=\"toc-item-num\">3.1&nbsp;&nbsp;</span>Приведение названий столбцов к нижнему регистру</a></span></li><li><span><a href=\"#Обработка-пропусков-в-столбцах\" data-toc-modified-id=\"Обработка-пропусков-в-столбцах-3.2\"><span class=\"toc-item-num\">3.2&nbsp;&nbsp;</span>Обработка пропусков в столбцах</a></span></li><li><span><a href=\"#Расчет-столбца-с-суммарными-продажми-во-всех-регионах.\" data-toc-modified-id=\"Расчет-столбца-с-суммарными-продажми-во-всех-регионах.-3.3\"><span class=\"toc-item-num\">3.3&nbsp;&nbsp;</span>Расчет столбца с суммарными продажми во всех регионах.</a></span></li><li><span><a href=\"#Вывод-по-блоку\" data-toc-modified-id=\"Вывод-по-блоку-3.4\"><span class=\"toc-item-num\">3.4&nbsp;&nbsp;</span>Вывод по блоку</a></span></li></ul></li><li><span><a href=\"#Исследовательский-анализ-данных\" data-toc-modified-id=\"Исследовательский-анализ-данных-4\"><span class=\"toc-item-num\">4&nbsp;&nbsp;</span>Исследовательский анализ данных</a></span><ul class=\"toc-item\"><li><span><a href=\"#Сколько-игр-выпускалось-в-разные-годы\" data-toc-modified-id=\"Сколько-игр-выпускалось-в-разные-годы-4.1\"><span class=\"toc-item-num\">4.1&nbsp;&nbsp;</span>Сколько игр выпускалось в разные годы</a></span></li><li><span><a href=\"#Как-менялись-продажи-по-популярным-платформам.\" data-toc-modified-id=\"Как-менялись-продажи-по-популярным-платформам.-4.2\"><span class=\"toc-item-num\">4.2&nbsp;&nbsp;</span>Как менялись продажи по популярным платформам.</a></span></li><li><span><a href=\"#Оценка-актуального-рынка-платформ\" data-toc-modified-id=\"Оценка-актуального-рынка-платформ-4.3\"><span class=\"toc-item-num\">4.3&nbsp;&nbsp;</span>Оценка актуального рынка платформ</a></span></li><li><span><a href=\"#График-«ящик-с-усами»-по-глобальным-продажам-игр-в-разбивке-по-популярным-платформам-для-актуального-периода\" data-toc-modified-id=\"График-«ящик-с-усами»-по-глобальным-продажам-игр-в-разбивке-по-популярным-платформам-для-актуального-периода-4.4\"><span class=\"toc-item-num\">4.4&nbsp;&nbsp;</span>График «ящик с усами» по глобальным продажам игр в разбивке по популярным платформам для актуального периода</a></span></li><li><span><a href=\"#Влияние-на-продажи-внутри-одной-популярной-платформы-в-зависимости-от-оценки-пользователей-и-критиков\" data-toc-modified-id=\"Влияние-на-продажи-внутри-одной-популярной-платформы-в-зависимости-от-оценки-пользователей-и-критиков-4.5\"><span class=\"toc-item-num\">4.5&nbsp;&nbsp;</span>Влияние на продажи внутри одной популярной платформы в зависимости от оценки пользователей и критиков</a></span></li><li><span><a href=\"#Влияние-на-продажи--популярных-платформ-в-зависимости-от-оценки-пользователей-и-критиков\" data-toc-modified-id=\"Влияние-на-продажи--популярных-платформ-в-зависимости-от-оценки-пользователей-и-критиков-4.6\"><span class=\"toc-item-num\">4.6&nbsp;&nbsp;</span>Влияние на продажи  популярных платформ в зависимости от оценки пользователей и критиков</a></span></li><li><span><a href=\"#Общее-распределение-игр-по-жанрам\" data-toc-modified-id=\"Общее-распределение-игр-по-жанрам-4.7\"><span class=\"toc-item-num\">4.7&nbsp;&nbsp;</span>Общее распределение игр по жанрам</a></span></li><li><span><a href=\"#Вывод-по-блоку\" data-toc-modified-id=\"Вывод-по-блоку-4.8\"><span class=\"toc-item-num\">4.8&nbsp;&nbsp;</span>Вывод по блоку</a></span></li></ul></li><li><span><a href=\"#Составление-портрета-пользователя-каждого-региона\" data-toc-modified-id=\"Составление-портрета-пользователя-каждого-региона-5\"><span class=\"toc-item-num\">5&nbsp;&nbsp;</span>Составление портрета пользователя каждого региона</a></span><ul class=\"toc-item\"><li><span><a href=\"#Самые-популярные-платформы-(топ-5)\" data-toc-modified-id=\"Самые-популярные-платформы-(топ-5)-5.1\"><span class=\"toc-item-num\">5.1&nbsp;&nbsp;</span>Самые популярные платформы (топ-5)</a></span></li><li><span><a href=\"#Самые-популярные-жанры-(топ-5)\" data-toc-modified-id=\"Самые-популярные-жанры-(топ-5)-5.2\"><span class=\"toc-item-num\">5.2&nbsp;&nbsp;</span>Самые популярные жанры (топ-5)</a></span></li><li><span><a href=\"#Влияе-рейтинга-ESRB-на-продажи-в-отдельном-регионе\" data-toc-modified-id=\"Влияе-рейтинга-ESRB-на-продажи-в-отдельном-регионе-5.3\"><span class=\"toc-item-num\">5.3&nbsp;&nbsp;</span>Влияе рейтинга ESRB на продажи в отдельном регионе</a></span></li><li><span><a href=\"#Вывод-по-блоку\" data-toc-modified-id=\"Вывод-по-блоку-5.4\"><span class=\"toc-item-num\">5.4&nbsp;&nbsp;</span>Вывод по блоку</a></span></li></ul></li><li><span><a href=\"#Проверьте-гипотезы\" data-toc-modified-id=\"Проверьте-гипотезы-6\"><span class=\"toc-item-num\">6&nbsp;&nbsp;</span>Проверьте гипотезы</a></span><ul class=\"toc-item\"><li><span><a href=\"#Средние-пользовательские-рейтинги-платформ-Xbox-One-и-PC-одинаковые\" data-toc-modified-id=\"Средние-пользовательские-рейтинги-платформ-Xbox-One-и-PC-одинаковые-6.1\"><span class=\"toc-item-num\">6.1&nbsp;&nbsp;</span>Средние пользовательские рейтинги платформ Xbox One и PC одинаковые</a></span></li><li><span><a href=\"#Средние-пользовательские-рейтинги-жанров-Action--и-Sports-разные\" data-toc-modified-id=\"Средние-пользовательские-рейтинги-жанров-Action--и-Sports-разные-6.2\"><span class=\"toc-item-num\">6.2&nbsp;&nbsp;</span>Средние пользовательские рейтинги жанров Action  и Sports разные</a></span></li><li><span><a href=\"#Вывод-по-блоку\" data-toc-modified-id=\"Вывод-по-блоку-6.3\"><span class=\"toc-item-num\">6.3&nbsp;&nbsp;</span>Вывод по блоку</a></span></li></ul></li><li><span><a href=\"#Общий-вывод\" data-toc-modified-id=\"Общий-вывод-7\"><span class=\"toc-item-num\">7&nbsp;&nbsp;</span>Общий вывод</a></span></li></ul></div>"
   ]
  },
  {
   "cell_type": "markdown",
   "metadata": {},
   "source": [
    "### Описание проекта и данных. "
   ]
  },
  {
   "cell_type": "markdown",
   "metadata": {},
   "source": [
    "Нужно выявить определяющие успешность игры закономерности, что позволит сделать ставку на потенциально популярный продукт и спланировать рекламные кампании, на основании данных из открытых источников доступны исторические данные о продажах игр, оценки \n",
    "Перед вами данные до 2016 года.\n",
    "\n",
    "Представим, что сейчас декабрь 2016 г., и мы планируете кампанию на 2017-й.\n",
    "\n",
    "В наборе данных попадается аббревиатура ESRB (Entertainment Software Rating Board) — это ассоциация, определяющая возрастной рейтинг компьютерных игр. ESRB оценивает игровой контент и присваивает ему подходящую возрастную категорию, например, «Для взрослых», «Для детей младшего возраста» или «Для подростков»."
   ]
  },
  {
   "cell_type": "markdown",
   "metadata": {},
   "source": [
    "Name — название игры\n",
    "\n",
    "Platform — платформа\n",
    "\n",
    "Year_of_Release — год выпуска\n",
    "\n",
    "Genre — жанр игры\n",
    "\n",
    "NA_sales — продажи в Северной Америке (миллионы проданных копий)\n",
    "\n",
    "EU_sales — продажи в Европе (миллионы проданных копий)\n",
    "\n",
    "JP_sales — продажи в Японии (миллионы проданных копий)\n",
    "\n",
    "Other_sales — продажи в других странах (миллионы проданных копий)\n",
    "\n",
    "Critic_Score — оценка критиков (максимум 100)\n",
    "\n",
    "User_Score — оценка пользователей (максимум 10)\n",
    "\n",
    "Rating — рейтинг от организации ESRB (англ. Entertainment Software Rating Board). Эта ассоциация определяет рейтинг компьютерных игр и присваивает им подходящую возрастную категорию."
   ]
  },
  {
   "cell_type": "markdown",
   "metadata": {},
   "source": [
    "### Знакомимся с данными. "
   ]
  },
  {
   "cell_type": "markdown",
   "metadata": {},
   "source": [
    "#### Импортируем библиотеки"
   ]
  },
  {
   "cell_type": "code",
   "execution_count": 1,
   "metadata": {},
   "outputs": [],
   "source": [
    "import pandas as pd\n",
    "import numpy as np\n",
    "import matplotlib.pyplot as plt\n",
    "import seaborn as sns\n",
    "\n",
    "from datetime import datetime\n",
    "from scipy import stats as st"
   ]
  },
  {
   "cell_type": "markdown",
   "metadata": {},
   "source": [
    "#### Откроем файл"
   ]
  },
  {
   "cell_type": "code",
   "execution_count": 2,
   "metadata": {},
   "outputs": [],
   "source": [
    "df = pd.read_csv('/datasets/games.csv')"
   ]
  },
  {
   "cell_type": "markdown",
   "metadata": {},
   "source": [
    "#### Изучим общую информацию"
   ]
  },
  {
   "cell_type": "code",
   "execution_count": 3,
   "metadata": {},
   "outputs": [
    {
     "name": "stdout",
     "output_type": "stream",
     "text": [
      "<class 'pandas.core.frame.DataFrame'>\n",
      "RangeIndex: 16715 entries, 0 to 16714\n",
      "Data columns (total 11 columns):\n",
      " #   Column           Non-Null Count  Dtype  \n",
      "---  ------           --------------  -----  \n",
      " 0   Name             16713 non-null  object \n",
      " 1   Platform         16715 non-null  object \n",
      " 2   Year_of_Release  16446 non-null  float64\n",
      " 3   Genre            16713 non-null  object \n",
      " 4   NA_sales         16715 non-null  float64\n",
      " 5   EU_sales         16715 non-null  float64\n",
      " 6   JP_sales         16715 non-null  float64\n",
      " 7   Other_sales      16715 non-null  float64\n",
      " 8   Critic_Score     8137 non-null   float64\n",
      " 9   User_Score       10014 non-null  object \n",
      " 10  Rating           9949 non-null   object \n",
      "dtypes: float64(6), object(5)\n",
      "memory usage: 1.4+ MB\n"
     ]
    }
   ],
   "source": [
    "df.info()"
   ]
  },
  {
   "cell_type": "code",
   "execution_count": 4,
   "metadata": {
    "scrolled": false
   },
   "outputs": [
    {
     "data": {
      "text/html": [
       "<div>\n",
       "<style scoped>\n",
       "    .dataframe tbody tr th:only-of-type {\n",
       "        vertical-align: middle;\n",
       "    }\n",
       "\n",
       "    .dataframe tbody tr th {\n",
       "        vertical-align: top;\n",
       "    }\n",
       "\n",
       "    .dataframe thead th {\n",
       "        text-align: right;\n",
       "    }\n",
       "</style>\n",
       "<table border=\"1\" class=\"dataframe\">\n",
       "  <thead>\n",
       "    <tr style=\"text-align: right;\">\n",
       "      <th></th>\n",
       "      <th>Name</th>\n",
       "      <th>Platform</th>\n",
       "      <th>Year_of_Release</th>\n",
       "      <th>Genre</th>\n",
       "      <th>NA_sales</th>\n",
       "      <th>EU_sales</th>\n",
       "      <th>JP_sales</th>\n",
       "      <th>Other_sales</th>\n",
       "      <th>Critic_Score</th>\n",
       "      <th>User_Score</th>\n",
       "      <th>Rating</th>\n",
       "    </tr>\n",
       "  </thead>\n",
       "  <tbody>\n",
       "    <tr>\n",
       "      <th>0</th>\n",
       "      <td>Wii Sports</td>\n",
       "      <td>Wii</td>\n",
       "      <td>2006.0</td>\n",
       "      <td>Sports</td>\n",
       "      <td>41.36</td>\n",
       "      <td>28.96</td>\n",
       "      <td>3.77</td>\n",
       "      <td>8.45</td>\n",
       "      <td>76.0</td>\n",
       "      <td>8</td>\n",
       "      <td>E</td>\n",
       "    </tr>\n",
       "    <tr>\n",
       "      <th>1</th>\n",
       "      <td>Super Mario Bros.</td>\n",
       "      <td>NES</td>\n",
       "      <td>1985.0</td>\n",
       "      <td>Platform</td>\n",
       "      <td>29.08</td>\n",
       "      <td>3.58</td>\n",
       "      <td>6.81</td>\n",
       "      <td>0.77</td>\n",
       "      <td>NaN</td>\n",
       "      <td>NaN</td>\n",
       "      <td>NaN</td>\n",
       "    </tr>\n",
       "    <tr>\n",
       "      <th>2</th>\n",
       "      <td>Mario Kart Wii</td>\n",
       "      <td>Wii</td>\n",
       "      <td>2008.0</td>\n",
       "      <td>Racing</td>\n",
       "      <td>15.68</td>\n",
       "      <td>12.76</td>\n",
       "      <td>3.79</td>\n",
       "      <td>3.29</td>\n",
       "      <td>82.0</td>\n",
       "      <td>8.3</td>\n",
       "      <td>E</td>\n",
       "    </tr>\n",
       "    <tr>\n",
       "      <th>3</th>\n",
       "      <td>Wii Sports Resort</td>\n",
       "      <td>Wii</td>\n",
       "      <td>2009.0</td>\n",
       "      <td>Sports</td>\n",
       "      <td>15.61</td>\n",
       "      <td>10.93</td>\n",
       "      <td>3.28</td>\n",
       "      <td>2.95</td>\n",
       "      <td>80.0</td>\n",
       "      <td>8</td>\n",
       "      <td>E</td>\n",
       "    </tr>\n",
       "    <tr>\n",
       "      <th>4</th>\n",
       "      <td>Pokemon Red/Pokemon Blue</td>\n",
       "      <td>GB</td>\n",
       "      <td>1996.0</td>\n",
       "      <td>Role-Playing</td>\n",
       "      <td>11.27</td>\n",
       "      <td>8.89</td>\n",
       "      <td>10.22</td>\n",
       "      <td>1.00</td>\n",
       "      <td>NaN</td>\n",
       "      <td>NaN</td>\n",
       "      <td>NaN</td>\n",
       "    </tr>\n",
       "    <tr>\n",
       "      <th>5</th>\n",
       "      <td>Tetris</td>\n",
       "      <td>GB</td>\n",
       "      <td>1989.0</td>\n",
       "      <td>Puzzle</td>\n",
       "      <td>23.20</td>\n",
       "      <td>2.26</td>\n",
       "      <td>4.22</td>\n",
       "      <td>0.58</td>\n",
       "      <td>NaN</td>\n",
       "      <td>NaN</td>\n",
       "      <td>NaN</td>\n",
       "    </tr>\n",
       "    <tr>\n",
       "      <th>6</th>\n",
       "      <td>New Super Mario Bros.</td>\n",
       "      <td>DS</td>\n",
       "      <td>2006.0</td>\n",
       "      <td>Platform</td>\n",
       "      <td>11.28</td>\n",
       "      <td>9.14</td>\n",
       "      <td>6.50</td>\n",
       "      <td>2.88</td>\n",
       "      <td>89.0</td>\n",
       "      <td>8.5</td>\n",
       "      <td>E</td>\n",
       "    </tr>\n",
       "    <tr>\n",
       "      <th>7</th>\n",
       "      <td>Wii Play</td>\n",
       "      <td>Wii</td>\n",
       "      <td>2006.0</td>\n",
       "      <td>Misc</td>\n",
       "      <td>13.96</td>\n",
       "      <td>9.18</td>\n",
       "      <td>2.93</td>\n",
       "      <td>2.84</td>\n",
       "      <td>58.0</td>\n",
       "      <td>6.6</td>\n",
       "      <td>E</td>\n",
       "    </tr>\n",
       "    <tr>\n",
       "      <th>8</th>\n",
       "      <td>New Super Mario Bros. Wii</td>\n",
       "      <td>Wii</td>\n",
       "      <td>2009.0</td>\n",
       "      <td>Platform</td>\n",
       "      <td>14.44</td>\n",
       "      <td>6.94</td>\n",
       "      <td>4.70</td>\n",
       "      <td>2.24</td>\n",
       "      <td>87.0</td>\n",
       "      <td>8.4</td>\n",
       "      <td>E</td>\n",
       "    </tr>\n",
       "    <tr>\n",
       "      <th>9</th>\n",
       "      <td>Duck Hunt</td>\n",
       "      <td>NES</td>\n",
       "      <td>1984.0</td>\n",
       "      <td>Shooter</td>\n",
       "      <td>26.93</td>\n",
       "      <td>0.63</td>\n",
       "      <td>0.28</td>\n",
       "      <td>0.47</td>\n",
       "      <td>NaN</td>\n",
       "      <td>NaN</td>\n",
       "      <td>NaN</td>\n",
       "    </tr>\n",
       "  </tbody>\n",
       "</table>\n",
       "</div>"
      ],
      "text/plain": [
       "                        Name Platform  Year_of_Release         Genre  \\\n",
       "0                 Wii Sports      Wii           2006.0        Sports   \n",
       "1          Super Mario Bros.      NES           1985.0      Platform   \n",
       "2             Mario Kart Wii      Wii           2008.0        Racing   \n",
       "3          Wii Sports Resort      Wii           2009.0        Sports   \n",
       "4   Pokemon Red/Pokemon Blue       GB           1996.0  Role-Playing   \n",
       "5                     Tetris       GB           1989.0        Puzzle   \n",
       "6      New Super Mario Bros.       DS           2006.0      Platform   \n",
       "7                   Wii Play      Wii           2006.0          Misc   \n",
       "8  New Super Mario Bros. Wii      Wii           2009.0      Platform   \n",
       "9                  Duck Hunt      NES           1984.0       Shooter   \n",
       "\n",
       "   NA_sales  EU_sales  JP_sales  Other_sales  Critic_Score User_Score Rating  \n",
       "0     41.36     28.96      3.77         8.45          76.0          8      E  \n",
       "1     29.08      3.58      6.81         0.77           NaN        NaN    NaN  \n",
       "2     15.68     12.76      3.79         3.29          82.0        8.3      E  \n",
       "3     15.61     10.93      3.28         2.95          80.0          8      E  \n",
       "4     11.27      8.89     10.22         1.00           NaN        NaN    NaN  \n",
       "5     23.20      2.26      4.22         0.58           NaN        NaN    NaN  \n",
       "6     11.28      9.14      6.50         2.88          89.0        8.5      E  \n",
       "7     13.96      9.18      2.93         2.84          58.0        6.6      E  \n",
       "8     14.44      6.94      4.70         2.24          87.0        8.4      E  \n",
       "9     26.93      0.63      0.28         0.47           NaN        NaN    NaN  "
      ]
     },
     "execution_count": 4,
     "metadata": {},
     "output_type": "execute_result"
    }
   ],
   "source": [
    "df.head(10)"
   ]
  },
  {
   "cell_type": "code",
   "execution_count": 5,
   "metadata": {},
   "outputs": [
    {
     "name": "stdout",
     "output_type": "stream",
     "text": [
      "0\n"
     ]
    }
   ],
   "source": [
    "#Автоматический поиск дубликатов\n",
    "print(df.duplicated().sum())"
   ]
  },
  {
   "cell_type": "markdown",
   "metadata": {},
   "source": [
    "Полных дубликатов не выявлено."
   ]
  },
  {
   "cell_type": "code",
   "execution_count": 6,
   "metadata": {},
   "outputs": [
    {
     "data": {
      "image/png": "[encoded data removed]",
      "text/plain": [
       "<Figure size 1080x576 with 6 Axes>"
      ]
     },
     "metadata": {
      "needs_background": "light"
     },
     "output_type": "display_data"
    }
   ],
   "source": [
    "df.hist(figsize=(15,8));"
   ]
  },
  {
   "cell_type": "markdown",
   "metadata": {},
   "source": [
    "#### Вывод по блоку"
   ]
  },
  {
   "cell_type": "markdown",
   "metadata": {},
   "source": [
    "Имеем датафрем, состоящий из 11 колонок и 16715 строк. После вызова меода info() можно обноружить, что не все столбцы полностью заполнены, также у некоторых столбцов не верно указаны типы данных. Также после вызова метода head(), видим, что стоит привести названия колонок к нижнему регистру. Полных дубликатов не выявлено."
   ]
  },
  {
   "cell_type": "markdown",
   "metadata": {},
   "source": [
    "### Предобработка данных"
   ]
  },
  {
   "cell_type": "markdown",
   "metadata": {},
   "source": [
    "#### Приведение названий столбцов к нижнему регистру"
   ]
  },
  {
   "cell_type": "code",
   "execution_count": 7,
   "metadata": {},
   "outputs": [],
   "source": [
    "#Приведение к нижнему регистру\n",
    "df.columns = df.columns.str.lower()"
   ]
  },
  {
   "cell_type": "markdown",
   "metadata": {},
   "source": [
    "#### Обработка пропусков в столбцах"
   ]
  },
  {
   "cell_type": "code",
   "execution_count": 8,
   "metadata": {
    "scrolled": false
   },
   "outputs": [
    {
     "data": {
      "text/html": [
       "<style  type=\"text/css\" >\n",
       "#T_76fa1_row0_col0,#T_76fa1_row1_col0,#T_76fa1_row2_col0,#T_76fa1_row3_col0,#T_76fa1_row4_col0,#T_76fa1_row5_col0,#T_76fa1_row6_col0{\n",
       "            background-color:  #3b4cc0;\n",
       "            color:  #f1f1f1;\n",
       "        }#T_76fa1_row7_col0{\n",
       "            background-color:  #445acc;\n",
       "            color:  #f1f1f1;\n",
       "        }#T_76fa1_row8_col0{\n",
       "            background-color:  #f18d6f;\n",
       "            color:  #000000;\n",
       "        }#T_76fa1_row9_col0{\n",
       "            background-color:  #f08a6c;\n",
       "            color:  #000000;\n",
       "        }#T_76fa1_row10_col0{\n",
       "            background-color:  #b40426;\n",
       "            color:  #f1f1f1;\n",
       "        }</style><table id=\"T_76fa1_\" ><thead>    <tr>        <th class=\"blank level0\" ></th>        <th class=\"col_heading level0 col0\" >0</th>    </tr></thead><tbody>\n",
       "                <tr>\n",
       "                        <th id=\"T_76fa1_level0_row0\" class=\"row_heading level0 row0\" >platform</th>\n",
       "                        <td id=\"T_76fa1_row0_col0\" class=\"data row0 col0\" >0.00%</td>\n",
       "            </tr>\n",
       "            <tr>\n",
       "                        <th id=\"T_76fa1_level0_row1\" class=\"row_heading level0 row1\" >na_sales</th>\n",
       "                        <td id=\"T_76fa1_row1_col0\" class=\"data row1 col0\" >0.00%</td>\n",
       "            </tr>\n",
       "            <tr>\n",
       "                        <th id=\"T_76fa1_level0_row2\" class=\"row_heading level0 row2\" >eu_sales</th>\n",
       "                        <td id=\"T_76fa1_row2_col0\" class=\"data row2 col0\" >0.00%</td>\n",
       "            </tr>\n",
       "            <tr>\n",
       "                        <th id=\"T_76fa1_level0_row3\" class=\"row_heading level0 row3\" >jp_sales</th>\n",
       "                        <td id=\"T_76fa1_row3_col0\" class=\"data row3 col0\" >0.00%</td>\n",
       "            </tr>\n",
       "            <tr>\n",
       "                        <th id=\"T_76fa1_level0_row4\" class=\"row_heading level0 row4\" >other_sales</th>\n",
       "                        <td id=\"T_76fa1_row4_col0\" class=\"data row4 col0\" >0.00%</td>\n",
       "            </tr>\n",
       "            <tr>\n",
       "                        <th id=\"T_76fa1_level0_row5\" class=\"row_heading level0 row5\" >name</th>\n",
       "                        <td id=\"T_76fa1_row5_col0\" class=\"data row5 col0\" >0.01%</td>\n",
       "            </tr>\n",
       "            <tr>\n",
       "                        <th id=\"T_76fa1_level0_row6\" class=\"row_heading level0 row6\" >genre</th>\n",
       "                        <td id=\"T_76fa1_row6_col0\" class=\"data row6 col0\" >0.01%</td>\n",
       "            </tr>\n",
       "            <tr>\n",
       "                        <th id=\"T_76fa1_level0_row7\" class=\"row_heading level0 row7\" >year_of_release</th>\n",
       "                        <td id=\"T_76fa1_row7_col0\" class=\"data row7 col0\" >1.61%</td>\n",
       "            </tr>\n",
       "            <tr>\n",
       "                        <th id=\"T_76fa1_level0_row8\" class=\"row_heading level0 row8\" >user_score</th>\n",
       "                        <td id=\"T_76fa1_row8_col0\" class=\"data row8 col0\" >40.09%</td>\n",
       "            </tr>\n",
       "            <tr>\n",
       "                        <th id=\"T_76fa1_level0_row9\" class=\"row_heading level0 row9\" >rating</th>\n",
       "                        <td id=\"T_76fa1_row9_col0\" class=\"data row9 col0\" >40.48%</td>\n",
       "            </tr>\n",
       "            <tr>\n",
       "                        <th id=\"T_76fa1_level0_row10\" class=\"row_heading level0 row10\" >critic_score</th>\n",
       "                        <td id=\"T_76fa1_row10_col0\" class=\"data row10 col0\" >51.32%</td>\n",
       "            </tr>\n",
       "    </tbody></table>"
      ],
      "text/plain": [
       "<pandas.io.formats.style.Styler at 0x7f9770bf4880>"
      ]
     },
     "execution_count": 8,
     "metadata": {},
     "output_type": "execute_result"
    }
   ],
   "source": [
    "#Долю пропусков\n",
    "df.isna().mean().round(4).to_frame().sort_values(by=0).style.format('{:.2%}').background_gradient('coolwarm')"
   ]
  },
  {
   "cell_type": "markdown",
   "metadata": {},
   "source": [
    "Видим небольшое число пропусков в имени игр, т.к. это всего пару значений отбросим их, для более удобной работ с данными."
   ]
  },
  {
   "cell_type": "code",
   "execution_count": 9,
   "metadata": {},
   "outputs": [],
   "source": [
    "#Удаляем пропуски в колонке с именем\n",
    "df = df[~df['name'].isna()]"
   ]
  },
  {
   "cell_type": "markdown",
   "metadata": {},
   "source": [
    "После удаления пропусков по имени, пропуски по жанру также пропали."
   ]
  },
  {
   "cell_type": "markdown",
   "metadata": {},
   "source": [
    "Видим, что в столбцах user_score, rating, critic_score отсутствует почти половина данных. Из-за того, что сложно установить причину остутсвия данных, а заполнять их средним или мединным некорректно, потому что одна и та же игра может по разному вести себя на разных платформах.\n",
    "\n",
    "Только для более удобной работы с данными введем индикаторны значения пропусков. Для user_score и critic_score будет -1,\n",
    "\n",
    "rating оставим без изменений."
   ]
  },
  {
   "cell_type": "code",
   "execution_count": 10,
   "metadata": {},
   "outputs": [],
   "source": [
    "#Добавляем индикатор прпуска = -1\n",
    "df.loc[df['critic_score'].isna(), 'critic_score'] = -1.0\n",
    "df.loc[df['user_score'].isna(), 'user_score'] = -1.0"
   ]
  },
  {
   "cell_type": "markdown",
   "metadata": {},
   "source": [
    "С годом выхода поступим аналогичным способом."
   ]
  },
  {
   "cell_type": "code",
   "execution_count": 11,
   "metadata": {},
   "outputs": [],
   "source": [
    "#Добавляем индикатор прпуска = 3000\n",
    "df.loc[df['year_of_release'].isna(), 'year_of_release'] = 3000"
   ]
  },
  {
   "cell_type": "markdown",
   "metadata": {},
   "source": [
    "Преобразуем столбец с годом выхода игры из вещественного типа в целый, потому что год может принимать только целые значения."
   ]
  },
  {
   "cell_type": "code",
   "execution_count": 12,
   "metadata": {},
   "outputs": [],
   "source": [
    "#Приведение года к типу int\n",
    "df['year_of_release'] = df['year_of_release'].astype(int)"
   ]
  },
  {
   "cell_type": "markdown",
   "metadata": {},
   "source": [
    "Из-за того что колонка с пользовательскими оценками имеет строчный тип предполагаем, что там есть не только числовые значения, посмотрим уникальные значения столбца."
   ]
  },
  {
   "cell_type": "code",
   "execution_count": 13,
   "metadata": {},
   "outputs": [
    {
     "data": {
      "text/plain": [
       "array(['8', -1.0, '8.3', '8.5', '6.6', '8.4', '8.6', '7.7', '6.3', '7.4',\n",
       "       '8.2', '9', '7.9', '8.1', '8.7', '7.1', '3.4', '5.3', '4.8', '3.2',\n",
       "       '8.9', '6.4', '7.8', '7.5', '2.6', '7.2', '9.2', '7', '7.3', '4.3',\n",
       "       '7.6', '5.7', '5', '9.1', '6.5', 'tbd', '8.8', '6.9', '9.4', '6.8',\n",
       "       '6.1', '6.7', '5.4', '4', '4.9', '4.5', '9.3', '6.2', '4.2', '6',\n",
       "       '3.7', '4.1', '5.8', '5.6', '5.5', '4.4', '4.6', '5.9', '3.9',\n",
       "       '3.1', '2.9', '5.2', '3.3', '4.7', '5.1', '3.5', '2.5', '1.9', '3',\n",
       "       '2.7', '2.2', '2', '9.5', '2.1', '3.6', '2.8', '1.8', '3.8', '0',\n",
       "       '1.6', '9.6', '2.4', '1.7', '1.1', '0.3', '1.5', '0.7', '1.2',\n",
       "       '2.3', '0.5', '1.3', '0.2', '0.6', '1.4', '0.9', '1', '9.7'],\n",
       "      dtype=object)"
      ]
     },
     "execution_count": 13,
     "metadata": {},
     "output_type": "execute_result"
    }
   ],
   "source": [
    "#Смотрим уникальные значения столбца\n",
    "df['user_score'].unique()"
   ]
  },
  {
   "cell_type": "markdown",
   "metadata": {},
   "source": [
    "Аббревиатура TBD от To Be Determined. Пишется тогда, когда у игры осутствует рейтинг, т.е в данном случаем мы приравняем tbd к -1."
   ]
  },
  {
   "cell_type": "code",
   "execution_count": 14,
   "metadata": {},
   "outputs": [],
   "source": [
    "df.loc[df['user_score'] == 'tbd', 'user_score'] = -1.0"
   ]
  },
  {
   "cell_type": "markdown",
   "metadata": {},
   "source": [
    "Преобразуем столбец с пользовательской лценкой игры к вещественному типу, потому по описанию данных рейтинг должен быть числовым с соответсвующим типом."
   ]
  },
  {
   "cell_type": "code",
   "execution_count": 15,
   "metadata": {},
   "outputs": [],
   "source": [
    "df['user_score'] = df['user_score'].astype(float)"
   ]
  },
  {
   "cell_type": "markdown",
   "metadata": {},
   "source": [
    "#### Расчет столбца с суммарными продажми во всех регионах."
   ]
  },
  {
   "cell_type": "code",
   "execution_count": 16,
   "metadata": {},
   "outputs": [],
   "source": [
    "df['total_sales'] = df['na_sales'] + df['eu_sales'] + df['jp_sales'] + df['other_sales']"
   ]
  },
  {
   "cell_type": "markdown",
   "metadata": {},
   "source": [
    "#### Вывод по блоку"
   ]
  },
  {
   "cell_type": "markdown",
   "metadata": {},
   "source": [
    "Были удалены пропуски в столбце с именем игры. Добалены идекаторы пропусков равный -1 в колонках с оценкой пользователей и критиков, а года выхода равный 3000. Год выхода к целому типу, а пользовательские оценки к вещественному. После проверки на полные дубликаты, повторов не было выявленно. Добавлен столбец с суммой по всем регионам."
   ]
  },
  {
   "cell_type": "markdown",
   "metadata": {},
   "source": [
    "### Исследовательский анализ данных"
   ]
  },
  {
   "cell_type": "markdown",
   "metadata": {},
   "source": [
    "#### Сколько игр выпускалось в разные годы"
   ]
  },
  {
   "cell_type": "code",
   "execution_count": 17,
   "metadata": {},
   "outputs": [
    {
     "data": {
      "image/png": "[encoded data removed]",
      "text/plain": [
       "<Figure size 648x360 with 1 Axes>"
      ]
     },
     "metadata": {
      "needs_background": "light"
     },
     "output_type": "display_data"
    }
   ],
   "source": [
    "df.query('year_of_release != 3000').hist('year_of_release', figsize=(9,5), bins=20)\n",
    "plt.title('Распределение игр по годам')\n",
    "plt.xlabel('Год выхода')\n",
    "plt.ylabel('Частота')\n",
    "plt.show()"
   ]
  },
  {
   "cell_type": "markdown",
   "metadata": {},
   "source": [
    "Видим, что в индустрии игр до 1995 выходило примерно равное число игр, дальше до кризиса 2008 года был постоянный рост игровой идустрии. В 2010 году после кризиса настал пик выхода игр, после рынок начал переходить на мобильные игры, из-за чего на других платформах число релизов снизилось."
   ]
  },
  {
   "cell_type": "code",
   "execution_count": 18,
   "metadata": {},
   "outputs": [
    {
     "data": {
      "text/plain": [
       "1.5676419553640877"
      ]
     },
     "execution_count": 18,
     "metadata": {},
     "output_type": "execute_result"
    }
   ],
   "source": [
    "df.query('year_of_release < 1992').shape[0] / df.shape[0] * 100"
   ]
  },
  {
   "cell_type": "markdown",
   "metadata": {},
   "source": [
    "Думаю можно отбросить строки до 1992 года, их всего 1,5% от общей выборки, на результат не повлияет"
   ]
  },
  {
   "cell_type": "markdown",
   "metadata": {},
   "source": [
    "#### Как менялись продажи по популярным платформам."
   ]
  },
  {
   "cell_type": "code",
   "execution_count": 19,
   "metadata": {
    "scrolled": true
   },
   "outputs": [
    {
     "data": {
      "text/html": [
       "<div>\n",
       "<style scoped>\n",
       "    .dataframe tbody tr th:only-of-type {\n",
       "        vertical-align: middle;\n",
       "    }\n",
       "\n",
       "    .dataframe tbody tr th {\n",
       "        vertical-align: top;\n",
       "    }\n",
       "\n",
       "    .dataframe thead th {\n",
       "        text-align: right;\n",
       "    }\n",
       "</style>\n",
       "<table border=\"1\" class=\"dataframe\">\n",
       "  <thead>\n",
       "    <tr style=\"text-align: right;\">\n",
       "      <th></th>\n",
       "      <th>sum</th>\n",
       "    </tr>\n",
       "    <tr>\n",
       "      <th>platform</th>\n",
       "      <th></th>\n",
       "    </tr>\n",
       "  </thead>\n",
       "  <tbody>\n",
       "    <tr>\n",
       "      <th>PS2</th>\n",
       "      <td>1255.77</td>\n",
       "    </tr>\n",
       "    <tr>\n",
       "      <th>X360</th>\n",
       "      <td>971.42</td>\n",
       "    </tr>\n",
       "    <tr>\n",
       "      <th>PS3</th>\n",
       "      <td>939.65</td>\n",
       "    </tr>\n",
       "    <tr>\n",
       "      <th>Wii</th>\n",
       "      <td>907.51</td>\n",
       "    </tr>\n",
       "    <tr>\n",
       "      <th>DS</th>\n",
       "      <td>806.12</td>\n",
       "    </tr>\n",
       "    <tr>\n",
       "      <th>PS</th>\n",
       "      <td>730.86</td>\n",
       "    </tr>\n",
       "    <tr>\n",
       "      <th>GBA</th>\n",
       "      <td>317.85</td>\n",
       "    </tr>\n",
       "    <tr>\n",
       "      <th>PS4</th>\n",
       "      <td>314.14</td>\n",
       "    </tr>\n",
       "    <tr>\n",
       "      <th>PSP</th>\n",
       "      <td>294.05</td>\n",
       "    </tr>\n",
       "    <tr>\n",
       "      <th>PC</th>\n",
       "      <td>259.52</td>\n",
       "    </tr>\n",
       "  </tbody>\n",
       "</table>\n",
       "</div>"
      ],
      "text/plain": [
       "              sum\n",
       "platform         \n",
       "PS2       1255.77\n",
       "X360       971.42\n",
       "PS3        939.65\n",
       "Wii        907.51\n",
       "DS         806.12\n",
       "PS         730.86\n",
       "GBA        317.85\n",
       "PS4        314.14\n",
       "PSP        294.05\n",
       "PC         259.52"
      ]
     },
     "execution_count": 19,
     "metadata": {},
     "output_type": "execute_result"
    }
   ],
   "source": [
    "#Посмотрим 10 самых популярных платформ\n",
    "df_popluar = df.pivot_table(index='platform', values='total_sales', aggfunc= 'sum')\n",
    "df_popluar.columns = ['sum']\n",
    "df_popluar.sort_values(by='sum', ascending=False).head(10)"
   ]
  },
  {
   "cell_type": "markdown",
   "metadata": {},
   "source": [
    "Возьмем 6 самых популярных платформ близких по выручке."
   ]
  },
  {
   "cell_type": "code",
   "execution_count": 20,
   "metadata": {},
   "outputs": [],
   "source": [
    "popluar_platforms = df_popluar.sort_values(by='sum', ascending=False).head(6).index"
   ]
  },
  {
   "cell_type": "code",
   "execution_count": 21,
   "metadata": {},
   "outputs": [
    {
     "data": {
      "text/plain": [
       "<matplotlib.legend.Legend at 0x7f9768565100>"
      ]
     },
     "execution_count": 21,
     "metadata": {},
     "output_type": "execute_result"
    },
    {
     "data": {
      "image/png": "[encoded data removed]",
      "text/plain": [
       "<Figure size 864x432 with 1 Axes>"
      ]
     },
     "metadata": {
      "needs_background": "light"
     },
     "output_type": "display_data"
    }
   ],
   "source": [
    "#Строим зависимости продаж от года для 6-ти популярных платформ\n",
    "ax = plt.gca()\n",
    "legend_list = []\n",
    "bbox_y = 0.97\n",
    "legend_size = 15\n",
    "for platform in popluar_platforms:\n",
    "        df_to_plot = df.query('platform == @platform and year_of_release != 3000')\n",
    "        lines = df_to_plot.groupby('year_of_release')['total_sales'].sum().plot(x='year_of_release', y='sales_total',\n",
    "                                                                    style='.-', kind='line', fontsize=10,\n",
    "                                                                    linewidth=1, label=platform, ax=ax, figsize=(12,6))\n",
    "        legend_list.append(platform)    \n",
    "ax.set_xlabel('')  \n",
    "ax.legend(legend_list, prop={'size':legend_size}, bbox_to_anchor=(1.0, bbox_y))"
   ]
  },
  {
   "cell_type": "markdown",
   "metadata": {},
   "source": [
    "По данным графика характерный срок для платформ составил: PS2 - 11 Лет, X360, PS, PS3, Wii - 10 лет, DS - 8 лет.\n",
    "\n",
    "Таким образом, в среднем консоль активно выпускается в течении 10 лет."
   ]
  },
  {
   "cell_type": "markdown",
   "metadata": {},
   "source": [
    "#### Оценка актуального рынка платформ"
   ]
  },
  {
   "cell_type": "markdown",
   "metadata": {},
   "source": [
    "Актуальным периодом будем считать отрезок с 2014 по 2016\n",
    "</div>"
   ]
  },
  {
   "cell_type": "code",
   "execution_count": 22,
   "metadata": {},
   "outputs": [
    {
     "data": {
      "text/plain": [
       "<matplotlib.legend.Legend at 0x7f97683d17c0>"
      ]
     },
     "execution_count": 22,
     "metadata": {},
     "output_type": "execute_result"
    },
    {
     "data": {
      "image/png": "[encoded data removed]",
      "text/plain": [
       "<Figure size 1080x432 with 1 Axes>"
      ]
     },
     "metadata": {
      "needs_background": "light"
     },
     "output_type": "display_data"
    }
   ],
   "source": [
    "#Строим зависимости продаж от года для актуального периода\n",
    "platforms = df['platform'].unique().tolist()\n",
    "ax = plt.gca()\n",
    "legend_list = []\n",
    "bbox_y = 0.97\n",
    "legend_size = 12\n",
    "for platform in platforms:\n",
    "        df_to_plot = df.query('platform == @platform and year_of_release >= 2014 and year_of_release != 3000')\n",
    "        lines = df_to_plot.groupby('year_of_release')['total_sales'].sum().plot(x='year_of_release', y='sales_total',\n",
    "                                                                    style='.-', kind='line', fontsize=10,\n",
    "                                                                    linewidth=1, label=platform, ax=ax, figsize=(15,6))\n",
    "        legend_list.append(platform)  \n",
    "ax.set_xlabel('')   \n",
    "ax.legend(legend_list, prop={'size':legend_size}, bbox_to_anchor=(1.0, bbox_y))"
   ]
  },
  {
   "cell_type": "markdown",
   "metadata": {},
   "source": [
    "На конец 2016 года лидируют по продажам следующие платформы: PS4, Xone, 3DS. Причем с каждым годом продажи падают."
   ]
  },
  {
   "cell_type": "markdown",
   "metadata": {},
   "source": [
    "#### График «ящик с усами» по глобальным продажам игр в разбивке по популярным платформам для актуального периода"
   ]
  },
  {
   "cell_type": "code",
   "execution_count": 23,
   "metadata": {},
   "outputs": [],
   "source": [
    "#Популярные платформы для актульного периода\n",
    "df_popluar = df.query('year_of_release >= 2014 and year_of_release != 3000').pivot_table(index='platform', values='total_sales', aggfunc= 'sum')\n",
    "df_popluar.columns = ['sum']\n",
    "df_popluar.sort_values(by='sum', ascending=False).head(10)\n",
    "popluar_platforms = df_popluar.sort_values(by='sum', ascending=False).head(8).index"
   ]
  },
  {
   "cell_type": "code",
   "execution_count": 24,
   "metadata": {
    "scrolled": true
   },
   "outputs": [
    {
     "data": {
      "text/plain": [
       "Text(0.5, 1.0, 'Продажам игр в разбивке по популярным платформам')"
      ]
     },
     "execution_count": 24,
     "metadata": {},
     "output_type": "execute_result"
    },
    {
     "data": {
      "image/png": "[encoded data removed]",
      "text/plain": [
       "<Figure size 2160x720 with 1 Axes>"
      ]
     },
     "metadata": {
      "needs_background": "light"
     },
     "output_type": "display_data"
    }
   ],
   "source": [
    "df_query = df.query('platform in @popluar_platforms and year_of_release >= 2014 and year_of_release != 3000')\n",
    "        #by_column = query_condition.split()[0]\n",
    "ax = df_query.boxplot(column='total_sales', by='platform', fontsize=25, figsize=(30,10),\n",
    "                                         boxprops=dict(linestyle='-', linewidth=5),\n",
    "                                         medianprops=dict(linestyle='-', linewidth=5),\n",
    "                                         whiskerprops=dict(linestyle='-', linewidth=5),\n",
    "                                         capprops=dict(linestyle='-', linewidth=5),\n",
    "                                         notch=True)\n",
    "ylims = [0,3]\n",
    "ax.set_xlabel('')\n",
    "ax.set_ylim(ylims)\n",
    "ax.set_title('Продажам игр в разбивке по популярным платформам')"
   ]
  },
  {
   "cell_type": "code",
   "execution_count": 25,
   "metadata": {},
   "outputs": [
    {
     "data": {
      "text/plain": [
       "platform\n",
       "3DS     0.120\n",
       "PC      0.050\n",
       "PS3     0.270\n",
       "PS4     0.200\n",
       "PSV     0.055\n",
       "WiiU    0.220\n",
       "X360    0.280\n",
       "XOne    0.220\n",
       "Name: 50%, dtype: float64"
      ]
     },
     "execution_count": 25,
     "metadata": {},
     "output_type": "execute_result"
    }
   ],
   "source": [
    "#Медианы по каждой платформе\n",
    "df.query('platform in @popluar_platforms').groupby('platform').describe()['total_sales']['50%']"
   ]
  },
  {
   "cell_type": "markdown",
   "metadata": {},
   "source": [
    "Медиана по популярным платформам варьируется от 0,2 до 0,28 млн долларов прибыли за игру.\n",
    "Верхняя граница предела, за которыми уже определяются аномалии, у двух платформ - PS4 и XOne - на уровне 1,5 млн долларов.\n",
    "У остальных - от 0.7 до 1,1 миллионов долларов.\n",
    "Среди всех выделяется Nintendo 3DS - у него эти показатели сильное ниже. Медиана = 0,12 миллиона долларов, верхняя граница - 0,6 млн. \n",
    "Самыми не популярными можножно считать PC и PSV с медианой около 0.5"
   ]
  },
  {
   "cell_type": "markdown",
   "metadata": {},
   "source": [
    "#### Влияние на продажи внутри одной популярной платформы в зависимости от оценки пользователей и критиков"
   ]
  },
  {
   "cell_type": "code",
   "execution_count": 26,
   "metadata": {},
   "outputs": [],
   "source": [
    "#Перезапишем датафрейм только с актуальным периодом\n",
    "df = df[df['year_of_release'] >= 2014]"
   ]
  },
  {
   "cell_type": "markdown",
   "metadata": {},
   "source": [
    "Данные будем изучать на примере PS4"
   ]
  },
  {
   "cell_type": "code",
   "execution_count": 27,
   "metadata": {},
   "outputs": [],
   "source": [
    "df_ps4 = df.query('platform == \"PS4\" and critic_score > 0 and user_score > 0')"
   ]
  },
  {
   "cell_type": "code",
   "execution_count": 28,
   "metadata": {},
   "outputs": [
    {
     "data": {
      "image/png": "[encoded data removed]",
      "text/plain": [
       "<Figure size 648x504 with 1 Axes>"
      ]
     },
     "metadata": {
      "needs_background": "light"
     },
     "output_type": "display_data"
    },
    {
     "name": "stdout",
     "output_type": "stream",
     "text": [
      "Коэффициент корреляции: 0.40190287811475334\n"
     ]
    }
   ],
   "source": [
    "df_ps4.plot(x='critic_score', y='total_sales', \n",
    "             figsize=(9,7),\n",
    "             kind='scatter', alpha=0.2)\n",
    "plt.title('Зависимость числа продаж от оценки критиков')\n",
    "plt.ylabel('Общее число продаж')\n",
    "plt.xlabel('Оценка критика')\n",
    "plt.show()\n",
    "print('Коэффициент корреляции:', df_ps4['critic_score'].corr(df_ps4['total_sales']))"
   ]
  },
  {
   "cell_type": "code",
   "execution_count": 29,
   "metadata": {},
   "outputs": [
    {
     "data": {
      "image/png": "[encoded data removed]",
      "text/plain": [
       "<Figure size 648x504 with 1 Axes>"
      ]
     },
     "metadata": {
      "needs_background": "light"
     },
     "output_type": "display_data"
    },
    {
     "name": "stdout",
     "output_type": "stream",
     "text": [
      "Коэффициент корреляции: -0.04318585997193634\n"
     ]
    }
   ],
   "source": [
    "df_ps4.plot(x='user_score', y='total_sales', \n",
    "             figsize=(9,7),\n",
    "             kind='scatter', alpha=0.2)\n",
    "plt.title('Зависимость числа продаж от оценки пользователей')\n",
    "plt.ylabel('Общее число продаж')\n",
    "plt.xlabel('Оценка пользователя')\n",
    "plt.show()\n",
    "print('Коэффициент корреляции:', df_ps4['user_score'].corr(df_ps4['total_sales']))"
   ]
  },
  {
   "cell_type": "markdown",
   "metadata": {},
   "source": [
    "С увеличением рейтинга критиков или пользователя увеличивается уровень выручки с продажи игр. Судя по коэффициенту корреляции оценка критика сельнее вляент на продажи, чем оценка зрителя."
   ]
  },
  {
   "cell_type": "markdown",
   "metadata": {},
   "source": [
    "#### Влияние на продажи  популярных платформ в зависимости от оценки пользователей и критиков"
   ]
  },
  {
   "cell_type": "code",
   "execution_count": 30,
   "metadata": {},
   "outputs": [
    {
     "data": {
      "image/png": "[encoded data removed]",
      "text/plain": [
       "<Figure size 1080x612 with 16 Axes>"
      ]
     },
     "metadata": {
      "needs_background": "light"
     },
     "output_type": "display_data"
    }
   ],
   "source": [
    "top_platforms = ['PS4', 'XOne', '3DS', 'PS3', 'X360', 'WiiU', 'PC', 'PSV']\n",
    "\n",
    "rows = len(top_platforms) // 2\n",
    "cols = 2\n",
    "fig, axes = plt.subplots(rows, cols, figsize=(15,8.5))\n",
    "count = 0\n",
    "for r in range(rows):\n",
    "    for c in range(cols):\n",
    "        curr_platform = top_platforms[count]\n",
    "        df_prep = df[(df['platform'] == curr_platform) & (df['user_score'] > 0)].copy()\n",
    "        \n",
    "        df_filtered = df_prep[['total_sales' ,'critic_score', 'user_score']]\n",
    "        sns.set(font_scale=1.0)\n",
    "        ax = sns.heatmap(df_filtered.corr()[['total_sales']].sort_values(by='total_sales', ascending=False), \n",
    "                         cmap=\"Greens\", annot=True, annot_kws={'size':15}, ax=axes[r,c])\n",
    "        ax.set_title(curr_platform, fontsize=20)\n",
    "        ax.set_yticklabels(ax.get_yticklabels(), rotation=0)\n",
    "        plt.tight_layout(pad=3)\n",
    "        count += 1"
   ]
  },
  {
   "cell_type": "markdown",
   "metadata": {},
   "source": [
    "Для двух самых поппулярных плтатформ PS4, XOne оценка критика явлляется важнее пользовательской, причем намного сильнее. Для платформ от Nintendo оценка критика и пользователя явлляется равнозначной. Для PS3, X360, PSV оценки оказались не выжны, думаю, потому что это уже устаревшие платформы и в актуальном периоде мало оценок по ним."
   ]
  },
  {
   "cell_type": "markdown",
   "metadata": {},
   "source": [
    "#### Общее распределение игр по жанрам"
   ]
  },
  {
   "cell_type": "code",
   "execution_count": 31,
   "metadata": {},
   "outputs": [
    {
     "data": {
      "text/plain": [
       "<matplotlib.legend.Legend at 0x7f97666a49a0>"
      ]
     },
     "execution_count": 31,
     "metadata": {},
     "output_type": "execute_result"
    },
    {
     "data": {
      "image/png": "[encoded data removed]",
      "text/plain": [
       "<Figure size 1080x360 with 1 Axes>"
      ]
     },
     "metadata": {},
     "output_type": "display_data"
    }
   ],
   "source": [
    "ax = plt.gca()\n",
    "\n",
    "pivot = df.groupby('genre').agg({'name': 'count', 'total_sales': 'sum'}).sort_values(by='name', ascending=False)\n",
    "\n",
    "plot1 = pivot['name']\n",
    "plot1.plot(kind='bar', figsize=(15,5), ax=ax, width=0.2, position=1)\n",
    "\n",
    "plot2 = pivot['total_sales']\n",
    "plot2.plot(kind='bar', figsize=(15,5), ax=ax, width=0.2, color='red', position=0)\n",
    "\n",
    "ax.legend(['Количество продаж', 'Общая сумма продаж'])"
   ]
  },
  {
   "cell_type": "markdown",
   "metadata": {},
   "source": [
    "Самыми прибольными и продаваемыми можно считать игры в жанрах экшен, спорт, ролевые, шутеры в свою очередь можно учесть, что они также являются самыми дорогими в производстве, из-за чего их общая выручка больше.\n",
    "\n",
    "Самые не популярные жанры, а также плохопродоваыемые жанры - платформеры, стратегии, симмуляторы, паззлы. Также они не приносят большой выручки.\n",
    "\n",
    "Хуже всего после производства окупаются игры в жанре приключений."
   ]
  },
  {
   "cell_type": "code",
   "execution_count": 32,
   "metadata": {},
   "outputs": [
    {
     "data": {
      "text/html": [
       "<div>\n",
       "<style scoped>\n",
       "    .dataframe tbody tr th:only-of-type {\n",
       "        vertical-align: middle;\n",
       "    }\n",
       "\n",
       "    .dataframe tbody tr th {\n",
       "        vertical-align: top;\n",
       "    }\n",
       "\n",
       "    .dataframe thead th {\n",
       "        text-align: right;\n",
       "    }\n",
       "</style>\n",
       "<table border=\"1\" class=\"dataframe\">\n",
       "  <thead>\n",
       "    <tr style=\"text-align: right;\">\n",
       "      <th></th>\n",
       "      <th>count</th>\n",
       "      <th>50%</th>\n",
       "    </tr>\n",
       "    <tr>\n",
       "      <th>genre</th>\n",
       "      <th></th>\n",
       "      <th></th>\n",
       "    </tr>\n",
       "  </thead>\n",
       "  <tbody>\n",
       "    <tr>\n",
       "      <th>Shooter</th>\n",
       "      <td>155.0</td>\n",
       "      <td>0.410</td>\n",
       "    </tr>\n",
       "    <tr>\n",
       "      <th>Sports</th>\n",
       "      <td>203.0</td>\n",
       "      <td>0.200</td>\n",
       "    </tr>\n",
       "    <tr>\n",
       "      <th>Platform</th>\n",
       "      <td>48.0</td>\n",
       "      <td>0.130</td>\n",
       "    </tr>\n",
       "    <tr>\n",
       "      <th>Fighting</th>\n",
       "      <td>72.0</td>\n",
       "      <td>0.125</td>\n",
       "    </tr>\n",
       "    <tr>\n",
       "      <th>Role-Playing</th>\n",
       "      <td>238.0</td>\n",
       "      <td>0.110</td>\n",
       "    </tr>\n",
       "    <tr>\n",
       "      <th>Action</th>\n",
       "      <td>681.0</td>\n",
       "      <td>0.100</td>\n",
       "    </tr>\n",
       "    <tr>\n",
       "      <th>Simulation</th>\n",
       "      <td>60.0</td>\n",
       "      <td>0.100</td>\n",
       "    </tr>\n",
       "    <tr>\n",
       "      <th>Misc</th>\n",
       "      <td>142.0</td>\n",
       "      <td>0.090</td>\n",
       "    </tr>\n",
       "    <tr>\n",
       "      <th>Racing</th>\n",
       "      <td>92.0</td>\n",
       "      <td>0.090</td>\n",
       "    </tr>\n",
       "    <tr>\n",
       "      <th>Puzzle</th>\n",
       "      <td>25.0</td>\n",
       "      <td>0.080</td>\n",
       "    </tr>\n",
       "    <tr>\n",
       "      <th>Strategy</th>\n",
       "      <td>47.0</td>\n",
       "      <td>0.060</td>\n",
       "    </tr>\n",
       "    <tr>\n",
       "      <th>Adventure</th>\n",
       "      <td>195.0</td>\n",
       "      <td>0.030</td>\n",
       "    </tr>\n",
       "  </tbody>\n",
       "</table>\n",
       "</div>"
      ],
      "text/plain": [
       "              count    50%\n",
       "genre                     \n",
       "Shooter       155.0  0.410\n",
       "Sports        203.0  0.200\n",
       "Platform       48.0  0.130\n",
       "Fighting       72.0  0.125\n",
       "Role-Playing  238.0  0.110\n",
       "Action        681.0  0.100\n",
       "Simulation     60.0  0.100\n",
       "Misc          142.0  0.090\n",
       "Racing         92.0  0.090\n",
       "Puzzle         25.0  0.080\n",
       "Strategy       47.0  0.060\n",
       "Adventure     195.0  0.030"
      ]
     },
     "execution_count": 32,
     "metadata": {},
     "output_type": "execute_result"
    }
   ],
   "source": [
    "df.groupby('genre').describe()['total_sales'][['count', '50%']].sort_values('50%', ascending = False)"
   ]
  },
  {
   "cell_type": "markdown",
   "metadata": {},
   "source": [
    "#### Вывод по блоку"
   ]
  },
  {
   "cell_type": "markdown",
   "metadata": {},
   "source": [
    "В индустрии игр до 1995 выходило примерно равное число игр, дальше до кризиса 2008 года был постоянный рост игровой идустрии. В 2010 году после кризиса настал пик выхода игр, после рынок начал переходить на мобильные игры, из-за чего на других платформах число релизов снизилось.\n",
    "\n",
    "В среднем консоль активно выпускается в течении 10 лет.\n",
    "\n",
    "На конец 2016 года лидируют по продажам следующие платформы: PS4, Xone, 3DS\n",
    "\n",
    "Медиана по популярным платформам варьируется от 0,19 до 0,28 млн долларов прибыли за игру. Верхняя граница предела, за которыми уже определяются аномалии, у двух платформ\n",
    "\n",
    "На примере PS4 видим, что с увеличением рейтинга критиков или пользователя увеличивается уровень выручки с продажи игр. Судя по Для актуальных платформ тенденция в общем сохраняется.\n",
    "\n",
    "Самыми прибольными и продаваемыми можно считать игры в жанрах экшен, спорт, ролевые, шутеры в свою очередь можно учесть, что они также являются самыми дорогими в производстве, из-за чего их общая выручка больше.\n",
    "\n",
    "Самые не популярные жанры, а также плохопродоваыемые жанры - платформеры, стратегии, симмуляторы, паззлы. Также они не приносят большой выручки.\n",
    "\n",
    "Хуже всего после производства окупаются игры в жанре приключений."
   ]
  },
  {
   "cell_type": "markdown",
   "metadata": {},
   "source": [
    "### Составление портрета пользователя каждого региона"
   ]
  },
  {
   "cell_type": "code",
   "execution_count": 33,
   "metadata": {},
   "outputs": [],
   "source": [
    "#Функция для построения графиков по регионам\n",
    "def top_in_regions_plot(groupby, region_sales, ax):\n",
    "    pivot = df.query('rating != \"nan\"').groupby(groupby).agg({region_sales: 'sum'}).sort_values(by=region_sales, ascending=False)[:5]\n",
    "    title_dict = {'na_sales': 'North America Sales', 'eu_sales': 'Europe Sales', 'jp_sales': 'Japan Sales'}\n",
    "    color_dict = {'na_sales': 'blue', 'eu_sales': 'red', 'jp_sales': 'green'}\n",
    "    plot = pivot.plot(kind='bar', ec='black', title=title_dict[region_sales], ax=axes[ax], \n",
    "                   fontsize=18, color=color_dict[region_sales], rot=20)\n",
    "    plot.legend(prop={'size':17})\n",
    "    plot.set_xlabel('')\n",
    "    plot.title.set_size(20)"
   ]
  },
  {
   "cell_type": "markdown",
   "metadata": {},
   "source": [
    "#### Самые популярные платформы (топ-5)"
   ]
  },
  {
   "cell_type": "code",
   "execution_count": 34,
   "metadata": {},
   "outputs": [
    {
     "data": {
      "image/png": "[encoded data removed]",
      "text/plain": [
       "<Figure size 1800x432 with 3 Axes>"
      ]
     },
     "metadata": {},
     "output_type": "display_data"
    }
   ],
   "source": [
    "fig, axes = plt.subplots(1, 3, figsize=(25,6))\n",
    "\n",
    "top_in_regions_plot('platform', 'na_sales', 0)\n",
    "top_in_regions_plot('platform', 'eu_sales', 1)\n",
    "top_in_regions_plot('platform', 'jp_sales', 2)"
   ]
  },
  {
   "cell_type": "markdown",
   "metadata": {},
   "source": [
    "На амереканском рынке из современных платформ привалирует PS4 и XOne с размицей в 20 млн.\n",
    "\n",
    "В Европе самой популярной игровой платформой являеются консоль PS4.\n",
    "\n",
    "В Японии самая популярная платформа - Nintendo 3DS\n",
    "\n",
    "Про Японию можно добавить, что у них популярны только платформы собсденного производства."
   ]
  },
  {
   "cell_type": "markdown",
   "metadata": {},
   "source": [
    "#### Самые популярные жанры (топ-5)"
   ]
  },
  {
   "cell_type": "code",
   "execution_count": 35,
   "metadata": {},
   "outputs": [
    {
     "data": {
      "image/png": "[encoded data removed]",
      "text/plain": [
       "<Figure size 1800x432 with 3 Axes>"
      ]
     },
     "metadata": {},
     "output_type": "display_data"
    }
   ],
   "source": [
    "fig, axes = plt.subplots(1, 3, figsize=(25,6))\n",
    "\n",
    "top_in_regions_plot('genre', 'na_sales', 0)\n",
    "top_in_regions_plot('genre', 'eu_sales', 1)\n",
    "top_in_regions_plot('genre', 'jp_sales', 2)"
   ]
  },
  {
   "cell_type": "markdown",
   "metadata": {},
   "source": [
    "В Америке и Европе одиково популярны одни и те же жанры, а именно в порядке убывания экшен, шутеры, спорт, ролевые,в Амереке смещенного жанра, а в Европе гонки.\n",
    "\n",
    "В Японии самыми популяреыми жанрами являются ролевой и экшен, а дальше с сильным отставанием смешанный жанр, файтинги, шутеры."
   ]
  },
  {
   "cell_type": "markdown",
   "metadata": {},
   "source": [
    "#### Влияе рейтинга ESRB на продажи в отдельном регионе"
   ]
  },
  {
   "cell_type": "code",
   "execution_count": 36,
   "metadata": {},
   "outputs": [
    {
     "data": {
      "image/png": "[encoded data removed]",
      "text/plain": [
       "<Figure size 1800x432 with 3 Axes>"
      ]
     },
     "metadata": {},
     "output_type": "display_data"
    }
   ],
   "source": [
    "fig, axes = plt.subplots(1, 3, figsize=(25,6))\n",
    "\n",
    "top_in_regions_plot('rating', 'na_sales', 0)\n",
    "top_in_regions_plot('rating', 'eu_sales', 1)\n",
    "top_in_regions_plot('rating', 'jp_sales', 2)"
   ]
  },
  {
   "cell_type": "markdown",
   "metadata": {},
   "source": [
    "На все регионы рейтинг ESRB влияет одинаково."
   ]
  },
  {
   "cell_type": "code",
   "execution_count": 37,
   "metadata": {},
   "outputs": [],
   "source": [
    "#Добавим заглушку\n",
    "df.loc[df['rating'].isna(), 'rating'] = 'Not ESRB'"
   ]
  },
  {
   "cell_type": "code",
   "execution_count": 38,
   "metadata": {
    "scrolled": true
   },
   "outputs": [
    {
     "data": {
      "image/png": "[encoded data removed]",
      "text/plain": [
       "<Figure size 1800x432 with 3 Axes>"
      ]
     },
     "metadata": {},
     "output_type": "display_data"
    }
   ],
   "source": [
    "fig, axes = plt.subplots(1, 3, figsize=(25,6))\n",
    "\n",
    "top_in_regions_plot('rating', 'na_sales', 0)\n",
    "top_in_regions_plot('rating', 'eu_sales', 1)\n",
    "top_in_regions_plot('rating', 'jp_sales', 2)"
   ]
  },
  {
   "cell_type": "markdown",
   "metadata": {},
   "source": [
    "При добавлении заглушки видим, что в Америке и Европе чаще встречаются игры, котрым присвоили рейтинг, а в Японии игры в основном продаются без сертификации ERSB"
   ]
  },
  {
   "cell_type": "markdown",
   "metadata": {},
   "source": [
    "#### Вывод по блоку"
   ]
  },
  {
   "cell_type": "markdown",
   "metadata": {},
   "source": [
    "На амереканском рынке из современных платформ привалирует PS4 и XOne с размицей в 20 млн.\n",
    "\n",
    "В Европе самой популярной игровой платформой являеются консоль PS4.\n",
    "\n",
    "В Японии самая популярная платформа - Nintendo 3DS\n",
    "\n",
    "Про Японию можно добавить, что у них популярны только платформы собсденного производства.\n",
    "\n",
    "В Америке и Европе одиково популярны одни и те же жанры, а именно в порядке убывания экшен, шутеры, спорт, ролевые,в Амереке смещенного жанра, а в Европе гонки.\n",
    "\n",
    "В Японии самыми популяреыми жанрами являются ролевой и экшен, а дальше с сильным отставанием смешанный жанр, файтинги, шутеры.\n",
    "\n",
    "В Америке и Европе чаще встречаются игры, котрым присвоили рейтинг, а в Японии игры в основном продаются без сертификации ERSB"
   ]
  },
  {
   "cell_type": "markdown",
   "metadata": {},
   "source": [
    "### Проверьте гипотезы"
   ]
  },
  {
   "cell_type": "markdown",
   "metadata": {},
   "source": [
    "#### Средние пользовательские рейтинги платформ Xbox One и PC одинаковые"
   ]
  },
  {
   "cell_type": "markdown",
   "metadata": {},
   "source": [
    "Будем использовать t-критерий Стьюдента, так как сравниваемые выборки независимы между собой."
   ]
  },
  {
   "cell_type": "markdown",
   "metadata": {},
   "source": [
    "Гипотезы:\n",
    "    \n",
    "H0: средний пользовательский рейтинг платформ Xbox One и PC одинаковый\n",
    "    \n",
    "H1: средний пользовательский рейтинг платформ Xbox One и PC различается"
   ]
  },
  {
   "cell_type": "code",
   "execution_count": 39,
   "metadata": {},
   "outputs": [],
   "source": [
    "xone = df[(df['platform'] == 'XOne') & (df['user_score'] > 0)]['user_score']\n",
    "pc = df[(df['platform'] == 'PC') & (df['user_score'] > 0)]['user_score']"
   ]
  },
  {
   "cell_type": "code",
   "execution_count": 40,
   "metadata": {},
   "outputs": [],
   "source": [
    "results = st.ttest_ind(xone, pc)"
   ]
  },
  {
   "cell_type": "code",
   "execution_count": 41,
   "metadata": {},
   "outputs": [
    {
     "name": "stdout",
     "output_type": "stream",
     "text": [
      "p-значение: 0.18840329973299955\n",
      "Не получилось отвергнуть нулевую гипотезу\n"
     ]
    }
   ],
   "source": [
    "alpha = 0.05\n",
    "print('p-значение:', results.pvalue)\n",
    "\n",
    "if (results.pvalue < alpha):\n",
    "    print(\"Отвергаем нулевую гипотезу\")\n",
    "else:\n",
    "    print(\"Не получилось отвергнуть нулевую гипотезу\")"
   ]
  },
  {
   "cell_type": "markdown",
   "metadata": {},
   "source": [
    "Средние пользовательские рейтинги платформ Xbox One и PC могут быть равны с уровнем значимости = 0.05"
   ]
  },
  {
   "cell_type": "code",
   "execution_count": 42,
   "metadata": {},
   "outputs": [
    {
     "name": "stdout",
     "output_type": "stream",
     "text": [
      "Значение оценки для платформы Xbox One - 6.59\n",
      "Значение оценки для платформы PC - 6.36\n"
     ]
    }
   ],
   "source": [
    "print('Значение оценки для платформы Xbox One - {:.2f}'.format(xone.mean()))\n",
    "print('Значение оценки для платформы PC - {:.2f}'.format(pc.mean()))"
   ]
  },
  {
   "cell_type": "markdown",
   "metadata": {},
   "source": [
    "#### Средние пользовательские рейтинги жанров Action  и Sports разные"
   ]
  },
  {
   "cell_type": "markdown",
   "metadata": {},
   "source": [
    "Гипотезы:\n",
    "    \n",
    "H0: средний пользовательский рейтинг жанров Action и Sports одинаковый\n",
    "\n",
    "H1: средний пользовательский рейтинг жанров Action и Sports различается"
   ]
  },
  {
   "cell_type": "code",
   "execution_count": 43,
   "metadata": {},
   "outputs": [],
   "source": [
    "alpha = 0.05"
   ]
  },
  {
   "cell_type": "code",
   "execution_count": 44,
   "metadata": {},
   "outputs": [],
   "source": [
    "action = df[(df['genre'] == 'Action') & (df['user_score'] > 0)]['user_score']\n",
    "sports = df[(df['genre'] == 'Sports') & (df['user_score'] > 0)]['user_score']"
   ]
  },
  {
   "cell_type": "code",
   "execution_count": 45,
   "metadata": {},
   "outputs": [],
   "source": [
    "results = st.ttest_ind(action, sports)"
   ]
  },
  {
   "cell_type": "code",
   "execution_count": 46,
   "metadata": {},
   "outputs": [
    {
     "name": "stdout",
     "output_type": "stream",
     "text": [
      "p-значение: 3.318410202419957e-14\n",
      "Отвергаем нулевую гипотезу\n"
     ]
    }
   ],
   "source": [
    "print('p-значение:', results.pvalue)\n",
    "\n",
    "if (results.pvalue < alpha):\n",
    "    print(\"Отвергаем нулевую гипотезу\")\n",
    "else:\n",
    "    print(\"Не получилось отвергнуть нулевую гипотезу\")"
   ]
  },
  {
   "cell_type": "markdown",
   "metadata": {},
   "source": [
    "Средние пользовательские рейтинг жанров Action и Sports разный с уровнем значимости = 0.05"
   ]
  },
  {
   "cell_type": "code",
   "execution_count": 47,
   "metadata": {
    "scrolled": true
   },
   "outputs": [
    {
     "name": "stdout",
     "output_type": "stream",
     "text": [
      "Значение оценки для жанра Action - 6.77\n",
      "Значение оценки для жанра Sports - 5.55\n"
     ]
    }
   ],
   "source": [
    "print('Значение оценки для жанра Action - {:.2f}'.format(action.mean()))\n",
    "print('Значение оценки для жанра Sports - {:.2f}'.format(sports.mean()))"
   ]
  },
  {
   "cell_type": "markdown",
   "metadata": {},
   "source": [
    "#### Вывод по блоку"
   ]
  },
  {
   "cell_type": "markdown",
   "metadata": {},
   "source": [
    "Средние пользовательские рейтинги платформ Xbox One и PC могут быть равны, а средние пользовательские рейтинг жанров Action и Sports разный с уровнем значимости = 0.05"
   ]
  },
  {
   "cell_type": "markdown",
   "metadata": {},
   "source": [
    "### Общий вывод"
   ]
  },
  {
   "cell_type": "markdown",
   "metadata": {},
   "source": [
    "Цель данного проекта состояла в том, чтобы ответить на следующие вопросы: какие закономерности определяют успешность игры и какой продукт следует выбрать для продвижения на следующий год.\n",
    "\n",
    "На основе проделанной работы попробуем ответить на данные вопросы.\n",
    "\n",
    "Самые выгодные платформы для продвижения игр на данный PS4, Xone, 3DS. В Евпропе и Амереке это будут PS4, Xone, а в Японии 3DS.\n",
    "\n",
    "Для Америки и Европы стоит пытаться продавать игры в жанре, экшен, шутеры, спорт, ролевые, смещенного жанра, гонки.\n",
    "В Японии сттоит сконцентрироваться только на ролевом жанре и экшене. Для соответсвующих платформ\n",
    "\n",
    "Также для лучшего продвижения продукта в Амереке и Европе, как показала выборка, стоит заказть хорошие отзывы у критиков, чтобы увеличить продажи. В японии на 3DS не стоит забывать про пользовательские оценки.\n",
    "\n",
    "Для Амереки и Европы стоит закупать игры с рейтенгом ESRB, в Японии можно обойтись без него."
   ]
  }
 ],
 "metadata": {
  "ExecuteTimeLog": [
   {
    "duration": 558,
    "start_time": "2022-10-21T09:28:21.638Z"
   },
   {
    "duration": 723,
    "start_time": "2022-10-21T09:29:37.522Z"
   },
   {
    "duration": 32,
    "start_time": "2022-10-21T09:37:56.749Z"
   },
   {
    "duration": 1296,
    "start_time": "2022-10-21T09:40:05.713Z"
   },
   {
    "duration": 496,
    "start_time": "2022-10-21T11:08:11.568Z"
   },
   {
    "duration": 4,
    "start_time": "2022-10-21T11:09:04.244Z"
   },
   {
    "duration": 17,
    "start_time": "2022-10-21T11:09:13.749Z"
   },
   {
    "duration": 17,
    "start_time": "2022-10-21T11:14:42.235Z"
   },
   {
    "duration": 7,
    "start_time": "2022-10-21T11:15:13.552Z"
   },
   {
    "duration": 18,
    "start_time": "2022-10-21T11:15:16.505Z"
   },
   {
    "duration": 7,
    "start_time": "2022-10-21T11:15:33.770Z"
   },
   {
    "duration": 15,
    "start_time": "2022-10-21T11:15:36.405Z"
   },
   {
    "duration": 18,
    "start_time": "2022-10-21T11:15:55.225Z"
   },
   {
    "duration": 81,
    "start_time": "2022-10-21T11:16:09.832Z"
   },
   {
    "duration": 8,
    "start_time": "2022-10-21T11:18:31.086Z"
   },
   {
    "duration": 15,
    "start_time": "2022-10-21T11:18:39.507Z"
   },
   {
    "duration": 6,
    "start_time": "2022-10-21T11:19:37.423Z"
   },
   {
    "duration": 34,
    "start_time": "2022-10-21T11:19:40.584Z"
   },
   {
    "duration": 20,
    "start_time": "2022-10-21T11:19:44.776Z"
   },
   {
    "duration": 59,
    "start_time": "2022-10-21T11:28:01.737Z"
   },
   {
    "duration": 2,
    "start_time": "2022-10-21T11:29:40.740Z"
   },
   {
    "duration": 18,
    "start_time": "2022-10-21T11:31:31.879Z"
   },
   {
    "duration": 17,
    "start_time": "2022-10-21T11:32:39.627Z"
   },
   {
    "duration": 6,
    "start_time": "2022-10-21T11:33:38.459Z"
   },
   {
    "duration": 17,
    "start_time": "2022-10-21T11:33:48.887Z"
   },
   {
    "duration": 7,
    "start_time": "2022-10-21T11:56:06.762Z"
   },
   {
    "duration": 14,
    "start_time": "2022-10-21T11:57:06.301Z"
   },
   {
    "duration": 15,
    "start_time": "2022-10-21T11:57:35.840Z"
   },
   {
    "duration": 23,
    "start_time": "2022-10-21T11:58:50.907Z"
   },
   {
    "duration": 30,
    "start_time": "2022-10-21T11:59:07.826Z"
   },
   {
    "duration": 32,
    "start_time": "2022-10-21T12:01:44.784Z"
   },
   {
    "duration": 26,
    "start_time": "2022-10-21T12:02:18.185Z"
   },
   {
    "duration": 8,
    "start_time": "2022-10-21T12:03:10.685Z"
   },
   {
    "duration": 8,
    "start_time": "2022-10-21T12:03:39.018Z"
   },
   {
    "duration": 7,
    "start_time": "2022-10-21T12:04:01.625Z"
   },
   {
    "duration": 4,
    "start_time": "2022-10-21T12:06:30.017Z"
   },
   {
    "duration": 5,
    "start_time": "2022-10-21T12:06:41.405Z"
   },
   {
    "duration": 4,
    "start_time": "2022-10-21T12:07:31.144Z"
   },
   {
    "duration": 15,
    "start_time": "2022-10-21T12:07:37.702Z"
   },
   {
    "duration": 1106,
    "start_time": "2022-10-21T12:11:30.425Z"
   },
   {
    "duration": 58,
    "start_time": "2022-10-21T12:11:31.535Z"
   },
   {
    "duration": 17,
    "start_time": "2022-10-21T12:11:31.595Z"
   },
   {
    "duration": 46,
    "start_time": "2022-10-21T12:11:31.614Z"
   },
   {
    "duration": 40,
    "start_time": "2022-10-21T12:11:31.662Z"
   },
   {
    "duration": 88,
    "start_time": "2022-10-21T12:11:31.705Z"
   },
   {
    "duration": 15,
    "start_time": "2022-10-21T12:11:31.801Z"
   },
   {
    "duration": 41,
    "start_time": "2022-10-21T12:11:31.818Z"
   },
   {
    "duration": 65,
    "start_time": "2022-10-21T12:11:31.861Z"
   },
   {
    "duration": 30,
    "start_time": "2022-10-21T12:11:31.928Z"
   },
   {
    "duration": 5,
    "start_time": "2022-10-21T12:15:52.847Z"
   },
   {
    "duration": 507,
    "start_time": "2022-10-21T12:20:08.865Z"
   },
   {
    "duration": 247,
    "start_time": "2022-10-21T12:20:20.905Z"
   },
   {
    "duration": 82,
    "start_time": "2022-10-21T12:20:39.725Z"
   },
   {
    "duration": 115,
    "start_time": "2022-10-21T12:20:46.057Z"
   },
   {
    "duration": 22,
    "start_time": "2022-10-21T12:21:57.602Z"
   },
   {
    "duration": 137,
    "start_time": "2022-10-21T12:22:28.311Z"
   },
   {
    "duration": 88,
    "start_time": "2022-10-21T12:22:34.288Z"
   },
   {
    "duration": 86,
    "start_time": "2022-10-21T12:22:48.334Z"
   },
   {
    "duration": 7,
    "start_time": "2022-10-21T12:23:10.602Z"
   },
   {
    "duration": 6,
    "start_time": "2022-10-21T12:25:41.658Z"
   },
   {
    "duration": 14,
    "start_time": "2022-10-21T12:25:48.751Z"
   },
   {
    "duration": 14,
    "start_time": "2022-10-21T12:31:19.331Z"
   },
   {
    "duration": 104,
    "start_time": "2022-10-21T12:31:33.916Z"
   },
   {
    "duration": 8,
    "start_time": "2022-10-21T12:31:42.748Z"
   },
   {
    "duration": 16,
    "start_time": "2022-10-21T12:31:45.806Z"
   },
   {
    "duration": 31,
    "start_time": "2022-10-21T12:36:44.225Z"
   },
   {
    "duration": 25,
    "start_time": "2022-10-21T12:37:35.305Z"
   },
   {
    "duration": 281,
    "start_time": "2022-10-21T12:37:55.813Z"
   },
   {
    "duration": 194,
    "start_time": "2022-10-21T12:38:17.648Z"
   },
   {
    "duration": 198,
    "start_time": "2022-10-21T12:38:26.053Z"
   },
   {
    "duration": 189,
    "start_time": "2022-10-21T12:38:35.353Z"
   },
   {
    "duration": 14,
    "start_time": "2022-10-21T12:42:13.554Z"
   },
   {
    "duration": 13,
    "start_time": "2022-10-21T12:58:54.568Z"
   },
   {
    "duration": 6,
    "start_time": "2022-10-21T12:59:27.777Z"
   },
   {
    "duration": 13,
    "start_time": "2022-10-21T12:59:31.254Z"
   },
   {
    "duration": 21,
    "start_time": "2022-10-21T13:00:20.539Z"
   },
   {
    "duration": 19,
    "start_time": "2022-10-21T13:00:37.174Z"
   },
   {
    "duration": 5,
    "start_time": "2022-10-21T13:05:12.744Z"
   },
   {
    "duration": 92,
    "start_time": "2022-10-21T13:10:24.165Z"
   },
   {
    "duration": 76,
    "start_time": "2022-10-21T13:10:46.684Z"
   },
   {
    "duration": 67,
    "start_time": "2022-10-21T13:11:08.402Z"
   },
   {
    "duration": 108,
    "start_time": "2022-10-21T13:11:24.526Z"
   },
   {
    "duration": 15,
    "start_time": "2022-10-21T13:12:16.331Z"
   },
   {
    "duration": 67,
    "start_time": "2022-10-21T13:12:20.915Z"
   },
   {
    "duration": 16,
    "start_time": "2022-10-21T13:12:53.105Z"
   },
   {
    "duration": 16,
    "start_time": "2022-10-21T13:14:58.044Z"
   },
   {
    "duration": 16,
    "start_time": "2022-10-21T13:15:03.247Z"
   },
   {
    "duration": 14,
    "start_time": "2022-10-21T13:15:18.643Z"
   },
   {
    "duration": 8,
    "start_time": "2022-10-21T13:15:31.221Z"
   },
   {
    "duration": 5,
    "start_time": "2022-10-21T13:16:11.549Z"
   },
   {
    "duration": 38,
    "start_time": "2022-10-21T13:16:15.273Z"
   },
   {
    "duration": 42,
    "start_time": "2022-10-21T13:16:50.122Z"
   },
   {
    "duration": 23,
    "start_time": "2022-10-21T13:17:12.840Z"
   },
   {
    "duration": 24,
    "start_time": "2022-10-21T13:17:28.110Z"
   },
   {
    "duration": 152,
    "start_time": "2022-10-21T13:18:02.705Z"
   },
   {
    "duration": 171,
    "start_time": "2022-10-21T13:21:21.909Z"
   },
   {
    "duration": 493,
    "start_time": "2022-10-21T13:21:31.266Z"
   },
   {
    "duration": 146,
    "start_time": "2022-10-21T13:21:48.111Z"
   },
   {
    "duration": 84,
    "start_time": "2022-10-21T13:21:54.479Z"
   },
   {
    "duration": 153,
    "start_time": "2022-10-21T13:22:01.245Z"
   },
   {
    "duration": 147,
    "start_time": "2022-10-21T13:22:24.306Z"
   },
   {
    "duration": 2977,
    "start_time": "2022-10-21T13:23:40.279Z"
   },
   {
    "duration": 3225,
    "start_time": "2022-10-21T13:23:57.319Z"
   },
   {
    "duration": 145,
    "start_time": "2022-10-21T13:24:40.594Z"
   },
   {
    "duration": 19,
    "start_time": "2022-10-21T13:29:07.638Z"
   },
   {
    "duration": 17,
    "start_time": "2022-10-21T13:29:29.242Z"
   },
   {
    "duration": 170,
    "start_time": "2022-10-21T13:29:59.649Z"
   },
   {
    "duration": 130,
    "start_time": "2022-10-21T13:31:22.881Z"
   },
   {
    "duration": 4,
    "start_time": "2022-10-21T13:33:13.779Z"
   },
   {
    "duration": 4,
    "start_time": "2022-10-21T13:33:35.061Z"
   },
   {
    "duration": 123,
    "start_time": "2022-10-21T13:34:03.385Z"
   },
   {
    "duration": 124,
    "start_time": "2022-10-21T13:34:10.405Z"
   },
   {
    "duration": 221,
    "start_time": "2022-10-21T13:34:19.710Z"
   },
   {
    "duration": 270,
    "start_time": "2022-10-21T13:35:51.101Z"
   },
   {
    "duration": 256,
    "start_time": "2022-10-21T13:36:32.877Z"
   },
   {
    "duration": 341,
    "start_time": "2022-10-21T13:36:56.859Z"
   },
   {
    "duration": 350,
    "start_time": "2022-10-21T13:37:07.026Z"
   },
   {
    "duration": 0,
    "start_time": "2022-10-21T13:55:52.035Z"
   },
   {
    "duration": 0,
    "start_time": "2022-10-21T13:55:52.039Z"
   },
   {
    "duration": 0,
    "start_time": "2022-10-21T13:55:52.040Z"
   },
   {
    "duration": 14,
    "start_time": "2022-10-21T13:55:58.510Z"
   },
   {
    "duration": 5,
    "start_time": "2022-10-21T13:56:05.641Z"
   },
   {
    "duration": 906,
    "start_time": "2022-10-21T13:56:23.105Z"
   },
   {
    "duration": 921,
    "start_time": "2022-10-21T13:56:43.616Z"
   },
   {
    "duration": 929,
    "start_time": "2022-10-21T13:57:32.142Z"
   },
   {
    "duration": 916,
    "start_time": "2022-10-21T13:57:44.083Z"
   },
   {
    "duration": 1019,
    "start_time": "2022-10-21T13:57:53.952Z"
   },
   {
    "duration": 143,
    "start_time": "2022-10-21T14:00:58.769Z"
   },
   {
    "duration": 26,
    "start_time": "2022-10-21T14:01:10.868Z"
   },
   {
    "duration": 78,
    "start_time": "2022-10-21T14:09:13.749Z"
   },
   {
    "duration": 136,
    "start_time": "2022-10-21T14:14:17.039Z"
   },
   {
    "duration": 73,
    "start_time": "2022-10-21T14:14:52.410Z"
   },
   {
    "duration": 76,
    "start_time": "2022-10-21T14:15:01.205Z"
   },
   {
    "duration": 94,
    "start_time": "2022-10-21T14:15:56.473Z"
   },
   {
    "duration": 102,
    "start_time": "2022-10-21T14:16:23.943Z"
   },
   {
    "duration": 112,
    "start_time": "2022-10-21T14:16:34.734Z"
   },
   {
    "duration": 92,
    "start_time": "2022-10-21T14:16:40.417Z"
   },
   {
    "duration": 17,
    "start_time": "2022-10-21T14:20:20.840Z"
   },
   {
    "duration": 24,
    "start_time": "2022-10-21T14:20:37.273Z"
   },
   {
    "duration": 80,
    "start_time": "2022-10-21T14:24:49.556Z"
   },
   {
    "duration": 151,
    "start_time": "2022-10-21T14:25:42.386Z"
   },
   {
    "duration": 182,
    "start_time": "2022-10-21T14:26:16.866Z"
   },
   {
    "duration": 83,
    "start_time": "2022-10-21T14:28:15.151Z"
   },
   {
    "duration": 20,
    "start_time": "2022-10-21T14:28:55.404Z"
   },
   {
    "duration": 140,
    "start_time": "2022-10-21T14:29:13.728Z"
   },
   {
    "duration": 136,
    "start_time": "2022-10-21T14:33:03.444Z"
   },
   {
    "duration": 143,
    "start_time": "2022-10-21T14:33:22.335Z"
   },
   {
    "duration": 85,
    "start_time": "2022-10-21T14:34:58.986Z"
   },
   {
    "duration": 28,
    "start_time": "2022-10-21T14:35:07.375Z"
   },
   {
    "duration": 30,
    "start_time": "2022-10-21T14:35:21.387Z"
   },
   {
    "duration": 517,
    "start_time": "2022-10-21T14:35:51.832Z"
   },
   {
    "duration": 218,
    "start_time": "2022-10-21T14:36:41.351Z"
   },
   {
    "duration": 134,
    "start_time": "2022-10-21T14:37:15.040Z"
   },
   {
    "duration": 140,
    "start_time": "2022-10-21T14:37:45.130Z"
   },
   {
    "duration": 35,
    "start_time": "2022-10-21T14:38:01.529Z"
   },
   {
    "duration": 71,
    "start_time": "2022-10-21T14:39:48.804Z"
   },
   {
    "duration": 96,
    "start_time": "2022-10-21T14:40:06.245Z"
   },
   {
    "duration": 116,
    "start_time": "2022-10-21T14:40:13.803Z"
   },
   {
    "duration": 21,
    "start_time": "2022-10-21T14:40:59.503Z"
   },
   {
    "duration": 179,
    "start_time": "2022-10-21T14:41:28.231Z"
   },
   {
    "duration": 2,
    "start_time": "2022-10-21T14:42:33.570Z"
   },
   {
    "duration": 4,
    "start_time": "2022-10-21T14:42:39.770Z"
   },
   {
    "duration": 24,
    "start_time": "2022-10-21T14:42:59.109Z"
   },
   {
    "duration": 278,
    "start_time": "2022-10-21T14:43:11.170Z"
   },
   {
    "duration": 200,
    "start_time": "2022-10-21T14:43:47.151Z"
   },
   {
    "duration": 200,
    "start_time": "2022-10-21T14:44:12.244Z"
   },
   {
    "duration": 250,
    "start_time": "2022-10-21T14:45:03.522Z"
   },
   {
    "duration": 298,
    "start_time": "2022-10-21T14:45:16.766Z"
   },
   {
    "duration": 301,
    "start_time": "2022-10-21T14:45:40.076Z"
   },
   {
    "duration": 355,
    "start_time": "2022-10-21T14:46:57.479Z"
   },
   {
    "duration": 139,
    "start_time": "2022-10-21T14:49:39.240Z"
   },
   {
    "duration": 12,
    "start_time": "2022-10-21T15:01:33.634Z"
   },
   {
    "duration": 30,
    "start_time": "2022-10-21T15:01:41.990Z"
   },
   {
    "duration": 33,
    "start_time": "2022-10-21T15:01:55.479Z"
   },
   {
    "duration": 10,
    "start_time": "2022-10-21T15:03:00.896Z"
   },
   {
    "duration": 14,
    "start_time": "2022-10-21T15:03:41.738Z"
   },
   {
    "duration": 166,
    "start_time": "2022-10-21T15:03:50.611Z"
   },
   {
    "duration": 159,
    "start_time": "2022-10-21T15:04:33.115Z"
   },
   {
    "duration": 187,
    "start_time": "2022-10-21T15:04:56.449Z"
   },
   {
    "duration": 506,
    "start_time": "2022-10-21T15:05:12.619Z"
   },
   {
    "duration": 161,
    "start_time": "2022-10-21T15:06:34.318Z"
   },
   {
    "duration": 140,
    "start_time": "2022-10-21T15:07:04.078Z"
   },
   {
    "duration": 175,
    "start_time": "2022-10-21T15:10:54.684Z"
   },
   {
    "duration": 174,
    "start_time": "2022-10-21T15:10:58.961Z"
   },
   {
    "duration": 13,
    "start_time": "2022-10-21T15:16:43.148Z"
   },
   {
    "duration": 27,
    "start_time": "2022-10-21T15:18:32.116Z"
   },
   {
    "duration": 31,
    "start_time": "2022-10-21T15:18:39.974Z"
   },
   {
    "duration": 168,
    "start_time": "2022-10-21T15:18:51.682Z"
   },
   {
    "duration": 56,
    "start_time": "2022-10-21T15:20:21.651Z"
   },
   {
    "duration": 183,
    "start_time": "2022-10-21T15:20:31.240Z"
   },
   {
    "duration": 21,
    "start_time": "2022-10-21T15:21:48.311Z"
   },
   {
    "duration": 123,
    "start_time": "2022-10-21T15:22:01.550Z"
   },
   {
    "duration": 147,
    "start_time": "2022-10-21T15:22:42.164Z"
   },
   {
    "duration": 1136,
    "start_time": "2022-10-21T15:24:02.106Z"
   },
   {
    "duration": 60,
    "start_time": "2022-10-21T15:24:03.244Z"
   },
   {
    "duration": 21,
    "start_time": "2022-10-21T15:24:03.306Z"
   },
   {
    "duration": 34,
    "start_time": "2022-10-21T15:24:03.328Z"
   },
   {
    "duration": 43,
    "start_time": "2022-10-21T15:24:03.364Z"
   },
   {
    "duration": 108,
    "start_time": "2022-10-21T15:24:03.410Z"
   },
   {
    "duration": 8,
    "start_time": "2022-10-21T15:24:03.520Z"
   },
   {
    "duration": 26,
    "start_time": "2022-10-21T15:24:03.530Z"
   },
   {
    "duration": 59,
    "start_time": "2022-10-21T15:24:03.557Z"
   },
   {
    "duration": 25,
    "start_time": "2022-10-21T15:24:03.619Z"
   },
   {
    "duration": 31,
    "start_time": "2022-10-21T15:24:03.646Z"
   },
   {
    "duration": 56,
    "start_time": "2022-10-21T15:24:03.679Z"
   },
   {
    "duration": 12,
    "start_time": "2022-10-21T15:24:03.737Z"
   },
   {
    "duration": 91,
    "start_time": "2022-10-21T15:24:03.753Z"
   },
   {
    "duration": 92,
    "start_time": "2022-10-21T15:24:03.846Z"
   },
   {
    "duration": 0,
    "start_time": "2022-10-21T15:24:03.940Z"
   },
   {
    "duration": 0,
    "start_time": "2022-10-21T15:24:03.942Z"
   },
   {
    "duration": 0,
    "start_time": "2022-10-21T15:24:03.943Z"
   },
   {
    "duration": 0,
    "start_time": "2022-10-21T15:24:03.944Z"
   },
   {
    "duration": 0,
    "start_time": "2022-10-21T15:24:03.945Z"
   },
   {
    "duration": 0,
    "start_time": "2022-10-21T15:24:03.946Z"
   },
   {
    "duration": 0,
    "start_time": "2022-10-21T15:24:03.948Z"
   },
   {
    "duration": 0,
    "start_time": "2022-10-21T15:24:03.949Z"
   },
   {
    "duration": 0,
    "start_time": "2022-10-21T15:24:03.950Z"
   },
   {
    "duration": 0,
    "start_time": "2022-10-21T15:24:03.951Z"
   },
   {
    "duration": 0,
    "start_time": "2022-10-21T15:24:03.953Z"
   },
   {
    "duration": 0,
    "start_time": "2022-10-21T15:24:03.957Z"
   },
   {
    "duration": 1190,
    "start_time": "2022-10-21T15:24:33.123Z"
   },
   {
    "duration": 51,
    "start_time": "2022-10-21T15:24:34.316Z"
   },
   {
    "duration": 23,
    "start_time": "2022-10-21T15:24:34.369Z"
   },
   {
    "duration": 30,
    "start_time": "2022-10-21T15:24:34.395Z"
   },
   {
    "duration": 5,
    "start_time": "2022-10-21T15:24:34.427Z"
   },
   {
    "duration": 65,
    "start_time": "2022-10-21T15:24:34.434Z"
   },
   {
    "duration": 13,
    "start_time": "2022-10-21T15:24:34.501Z"
   },
   {
    "duration": 50,
    "start_time": "2022-10-21T15:24:34.517Z"
   },
   {
    "duration": 11,
    "start_time": "2022-10-21T15:24:34.568Z"
   },
   {
    "duration": 12,
    "start_time": "2022-10-21T15:24:34.581Z"
   },
   {
    "duration": 45,
    "start_time": "2022-10-21T15:24:34.598Z"
   },
   {
    "duration": 10,
    "start_time": "2022-10-21T15:24:34.645Z"
   },
   {
    "duration": 6,
    "start_time": "2022-10-21T15:24:34.658Z"
   },
   {
    "duration": 39,
    "start_time": "2022-10-21T15:24:34.666Z"
   },
   {
    "duration": 11,
    "start_time": "2022-10-21T15:24:34.713Z"
   },
   {
    "duration": 213,
    "start_time": "2022-10-21T15:24:34.726Z"
   },
   {
    "duration": 16,
    "start_time": "2022-10-21T15:24:34.941Z"
   },
   {
    "duration": 4,
    "start_time": "2022-10-21T15:24:34.959Z"
   },
   {
    "duration": 329,
    "start_time": "2022-10-21T15:24:34.965Z"
   },
   {
    "duration": 923,
    "start_time": "2022-10-21T15:24:35.296Z"
   },
   {
    "duration": 349,
    "start_time": "2022-10-21T15:24:36.222Z"
   },
   {
    "duration": 0,
    "start_time": "2022-10-21T15:24:36.572Z"
   },
   {
    "duration": 0,
    "start_time": "2022-10-21T15:24:36.574Z"
   },
   {
    "duration": 0,
    "start_time": "2022-10-21T15:24:36.598Z"
   },
   {
    "duration": 0,
    "start_time": "2022-10-21T15:24:36.604Z"
   },
   {
    "duration": 0,
    "start_time": "2022-10-21T15:24:36.608Z"
   },
   {
    "duration": 1137,
    "start_time": "2022-10-21T15:25:15.431Z"
   },
   {
    "duration": 68,
    "start_time": "2022-10-21T15:25:16.570Z"
   },
   {
    "duration": 15,
    "start_time": "2022-10-21T15:25:16.640Z"
   },
   {
    "duration": 19,
    "start_time": "2022-10-21T15:25:16.656Z"
   },
   {
    "duration": 2,
    "start_time": "2022-10-21T15:25:16.677Z"
   },
   {
    "duration": 66,
    "start_time": "2022-10-21T15:25:16.681Z"
   },
   {
    "duration": 6,
    "start_time": "2022-10-21T15:25:16.749Z"
   },
   {
    "duration": 8,
    "start_time": "2022-10-21T15:25:16.756Z"
   },
   {
    "duration": 6,
    "start_time": "2022-10-21T15:25:16.766Z"
   },
   {
    "duration": 9,
    "start_time": "2022-10-21T15:25:16.792Z"
   },
   {
    "duration": 22,
    "start_time": "2022-10-21T15:25:16.802Z"
   },
   {
    "duration": 6,
    "start_time": "2022-10-21T15:25:16.826Z"
   },
   {
    "duration": 6,
    "start_time": "2022-10-21T15:25:16.834Z"
   },
   {
    "duration": 18,
    "start_time": "2022-10-21T15:25:16.842Z"
   },
   {
    "duration": 6,
    "start_time": "2022-10-21T15:25:16.862Z"
   },
   {
    "duration": 209,
    "start_time": "2022-10-21T15:25:16.869Z"
   },
   {
    "duration": 40,
    "start_time": "2022-10-21T15:25:17.088Z"
   },
   {
    "duration": 10,
    "start_time": "2022-10-21T15:25:17.130Z"
   },
   {
    "duration": 346,
    "start_time": "2022-10-21T15:25:17.142Z"
   },
   {
    "duration": 849,
    "start_time": "2022-10-21T15:25:17.490Z"
   },
   {
    "duration": 318,
    "start_time": "2022-10-21T15:25:18.341Z"
   },
   {
    "duration": 131,
    "start_time": "2022-10-21T15:25:18.660Z"
   },
   {
    "duration": 16,
    "start_time": "2022-10-21T15:25:18.797Z"
   },
   {
    "duration": 197,
    "start_time": "2022-10-21T15:25:18.818Z"
   },
   {
    "duration": 201,
    "start_time": "2022-10-21T15:25:19.017Z"
   },
   {
    "duration": 144,
    "start_time": "2022-10-21T15:25:19.221Z"
   },
   {
    "duration": 845,
    "start_time": "2022-10-21T15:25:40.178Z"
   },
   {
    "duration": 579,
    "start_time": "2022-10-21T15:25:57.753Z"
   },
   {
    "duration": 601,
    "start_time": "2022-10-21T15:26:13.900Z"
   },
   {
    "duration": 802,
    "start_time": "2022-10-21T15:26:38.434Z"
   },
   {
    "duration": 2877,
    "start_time": "2022-10-21T15:26:50.932Z"
   },
   {
    "duration": 142,
    "start_time": "2022-10-21T15:34:29.285Z"
   },
   {
    "duration": 1737,
    "start_time": "2022-10-21T15:34:37.952Z"
   },
   {
    "duration": 267,
    "start_time": "2022-10-21T15:34:49.448Z"
   },
   {
    "duration": 305,
    "start_time": "2022-10-21T15:35:56.299Z"
   },
   {
    "duration": 366,
    "start_time": "2022-10-21T15:36:11.303Z"
   },
   {
    "duration": 346,
    "start_time": "2022-10-21T15:36:33.663Z"
   },
   {
    "duration": 6,
    "start_time": "2022-10-21T15:56:27.400Z"
   },
   {
    "duration": 497,
    "start_time": "2022-10-21T15:56:40.807Z"
   },
   {
    "duration": 447,
    "start_time": "2022-10-21T15:57:14.909Z"
   },
   {
    "duration": 5,
    "start_time": "2022-10-21T15:59:23.120Z"
   },
   {
    "duration": 4,
    "start_time": "2022-10-21T15:59:51.601Z"
   },
   {
    "duration": 462,
    "start_time": "2022-10-21T15:59:53.803Z"
   },
   {
    "duration": 483,
    "start_time": "2022-10-21T15:59:57.102Z"
   },
   {
    "duration": 608,
    "start_time": "2022-10-21T16:02:30.118Z"
   },
   {
    "duration": 9,
    "start_time": "2022-10-21T16:19:43.818Z"
   },
   {
    "duration": 14,
    "start_time": "2022-10-21T16:20:02.984Z"
   },
   {
    "duration": 9,
    "start_time": "2022-10-21T16:20:20.845Z"
   },
   {
    "duration": 4,
    "start_time": "2022-10-21T16:20:39.544Z"
   },
   {
    "duration": 5,
    "start_time": "2022-10-21T16:20:53.744Z"
   },
   {
    "duration": 11,
    "start_time": "2022-10-21T16:21:25.289Z"
   },
   {
    "duration": 9,
    "start_time": "2022-10-21T16:21:32.749Z"
   },
   {
    "duration": 22,
    "start_time": "2022-10-21T16:22:13.339Z"
   },
   {
    "duration": 8,
    "start_time": "2022-10-21T16:22:17.767Z"
   },
   {
    "duration": 3,
    "start_time": "2022-10-21T16:22:18.766Z"
   },
   {
    "duration": 5,
    "start_time": "2022-10-21T16:22:20.098Z"
   },
   {
    "duration": 163,
    "start_time": "2022-10-21T16:23:59.999Z"
   },
   {
    "duration": 10,
    "start_time": "2022-10-21T16:27:17.133Z"
   },
   {
    "duration": 4,
    "start_time": "2022-10-21T16:27:35.125Z"
   },
   {
    "duration": 3,
    "start_time": "2022-10-21T16:28:04.445Z"
   },
   {
    "duration": 3,
    "start_time": "2022-10-21T16:28:07.318Z"
   },
   {
    "duration": 3,
    "start_time": "2022-10-21T16:28:08.665Z"
   },
   {
    "duration": 4,
    "start_time": "2022-10-21T16:28:09.809Z"
   },
   {
    "duration": 3,
    "start_time": "2022-10-21T16:28:13.096Z"
   },
   {
    "duration": 4,
    "start_time": "2022-10-21T16:28:16.889Z"
   },
   {
    "duration": 4,
    "start_time": "2022-10-21T16:28:19.096Z"
   },
   {
    "duration": 3,
    "start_time": "2022-10-21T16:29:24.335Z"
   },
   {
    "duration": 5,
    "start_time": "2022-10-21T16:29:25.636Z"
   },
   {
    "duration": 7,
    "start_time": "2022-10-21T16:29:34.948Z"
   },
   {
    "duration": 3,
    "start_time": "2022-10-21T16:29:36.537Z"
   },
   {
    "duration": 5,
    "start_time": "2022-10-21T16:29:38.123Z"
   },
   {
    "duration": 3,
    "start_time": "2022-10-21T16:29:48.930Z"
   },
   {
    "duration": 7,
    "start_time": "2022-10-21T16:29:50.978Z"
   },
   {
    "duration": 3,
    "start_time": "2022-10-21T16:29:54.193Z"
   },
   {
    "duration": 4,
    "start_time": "2022-10-21T16:29:55.660Z"
   },
   {
    "duration": 9,
    "start_time": "2022-10-21T16:30:24.819Z"
   },
   {
    "duration": 4,
    "start_time": "2022-10-21T16:30:27.345Z"
   },
   {
    "duration": 5,
    "start_time": "2022-10-21T16:30:29.032Z"
   },
   {
    "duration": 1145,
    "start_time": "2022-10-21T16:42:19.375Z"
   },
   {
    "duration": 51,
    "start_time": "2022-10-21T16:42:20.522Z"
   },
   {
    "duration": 14,
    "start_time": "2022-10-21T16:42:20.575Z"
   },
   {
    "duration": 21,
    "start_time": "2022-10-21T16:42:20.591Z"
   },
   {
    "duration": 4,
    "start_time": "2022-10-21T16:42:20.613Z"
   },
   {
    "duration": 71,
    "start_time": "2022-10-21T16:42:20.619Z"
   },
   {
    "duration": 7,
    "start_time": "2022-10-21T16:42:20.692Z"
   },
   {
    "duration": 6,
    "start_time": "2022-10-21T16:42:20.701Z"
   },
   {
    "duration": 8,
    "start_time": "2022-10-21T16:42:20.708Z"
   },
   {
    "duration": 13,
    "start_time": "2022-10-21T16:42:20.719Z"
   },
   {
    "duration": 15,
    "start_time": "2022-10-21T16:42:20.733Z"
   },
   {
    "duration": 9,
    "start_time": "2022-10-21T16:42:20.749Z"
   },
   {
    "duration": 16,
    "start_time": "2022-10-21T16:42:20.760Z"
   },
   {
    "duration": 20,
    "start_time": "2022-10-21T16:42:20.777Z"
   },
   {
    "duration": 7,
    "start_time": "2022-10-21T16:42:20.799Z"
   },
   {
    "duration": 188,
    "start_time": "2022-10-21T16:42:20.807Z"
   },
   {
    "duration": 15,
    "start_time": "2022-10-21T16:42:20.997Z"
   },
   {
    "duration": 3,
    "start_time": "2022-10-21T16:42:21.014Z"
   },
   {
    "duration": 270,
    "start_time": "2022-10-21T16:42:21.018Z"
   },
   {
    "duration": 737,
    "start_time": "2022-10-21T16:42:21.290Z"
   },
   {
    "duration": 274,
    "start_time": "2022-10-21T16:42:22.029Z"
   },
   {
    "duration": 114,
    "start_time": "2022-10-21T16:42:22.304Z"
   },
   {
    "duration": 7,
    "start_time": "2022-10-21T16:42:22.420Z"
   },
   {
    "duration": 181,
    "start_time": "2022-10-21T16:42:22.428Z"
   },
   {
    "duration": 169,
    "start_time": "2022-10-21T16:42:22.611Z"
   },
   {
    "duration": 2444,
    "start_time": "2022-10-21T16:42:22.785Z"
   },
   {
    "duration": 266,
    "start_time": "2022-10-21T16:42:25.231Z"
   },
   {
    "duration": 5,
    "start_time": "2022-10-21T16:42:25.501Z"
   },
   {
    "duration": 47,
    "start_time": "2022-10-21T16:42:25.508Z"
   },
   {
    "duration": 490,
    "start_time": "2022-10-21T16:42:25.557Z"
   },
   {
    "duration": 473,
    "start_time": "2022-10-21T16:42:26.048Z"
   },
   {
    "duration": 615,
    "start_time": "2022-10-21T16:42:26.523Z"
   },
   {
    "duration": 9,
    "start_time": "2022-10-21T16:42:27.140Z"
   },
   {
    "duration": 35,
    "start_time": "2022-10-21T16:42:27.151Z"
   },
   {
    "duration": 30,
    "start_time": "2022-10-21T16:42:27.187Z"
   },
   {
    "duration": 60,
    "start_time": "2022-10-21T16:42:27.219Z"
   },
   {
    "duration": 31,
    "start_time": "2022-10-21T16:42:27.280Z"
   },
   {
    "duration": 24,
    "start_time": "2022-10-21T16:42:27.313Z"
   },
   {
    "duration": 20,
    "start_time": "2022-10-21T16:42:27.339Z"
   },
   {
    "duration": 48,
    "start_time": "2022-10-23T10:18:04.581Z"
   },
   {
    "duration": 1377,
    "start_time": "2022-10-23T10:18:15.531Z"
   },
   {
    "duration": 69,
    "start_time": "2022-10-23T10:18:16.910Z"
   },
   {
    "duration": 15,
    "start_time": "2022-10-23T10:18:16.981Z"
   },
   {
    "duration": 29,
    "start_time": "2022-10-23T10:18:16.998Z"
   },
   {
    "duration": 25,
    "start_time": "2022-10-23T10:18:17.029Z"
   },
   {
    "duration": 510,
    "start_time": "2022-10-23T10:18:17.056Z"
   },
   {
    "duration": 4,
    "start_time": "2022-10-23T10:18:17.568Z"
   },
   {
    "duration": 60,
    "start_time": "2022-10-23T10:18:17.574Z"
   },
   {
    "duration": 21,
    "start_time": "2022-10-23T10:18:17.636Z"
   },
   {
    "duration": 9,
    "start_time": "2022-10-23T10:18:17.659Z"
   },
   {
    "duration": 17,
    "start_time": "2022-10-23T10:18:17.670Z"
   },
   {
    "duration": 10,
    "start_time": "2022-10-23T10:18:17.689Z"
   },
   {
    "duration": 9,
    "start_time": "2022-10-23T10:18:17.700Z"
   },
   {
    "duration": 6,
    "start_time": "2022-10-23T10:18:17.712Z"
   },
   {
    "duration": 11,
    "start_time": "2022-10-23T10:18:17.719Z"
   },
   {
    "duration": 6,
    "start_time": "2022-10-23T10:18:17.732Z"
   },
   {
    "duration": 11,
    "start_time": "2022-10-23T10:18:17.754Z"
   },
   {
    "duration": 187,
    "start_time": "2022-10-23T10:18:17.767Z"
   },
   {
    "duration": 16,
    "start_time": "2022-10-23T10:18:17.955Z"
   },
   {
    "duration": 6,
    "start_time": "2022-10-23T10:18:17.973Z"
   },
   {
    "duration": 290,
    "start_time": "2022-10-23T10:18:17.981Z"
   },
   {
    "duration": 796,
    "start_time": "2022-10-23T10:18:18.272Z"
   },
   {
    "duration": 371,
    "start_time": "2022-10-23T10:18:19.069Z"
   },
   {
    "duration": 122,
    "start_time": "2022-10-23T10:18:19.442Z"
   },
   {
    "duration": 6,
    "start_time": "2022-10-23T10:18:19.565Z"
   },
   {
    "duration": 174,
    "start_time": "2022-10-23T10:18:19.573Z"
   },
   {
    "duration": 198,
    "start_time": "2022-10-23T10:18:19.756Z"
   },
   {
    "duration": 2777,
    "start_time": "2022-10-23T10:18:19.956Z"
   },
   {
    "duration": 307,
    "start_time": "2022-10-23T10:18:22.735Z"
   },
   {
    "duration": 10,
    "start_time": "2022-10-23T10:18:23.044Z"
   },
   {
    "duration": 24,
    "start_time": "2022-10-23T10:18:23.056Z"
   },
   {
    "duration": 503,
    "start_time": "2022-10-23T10:18:23.082Z"
   },
   {
    "duration": 577,
    "start_time": "2022-10-23T10:18:23.587Z"
   },
   {
    "duration": 460,
    "start_time": "2022-10-23T10:18:24.166Z"
   },
   {
    "duration": 10,
    "start_time": "2022-10-23T10:18:24.627Z"
   },
   {
    "duration": 10,
    "start_time": "2022-10-23T10:18:24.638Z"
   },
   {
    "duration": 10,
    "start_time": "2022-10-23T10:18:24.655Z"
   },
   {
    "duration": 12,
    "start_time": "2022-10-23T10:18:24.667Z"
   },
   {
    "duration": 19,
    "start_time": "2022-10-23T10:18:24.680Z"
   },
   {
    "duration": 9,
    "start_time": "2022-10-23T10:18:24.700Z"
   },
   {
    "duration": 10,
    "start_time": "2022-10-23T10:18:24.712Z"
   },
   {
    "duration": 879,
    "start_time": "2022-10-23T10:18:41.750Z"
   },
   {
    "duration": 1098,
    "start_time": "2022-10-23T10:19:11.054Z"
   },
   {
    "duration": 952,
    "start_time": "2022-10-23T10:19:17.448Z"
   },
   {
    "duration": 1019,
    "start_time": "2022-10-23T10:19:26.008Z"
   },
   {
    "duration": 73,
    "start_time": "2022-10-23T10:21:56.028Z"
   },
   {
    "duration": 20,
    "start_time": "2022-10-23T10:23:58.720Z"
   },
   {
    "duration": 7,
    "start_time": "2022-10-23T10:24:54.347Z"
   },
   {
    "duration": 7,
    "start_time": "2022-10-23T10:25:43.183Z"
   },
   {
    "duration": 903,
    "start_time": "2022-10-23T10:29:46.620Z"
   },
   {
    "duration": 439,
    "start_time": "2022-10-23T10:33:19.915Z"
   },
   {
    "duration": 260,
    "start_time": "2022-10-23T10:33:42.246Z"
   },
   {
    "duration": 20,
    "start_time": "2022-10-23T10:35:20.650Z"
   },
   {
    "duration": 15,
    "start_time": "2022-10-23T10:37:54.433Z"
   },
   {
    "duration": 306,
    "start_time": "2022-10-23T10:38:05.083Z"
   },
   {
    "duration": 304,
    "start_time": "2022-10-23T10:38:13.610Z"
   },
   {
    "duration": 105,
    "start_time": "2022-10-23T10:38:26.052Z"
   },
   {
    "duration": 49,
    "start_time": "2022-10-23T10:39:40.655Z"
   },
   {
    "duration": 296,
    "start_time": "2022-10-23T10:44:46.010Z"
   },
   {
    "duration": 15,
    "start_time": "2022-10-23T10:45:10.063Z"
   },
   {
    "duration": 356,
    "start_time": "2022-10-23T10:45:13.218Z"
   },
   {
    "duration": 143,
    "start_time": "2022-10-23T10:45:43.576Z"
   },
   {
    "duration": 6,
    "start_time": "2022-10-23T10:51:39.815Z"
   },
   {
    "duration": 10,
    "start_time": "2022-10-23T10:51:55.529Z"
   },
   {
    "duration": 204,
    "start_time": "2022-10-23T10:51:57.924Z"
   },
   {
    "duration": 228,
    "start_time": "2022-10-23T10:52:19.162Z"
   },
   {
    "duration": 1209,
    "start_time": "2022-10-23T10:53:11.971Z"
   },
   {
    "duration": 41,
    "start_time": "2022-10-23T10:53:13.182Z"
   },
   {
    "duration": 15,
    "start_time": "2022-10-23T10:53:13.224Z"
   },
   {
    "duration": 27,
    "start_time": "2022-10-23T10:53:13.242Z"
   },
   {
    "duration": 14,
    "start_time": "2022-10-23T10:53:13.271Z"
   },
   {
    "duration": 648,
    "start_time": "2022-10-23T10:53:13.286Z"
   },
   {
    "duration": 3,
    "start_time": "2022-10-23T10:53:13.936Z"
   },
   {
    "duration": 74,
    "start_time": "2022-10-23T10:53:13.941Z"
   },
   {
    "duration": 6,
    "start_time": "2022-10-23T10:53:14.016Z"
   },
   {
    "duration": 17,
    "start_time": "2022-10-23T10:53:14.024Z"
   },
   {
    "duration": 6,
    "start_time": "2022-10-23T10:53:14.042Z"
   },
   {
    "duration": 7,
    "start_time": "2022-10-23T10:53:14.054Z"
   },
   {
    "duration": 11,
    "start_time": "2022-10-23T10:53:14.062Z"
   },
   {
    "duration": 16,
    "start_time": "2022-10-23T10:53:14.074Z"
   },
   {
    "duration": 25,
    "start_time": "2022-10-23T10:53:14.092Z"
   },
   {
    "duration": 10,
    "start_time": "2022-10-23T10:53:14.119Z"
   },
   {
    "duration": 166,
    "start_time": "2022-10-23T10:53:14.131Z"
   },
   {
    "duration": 7,
    "start_time": "2022-10-23T10:53:14.299Z"
   },
   {
    "duration": 16,
    "start_time": "2022-10-23T10:53:14.307Z"
   },
   {
    "duration": 4,
    "start_time": "2022-10-23T10:53:14.324Z"
   },
   {
    "duration": 281,
    "start_time": "2022-10-23T10:53:14.329Z"
   },
   {
    "duration": 829,
    "start_time": "2022-10-23T10:53:14.611Z"
   },
   {
    "duration": 13,
    "start_time": "2022-10-23T10:53:15.442Z"
   },
   {
    "duration": 417,
    "start_time": "2022-10-23T10:53:15.457Z"
   },
   {
    "duration": 150,
    "start_time": "2022-10-23T10:53:15.875Z"
   },
   {
    "duration": 5,
    "start_time": "2022-10-23T10:53:16.026Z"
   },
   {
    "duration": 22,
    "start_time": "2022-10-23T10:53:16.033Z"
   },
   {
    "duration": 175,
    "start_time": "2022-10-23T10:53:16.060Z"
   },
   {
    "duration": 171,
    "start_time": "2022-10-23T10:53:16.237Z"
   },
   {
    "duration": 2549,
    "start_time": "2022-10-23T10:53:16.409Z"
   },
   {
    "duration": 289,
    "start_time": "2022-10-23T10:53:18.960Z"
   },
   {
    "duration": 5,
    "start_time": "2022-10-23T10:53:19.254Z"
   },
   {
    "duration": 20,
    "start_time": "2022-10-23T10:53:19.261Z"
   },
   {
    "duration": 553,
    "start_time": "2022-10-23T10:53:19.283Z"
   },
   {
    "duration": 464,
    "start_time": "2022-10-23T10:53:19.838Z"
   },
   {
    "duration": 466,
    "start_time": "2022-10-23T10:53:20.304Z"
   },
   {
    "duration": 6,
    "start_time": "2022-10-23T10:53:20.773Z"
   },
   {
    "duration": 12,
    "start_time": "2022-10-23T10:53:20.781Z"
   },
   {
    "duration": 10,
    "start_time": "2022-10-23T10:53:20.795Z"
   },
   {
    "duration": 23,
    "start_time": "2022-10-23T10:53:20.807Z"
   },
   {
    "duration": 18,
    "start_time": "2022-10-23T10:53:20.831Z"
   },
   {
    "duration": 8,
    "start_time": "2022-10-23T10:53:20.850Z"
   },
   {
    "duration": 18,
    "start_time": "2022-10-23T10:53:20.860Z"
   },
   {
    "duration": 213,
    "start_time": "2022-10-23T10:54:04.463Z"
   },
   {
    "duration": 108,
    "start_time": "2022-10-23T10:54:39.991Z"
   },
   {
    "duration": 9,
    "start_time": "2022-10-23T10:54:43.254Z"
   },
   {
    "duration": 4,
    "start_time": "2022-10-23T10:54:54.433Z"
   },
   {
    "duration": 3144,
    "start_time": "2022-10-23T10:55:11.529Z"
   },
   {
    "duration": 16,
    "start_time": "2022-10-23T11:06:09.421Z"
   },
   {
    "duration": 8,
    "start_time": "2022-10-23T11:06:37.383Z"
   },
   {
    "duration": 11,
    "start_time": "2022-10-23T11:07:11.133Z"
   },
   {
    "duration": 970,
    "start_time": "2022-10-23T11:07:24.759Z"
   },
   {
    "duration": 242,
    "start_time": "2022-10-23T11:07:32.960Z"
   },
   {
    "duration": 198,
    "start_time": "2022-10-23T11:08:06.787Z"
   },
   {
    "duration": 831,
    "start_time": "2022-10-23T11:08:42.852Z"
   },
   {
    "duration": 54,
    "start_time": "2022-10-23T11:08:52.612Z"
   },
   {
    "duration": 195,
    "start_time": "2022-10-23T11:08:55.630Z"
   },
   {
    "duration": 12,
    "start_time": "2022-10-23T11:09:48.587Z"
   },
   {
    "duration": 10,
    "start_time": "2022-10-23T11:10:06.852Z"
   },
   {
    "duration": 9,
    "start_time": "2022-10-23T11:11:19.296Z"
   },
   {
    "duration": 201,
    "start_time": "2022-10-23T11:11:36.880Z"
   },
   {
    "duration": 199,
    "start_time": "2022-10-23T11:12:08.764Z"
   },
   {
    "duration": 218,
    "start_time": "2022-10-23T11:12:17.915Z"
   },
   {
    "duration": 62,
    "start_time": "2022-10-23T11:19:06.793Z"
   },
   {
    "duration": 3,
    "start_time": "2022-10-23T11:25:49.068Z"
   },
   {
    "duration": 5,
    "start_time": "2022-10-23T11:26:49.371Z"
   },
   {
    "duration": 435,
    "start_time": "2022-10-23T11:27:00.078Z"
   },
   {
    "duration": 1206,
    "start_time": "2022-10-23T11:27:53.991Z"
   },
   {
    "duration": 52,
    "start_time": "2022-10-23T11:27:55.199Z"
   },
   {
    "duration": 16,
    "start_time": "2022-10-23T11:27:55.253Z"
   },
   {
    "duration": 20,
    "start_time": "2022-10-23T11:27:55.271Z"
   },
   {
    "duration": 17,
    "start_time": "2022-10-23T11:27:55.293Z"
   },
   {
    "duration": 685,
    "start_time": "2022-10-23T11:27:55.311Z"
   },
   {
    "duration": 3,
    "start_time": "2022-10-23T11:27:55.998Z"
   },
   {
    "duration": 66,
    "start_time": "2022-10-23T11:27:56.003Z"
   },
   {
    "duration": 7,
    "start_time": "2022-10-23T11:27:56.071Z"
   },
   {
    "duration": 6,
    "start_time": "2022-10-23T11:27:56.081Z"
   },
   {
    "duration": 5,
    "start_time": "2022-10-23T11:27:56.088Z"
   },
   {
    "duration": 26,
    "start_time": "2022-10-23T11:27:56.094Z"
   },
   {
    "duration": 10,
    "start_time": "2022-10-23T11:27:56.122Z"
   },
   {
    "duration": 6,
    "start_time": "2022-10-23T11:27:56.134Z"
   },
   {
    "duration": 14,
    "start_time": "2022-10-23T11:27:56.141Z"
   },
   {
    "duration": 7,
    "start_time": "2022-10-23T11:27:56.156Z"
   },
   {
    "duration": 205,
    "start_time": "2022-10-23T11:27:56.165Z"
   },
   {
    "duration": 9,
    "start_time": "2022-10-23T11:27:56.372Z"
   },
   {
    "duration": 30,
    "start_time": "2022-10-23T11:27:56.383Z"
   },
   {
    "duration": 3,
    "start_time": "2022-10-23T11:27:56.415Z"
   },
   {
    "duration": 298,
    "start_time": "2022-10-23T11:27:56.419Z"
   },
   {
    "duration": 863,
    "start_time": "2022-10-23T11:27:56.718Z"
   },
   {
    "duration": 15,
    "start_time": "2022-10-23T11:27:57.582Z"
   },
   {
    "duration": 414,
    "start_time": "2022-10-23T11:27:57.598Z"
   },
   {
    "duration": 152,
    "start_time": "2022-10-23T11:27:58.014Z"
   },
   {
    "duration": 4,
    "start_time": "2022-10-23T11:27:58.168Z"
   },
   {
    "duration": 10,
    "start_time": "2022-10-23T11:27:58.174Z"
   },
   {
    "duration": 178,
    "start_time": "2022-10-23T11:27:58.188Z"
   },
   {
    "duration": 179,
    "start_time": "2022-10-23T11:27:58.368Z"
   },
   {
    "duration": 2547,
    "start_time": "2022-10-23T11:27:58.555Z"
   },
   {
    "duration": 309,
    "start_time": "2022-10-23T11:28:01.105Z"
   },
   {
    "duration": 288,
    "start_time": "2022-10-23T11:28:01.416Z"
   },
   {
    "duration": 4,
    "start_time": "2022-10-23T11:28:01.707Z"
   },
   {
    "duration": 602,
    "start_time": "2022-10-23T11:28:01.713Z"
   },
   {
    "duration": 477,
    "start_time": "2022-10-23T11:28:02.317Z"
   },
   {
    "duration": 453,
    "start_time": "2022-10-23T11:28:02.796Z"
   },
   {
    "duration": 5,
    "start_time": "2022-10-23T11:28:03.251Z"
   },
   {
    "duration": 477,
    "start_time": "2022-10-23T11:28:03.258Z"
   },
   {
    "duration": 445,
    "start_time": "2022-10-23T11:28:03.737Z"
   },
   {
    "duration": 0,
    "start_time": "2022-10-23T11:28:04.184Z"
   },
   {
    "duration": 0,
    "start_time": "2022-10-23T11:28:04.185Z"
   },
   {
    "duration": 0,
    "start_time": "2022-10-23T11:28:04.186Z"
   },
   {
    "duration": 0,
    "start_time": "2022-10-23T11:28:04.187Z"
   },
   {
    "duration": 0,
    "start_time": "2022-10-23T11:28:04.189Z"
   },
   {
    "duration": 0,
    "start_time": "2022-10-23T11:28:04.190Z"
   },
   {
    "duration": 5,
    "start_time": "2022-10-23T11:28:47.484Z"
   },
   {
    "duration": 442,
    "start_time": "2022-10-23T11:28:52.304Z"
   },
   {
    "duration": 397,
    "start_time": "2022-10-23T11:29:05.857Z"
   },
   {
    "duration": 389,
    "start_time": "2022-10-23T11:29:10.578Z"
   },
   {
    "duration": 5,
    "start_time": "2022-10-23T11:29:25.317Z"
   },
   {
    "duration": 552,
    "start_time": "2022-10-23T11:29:29.556Z"
   },
   {
    "duration": 5,
    "start_time": "2022-10-23T11:30:22.994Z"
   },
   {
    "duration": 480,
    "start_time": "2022-10-23T11:30:24.667Z"
   },
   {
    "duration": 547,
    "start_time": "2022-10-23T11:30:31.362Z"
   },
   {
    "duration": 6,
    "start_time": "2022-10-23T11:30:45.535Z"
   },
   {
    "duration": 527,
    "start_time": "2022-10-23T11:30:56.809Z"
   },
   {
    "duration": 441,
    "start_time": "2022-10-23T11:31:02.605Z"
   },
   {
    "duration": 4,
    "start_time": "2022-10-23T11:31:06.193Z"
   },
   {
    "duration": 569,
    "start_time": "2022-10-23T11:31:10.075Z"
   },
   {
    "duration": 6,
    "start_time": "2022-10-23T11:31:29.351Z"
   },
   {
    "duration": 429,
    "start_time": "2022-10-23T11:31:32.934Z"
   },
   {
    "duration": 436,
    "start_time": "2022-10-23T11:31:37.213Z"
   },
   {
    "duration": 495,
    "start_time": "2022-10-23T11:31:45.562Z"
   },
   {
    "duration": 436,
    "start_time": "2022-10-23T11:31:59.795Z"
   },
   {
    "duration": 505,
    "start_time": "2022-10-23T11:32:07.672Z"
   },
   {
    "duration": 8,
    "start_time": "2022-10-23T11:32:21.569Z"
   },
   {
    "duration": 468,
    "start_time": "2022-10-23T11:32:22.781Z"
   },
   {
    "duration": 5,
    "start_time": "2022-10-23T11:32:49.742Z"
   },
   {
    "duration": 539,
    "start_time": "2022-10-23T11:32:53.403Z"
   },
   {
    "duration": 426,
    "start_time": "2022-10-23T11:32:57.835Z"
   },
   {
    "duration": 5,
    "start_time": "2022-10-23T11:33:01.561Z"
   },
   {
    "duration": 469,
    "start_time": "2022-10-23T11:33:03.277Z"
   },
   {
    "duration": 453,
    "start_time": "2022-10-23T11:33:14.438Z"
   },
   {
    "duration": 1175,
    "start_time": "2022-10-23T11:33:24.529Z"
   },
   {
    "duration": 39,
    "start_time": "2022-10-23T11:33:25.706Z"
   },
   {
    "duration": 15,
    "start_time": "2022-10-23T11:33:25.747Z"
   },
   {
    "duration": 18,
    "start_time": "2022-10-23T11:33:25.763Z"
   },
   {
    "duration": 13,
    "start_time": "2022-10-23T11:33:25.784Z"
   },
   {
    "duration": 660,
    "start_time": "2022-10-23T11:33:25.799Z"
   },
   {
    "duration": 3,
    "start_time": "2022-10-23T11:33:26.461Z"
   },
   {
    "duration": 61,
    "start_time": "2022-10-23T11:33:26.466Z"
   },
   {
    "duration": 6,
    "start_time": "2022-10-23T11:33:26.529Z"
   },
   {
    "duration": 23,
    "start_time": "2022-10-23T11:33:26.536Z"
   },
   {
    "duration": 10,
    "start_time": "2022-10-23T11:33:26.560Z"
   },
   {
    "duration": 14,
    "start_time": "2022-10-23T11:33:26.572Z"
   },
   {
    "duration": 7,
    "start_time": "2022-10-23T11:33:26.587Z"
   },
   {
    "duration": 8,
    "start_time": "2022-10-23T11:33:26.597Z"
   },
   {
    "duration": 12,
    "start_time": "2022-10-23T11:33:26.607Z"
   },
   {
    "duration": 15,
    "start_time": "2022-10-23T11:33:26.620Z"
   },
   {
    "duration": 190,
    "start_time": "2022-10-23T11:33:26.636Z"
   },
   {
    "duration": 9,
    "start_time": "2022-10-23T11:33:26.827Z"
   },
   {
    "duration": 31,
    "start_time": "2022-10-23T11:33:26.837Z"
   },
   {
    "duration": 3,
    "start_time": "2022-10-23T11:33:26.870Z"
   },
   {
    "duration": 286,
    "start_time": "2022-10-23T11:33:26.875Z"
   },
   {
    "duration": 834,
    "start_time": "2022-10-23T11:33:27.162Z"
   },
   {
    "duration": 14,
    "start_time": "2022-10-23T11:33:27.998Z"
   },
   {
    "duration": 414,
    "start_time": "2022-10-23T11:33:28.014Z"
   },
   {
    "duration": 150,
    "start_time": "2022-10-23T11:33:28.430Z"
   },
   {
    "duration": 4,
    "start_time": "2022-10-23T11:33:28.582Z"
   },
   {
    "duration": 10,
    "start_time": "2022-10-23T11:33:28.588Z"
   },
   {
    "duration": 181,
    "start_time": "2022-10-23T11:33:28.600Z"
   },
   {
    "duration": 171,
    "start_time": "2022-10-23T11:33:28.783Z"
   },
   {
    "duration": 2539,
    "start_time": "2022-10-23T11:33:28.955Z"
   },
   {
    "duration": 390,
    "start_time": "2022-10-23T11:33:31.496Z"
   },
   {
    "duration": 226,
    "start_time": "2022-10-23T11:33:31.888Z"
   },
   {
    "duration": 5,
    "start_time": "2022-10-23T11:33:32.115Z"
   },
   {
    "duration": 599,
    "start_time": "2022-10-23T11:33:32.122Z"
   },
   {
    "duration": 481,
    "start_time": "2022-10-23T11:33:32.723Z"
   },
   {
    "duration": 456,
    "start_time": "2022-10-23T11:33:33.205Z"
   },
   {
    "duration": 4,
    "start_time": "2022-10-23T11:33:33.663Z"
   },
   {
    "duration": 458,
    "start_time": "2022-10-23T11:33:33.668Z"
   },
   {
    "duration": 7,
    "start_time": "2022-10-23T11:33:34.128Z"
   },
   {
    "duration": 17,
    "start_time": "2022-10-23T11:33:34.137Z"
   },
   {
    "duration": 6,
    "start_time": "2022-10-23T11:33:34.158Z"
   },
   {
    "duration": 6,
    "start_time": "2022-10-23T11:33:34.166Z"
   },
   {
    "duration": 12,
    "start_time": "2022-10-23T11:33:34.173Z"
   },
   {
    "duration": 10,
    "start_time": "2022-10-23T11:33:34.187Z"
   },
   {
    "duration": 12,
    "start_time": "2022-10-23T11:33:34.199Z"
   },
   {
    "duration": 50,
    "start_time": "2022-10-23T11:37:06.980Z"
   },
   {
    "duration": 46,
    "start_time": "2022-10-23T11:37:21.903Z"
   },
   {
    "duration": 117,
    "start_time": "2022-10-23T11:39:18.651Z"
   },
   {
    "duration": 5,
    "start_time": "2022-10-23T11:39:36.191Z"
   },
   {
    "duration": 5,
    "start_time": "2022-10-23T11:39:47.371Z"
   },
   {
    "duration": 4,
    "start_time": "2022-10-23T11:40:39.387Z"
   },
   {
    "duration": 1081,
    "start_time": "2022-10-23T11:41:28.975Z"
   },
   {
    "duration": 40,
    "start_time": "2022-10-23T11:41:30.058Z"
   },
   {
    "duration": 14,
    "start_time": "2022-10-23T11:41:30.100Z"
   },
   {
    "duration": 43,
    "start_time": "2022-10-23T11:41:30.117Z"
   },
   {
    "duration": 28,
    "start_time": "2022-10-23T11:41:30.161Z"
   },
   {
    "duration": 623,
    "start_time": "2022-10-23T11:41:30.190Z"
   },
   {
    "duration": 4,
    "start_time": "2022-10-23T11:41:30.815Z"
   },
   {
    "duration": 89,
    "start_time": "2022-10-23T11:41:30.821Z"
   },
   {
    "duration": 5,
    "start_time": "2022-10-23T11:41:30.912Z"
   },
   {
    "duration": 11,
    "start_time": "2022-10-23T11:41:30.920Z"
   },
   {
    "duration": 13,
    "start_time": "2022-10-23T11:41:30.933Z"
   },
   {
    "duration": 29,
    "start_time": "2022-10-23T11:41:30.947Z"
   },
   {
    "duration": 13,
    "start_time": "2022-10-23T11:41:30.978Z"
   },
   {
    "duration": 9,
    "start_time": "2022-10-23T11:41:30.993Z"
   },
   {
    "duration": 25,
    "start_time": "2022-10-23T11:41:31.004Z"
   },
   {
    "duration": 25,
    "start_time": "2022-10-23T11:41:31.031Z"
   },
   {
    "duration": 186,
    "start_time": "2022-10-23T11:41:31.057Z"
   },
   {
    "duration": 13,
    "start_time": "2022-10-23T11:41:31.244Z"
   },
   {
    "duration": 36,
    "start_time": "2022-10-23T11:41:31.259Z"
   },
   {
    "duration": 12,
    "start_time": "2022-10-23T11:41:31.297Z"
   },
   {
    "duration": 336,
    "start_time": "2022-10-23T11:41:31.311Z"
   },
   {
    "duration": 856,
    "start_time": "2022-10-23T11:41:31.649Z"
   },
   {
    "duration": 16,
    "start_time": "2022-10-23T11:41:32.506Z"
   },
   {
    "duration": 407,
    "start_time": "2022-10-23T11:41:32.524Z"
   },
   {
    "duration": 148,
    "start_time": "2022-10-23T11:41:32.932Z"
   },
   {
    "duration": 4,
    "start_time": "2022-10-23T11:41:33.082Z"
   },
   {
    "duration": 11,
    "start_time": "2022-10-23T11:41:33.087Z"
   },
   {
    "duration": 173,
    "start_time": "2022-10-23T11:41:33.101Z"
   },
   {
    "duration": 180,
    "start_time": "2022-10-23T11:41:33.275Z"
   },
   {
    "duration": 2404,
    "start_time": "2022-10-23T11:41:33.456Z"
   },
   {
    "duration": 271,
    "start_time": "2022-10-23T11:41:35.862Z"
   },
   {
    "duration": 208,
    "start_time": "2022-10-23T11:41:36.135Z"
   },
   {
    "duration": 9,
    "start_time": "2022-10-23T11:41:36.345Z"
   },
   {
    "duration": 548,
    "start_time": "2022-10-23T11:41:36.356Z"
   },
   {
    "duration": 454,
    "start_time": "2022-10-23T11:41:36.906Z"
   },
   {
    "duration": 445,
    "start_time": "2022-10-23T11:41:37.362Z"
   },
   {
    "duration": 5,
    "start_time": "2022-10-23T11:41:37.809Z"
   },
   {
    "duration": 446,
    "start_time": "2022-10-23T11:41:37.815Z"
   },
   {
    "duration": 6,
    "start_time": "2022-10-23T11:41:38.263Z"
   },
   {
    "duration": 6,
    "start_time": "2022-10-23T11:41:38.271Z"
   },
   {
    "duration": 8,
    "start_time": "2022-10-23T11:41:38.278Z"
   },
   {
    "duration": 6,
    "start_time": "2022-10-23T11:41:38.287Z"
   },
   {
    "duration": 9,
    "start_time": "2022-10-23T11:41:38.295Z"
   },
   {
    "duration": 8,
    "start_time": "2022-10-23T11:41:38.305Z"
   },
   {
    "duration": 5,
    "start_time": "2022-10-23T11:41:38.314Z"
   },
   {
    "duration": 7,
    "start_time": "2022-10-23T11:41:38.321Z"
   },
   {
    "duration": 26,
    "start_time": "2022-10-23T11:41:38.329Z"
   },
   {
    "duration": 1227,
    "start_time": "2022-10-23T11:47:17.237Z"
   },
   {
    "duration": 42,
    "start_time": "2022-10-23T11:47:18.466Z"
   },
   {
    "duration": 16,
    "start_time": "2022-10-23T11:47:18.510Z"
   },
   {
    "duration": 29,
    "start_time": "2022-10-23T11:47:18.528Z"
   },
   {
    "duration": 29,
    "start_time": "2022-10-23T11:47:18.560Z"
   },
   {
    "duration": 646,
    "start_time": "2022-10-23T11:47:18.591Z"
   },
   {
    "duration": 4,
    "start_time": "2022-10-23T11:47:19.238Z"
   },
   {
    "duration": 61,
    "start_time": "2022-10-23T11:47:19.244Z"
   },
   {
    "duration": 5,
    "start_time": "2022-10-23T11:47:19.307Z"
   },
   {
    "duration": 6,
    "start_time": "2022-10-23T11:47:19.314Z"
   },
   {
    "duration": 6,
    "start_time": "2022-10-23T11:47:19.321Z"
   },
   {
    "duration": 25,
    "start_time": "2022-10-23T11:47:19.329Z"
   },
   {
    "duration": 7,
    "start_time": "2022-10-23T11:47:19.356Z"
   },
   {
    "duration": 13,
    "start_time": "2022-10-23T11:47:19.366Z"
   },
   {
    "duration": 7,
    "start_time": "2022-10-23T11:47:19.381Z"
   },
   {
    "duration": 12,
    "start_time": "2022-10-23T11:47:19.390Z"
   },
   {
    "duration": 190,
    "start_time": "2022-10-23T11:47:19.403Z"
   },
   {
    "duration": 7,
    "start_time": "2022-10-23T11:47:19.595Z"
   },
   {
    "duration": 19,
    "start_time": "2022-10-23T11:47:19.603Z"
   },
   {
    "duration": 3,
    "start_time": "2022-10-23T11:47:19.624Z"
   },
   {
    "duration": 292,
    "start_time": "2022-10-23T11:47:19.629Z"
   },
   {
    "duration": 834,
    "start_time": "2022-10-23T11:47:19.923Z"
   },
   {
    "duration": 16,
    "start_time": "2022-10-23T11:47:20.759Z"
   },
   {
    "duration": 480,
    "start_time": "2022-10-23T11:47:20.777Z"
   },
   {
    "duration": 185,
    "start_time": "2022-10-23T11:47:21.260Z"
   },
   {
    "duration": 8,
    "start_time": "2022-10-23T11:47:21.453Z"
   },
   {
    "duration": 20,
    "start_time": "2022-10-23T11:47:21.463Z"
   },
   {
    "duration": 260,
    "start_time": "2022-10-23T11:47:21.486Z"
   },
   {
    "duration": 197,
    "start_time": "2022-10-23T11:47:21.754Z"
   },
   {
    "duration": 2581,
    "start_time": "2022-10-23T11:47:21.952Z"
   },
   {
    "duration": 274,
    "start_time": "2022-10-23T11:47:24.535Z"
   },
   {
    "duration": 206,
    "start_time": "2022-10-23T11:47:24.810Z"
   },
   {
    "duration": 4,
    "start_time": "2022-10-23T11:47:25.018Z"
   },
   {
    "duration": 577,
    "start_time": "2022-10-23T11:47:25.024Z"
   },
   {
    "duration": 459,
    "start_time": "2022-10-23T11:47:25.603Z"
   },
   {
    "duration": 459,
    "start_time": "2022-10-23T11:47:26.064Z"
   },
   {
    "duration": 5,
    "start_time": "2022-10-23T11:47:26.525Z"
   },
   {
    "duration": 452,
    "start_time": "2022-10-23T11:47:26.532Z"
   },
   {
    "duration": 8,
    "start_time": "2022-10-23T11:47:26.985Z"
   },
   {
    "duration": 11,
    "start_time": "2022-10-23T11:47:26.994Z"
   },
   {
    "duration": 7,
    "start_time": "2022-10-23T11:47:27.008Z"
   },
   {
    "duration": 6,
    "start_time": "2022-10-23T11:47:27.017Z"
   },
   {
    "duration": 9,
    "start_time": "2022-10-23T11:47:27.024Z"
   },
   {
    "duration": 21,
    "start_time": "2022-10-23T11:47:27.035Z"
   },
   {
    "duration": 3,
    "start_time": "2022-10-23T11:47:27.058Z"
   },
   {
    "duration": 7,
    "start_time": "2022-10-23T11:47:27.062Z"
   },
   {
    "duration": 7,
    "start_time": "2022-10-23T11:47:27.071Z"
   },
   {
    "duration": 48,
    "start_time": "2022-10-23T11:54:49.015Z"
   }
  ],
  "kernelspec": {
   "display_name": "Python 3 (ipykernel)",
   "language": "python",
   "name": "python3"
  },
  "language_info": {
   "codemirror_mode": {
    "name": "ipython",
    "version": 3
   },
   "file_extension": ".py",
   "mimetype": "text/x-python",
   "name": "python",
   "nbconvert_exporter": "python",
   "pygments_lexer": "ipython3",
   "version": "3.9.13"
  },
  "toc": {
   "base_numbering": 1,
   "nav_menu": {
    "height": "416px",
    "width": "280px"
   },
   "number_sections": true,
   "sideBar": true,
   "skip_h1_title": true,
   "title_cell": "Сборный Проект",
   "title_sidebar": "Сборный Проект",
   "toc_cell": true,
   "toc_position": {
    "height": "calc(100% - 180px)",
    "left": "10px",
    "top": "150px",
    "width": "289.438px"
   },
   "toc_section_display": true,
   "toc_window_display": true
  }
 },
 "nbformat": 4,
 "nbformat_minor": 2
}
