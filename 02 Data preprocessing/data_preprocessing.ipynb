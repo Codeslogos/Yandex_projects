{
 "cells": [
  {
   "cell_type": "markdown",
   "id": "4460c075",
   "metadata": {
    "deletable": false,
    "editable": false,
    "id": "c81daeeb"
   },
   "source": [
    "# Исследование надежности заемщиков\n"
   ]
  },
  {
   "cell_type": "markdown",
   "id": "18c5a314",
   "metadata": {
    "deletable": false,
    "editable": false,
    "id": "827c20bf"
   },
   "source": [
    "Во второй части проекта вы выполните шаги 3 и 4. Их вручную проверит ревьюер.\n",
    "Чтобы вам не пришлось писать код заново для шагов 1 и 2, мы добавили авторские решения в ячейки с кодом. \n",
    "\n"
   ]
  },
  {
   "cell_type": "markdown",
   "id": "2409b704",
   "metadata": {
    "deletable": false,
    "editable": false,
    "id": "744d7639"
   },
   "source": [
    "## Откройте таблицу и изучите общую информацию о данных"
   ]
  },
  {
   "cell_type": "markdown",
   "id": "45b88b96",
   "metadata": {
    "deletable": false,
    "editable": false,
    "id": "e7a14c31"
   },
   "source": [
    "**Задание 1. Импортируйте библиотеку pandas. Считайте данные из csv-файла в датафрейм и сохраните в переменную `data`. Путь к файлу:**\n",
    "\n",
    "`/datasets/data.csv`"
   ]
  },
  {
   "cell_type": "code",
   "execution_count": 1,
   "id": "bd311a3d",
   "metadata": {
    "deletable": false,
    "id": "7bcf75c9"
   },
   "outputs": [],
   "source": [
    "import pandas as pd\n",
    "\n",
    "try:\n",
    "    data = pd.read_csv('/datasets/data.csv')\n",
    "except:\n",
    "    data = pd.read_csv('https://code.s3.yandex.net/datasets/data.csv')"
   ]
  },
  {
   "cell_type": "markdown",
   "id": "36175cb2",
   "metadata": {
    "deletable": false,
    "editable": false,
    "id": "b8038fe3"
   },
   "source": [
    "**Задание 2. Выведите первые 20 строчек датафрейма `data` на экран.**"
   ]
  },
  {
   "cell_type": "code",
   "execution_count": 2,
   "id": "0b577bf3",
   "metadata": {
    "deletable": false,
    "id": "2a7cab99",
    "outputId": "1a8f3ef2-d323-4ec2-ddf7-89670b5944c4"
   },
   "outputs": [
    {
     "data": {
      "text/html": [
       "<div>\n",
       "<style scoped>\n",
       "    .dataframe tbody tr th:only-of-type {\n",
       "        vertical-align: middle;\n",
       "    }\n",
       "\n",
       "    .dataframe tbody tr th {\n",
       "        vertical-align: top;\n",
       "    }\n",
       "\n",
       "    .dataframe thead th {\n",
       "        text-align: right;\n",
       "    }\n",
       "</style>\n",
       "<table border=\"1\" class=\"dataframe\">\n",
       "  <thead>\n",
       "    <tr style=\"text-align: right;\">\n",
       "      <th></th>\n",
       "      <th>children</th>\n",
       "      <th>days_employed</th>\n",
       "      <th>dob_years</th>\n",
       "      <th>education</th>\n",
       "      <th>education_id</th>\n",
       "      <th>family_status</th>\n",
       "      <th>family_status_id</th>\n",
       "      <th>gender</th>\n",
       "      <th>income_type</th>\n",
       "      <th>debt</th>\n",
       "      <th>total_income</th>\n",
       "      <th>purpose</th>\n",
       "    </tr>\n",
       "  </thead>\n",
       "  <tbody>\n",
       "    <tr>\n",
       "      <th>0</th>\n",
       "      <td>1</td>\n",
       "      <td>-8437.673028</td>\n",
       "      <td>42</td>\n",
       "      <td>высшее</td>\n",
       "      <td>0</td>\n",
       "      <td>женат / замужем</td>\n",
       "      <td>0</td>\n",
       "      <td>F</td>\n",
       "      <td>сотрудник</td>\n",
       "      <td>0</td>\n",
       "      <td>253875.639453</td>\n",
       "      <td>покупка жилья</td>\n",
       "    </tr>\n",
       "    <tr>\n",
       "      <th>1</th>\n",
       "      <td>1</td>\n",
       "      <td>-4024.803754</td>\n",
       "      <td>36</td>\n",
       "      <td>среднее</td>\n",
       "      <td>1</td>\n",
       "      <td>женат / замужем</td>\n",
       "      <td>0</td>\n",
       "      <td>F</td>\n",
       "      <td>сотрудник</td>\n",
       "      <td>0</td>\n",
       "      <td>112080.014102</td>\n",
       "      <td>приобретение автомобиля</td>\n",
       "    </tr>\n",
       "    <tr>\n",
       "      <th>2</th>\n",
       "      <td>0</td>\n",
       "      <td>-5623.422610</td>\n",
       "      <td>33</td>\n",
       "      <td>Среднее</td>\n",
       "      <td>1</td>\n",
       "      <td>женат / замужем</td>\n",
       "      <td>0</td>\n",
       "      <td>M</td>\n",
       "      <td>сотрудник</td>\n",
       "      <td>0</td>\n",
       "      <td>145885.952297</td>\n",
       "      <td>покупка жилья</td>\n",
       "    </tr>\n",
       "    <tr>\n",
       "      <th>3</th>\n",
       "      <td>3</td>\n",
       "      <td>-4124.747207</td>\n",
       "      <td>32</td>\n",
       "      <td>среднее</td>\n",
       "      <td>1</td>\n",
       "      <td>женат / замужем</td>\n",
       "      <td>0</td>\n",
       "      <td>M</td>\n",
       "      <td>сотрудник</td>\n",
       "      <td>0</td>\n",
       "      <td>267628.550329</td>\n",
       "      <td>дополнительное образование</td>\n",
       "    </tr>\n",
       "    <tr>\n",
       "      <th>4</th>\n",
       "      <td>0</td>\n",
       "      <td>340266.072047</td>\n",
       "      <td>53</td>\n",
       "      <td>среднее</td>\n",
       "      <td>1</td>\n",
       "      <td>гражданский брак</td>\n",
       "      <td>1</td>\n",
       "      <td>F</td>\n",
       "      <td>пенсионер</td>\n",
       "      <td>0</td>\n",
       "      <td>158616.077870</td>\n",
       "      <td>сыграть свадьбу</td>\n",
       "    </tr>\n",
       "    <tr>\n",
       "      <th>5</th>\n",
       "      <td>0</td>\n",
       "      <td>-926.185831</td>\n",
       "      <td>27</td>\n",
       "      <td>высшее</td>\n",
       "      <td>0</td>\n",
       "      <td>гражданский брак</td>\n",
       "      <td>1</td>\n",
       "      <td>M</td>\n",
       "      <td>компаньон</td>\n",
       "      <td>0</td>\n",
       "      <td>255763.565419</td>\n",
       "      <td>покупка жилья</td>\n",
       "    </tr>\n",
       "    <tr>\n",
       "      <th>6</th>\n",
       "      <td>0</td>\n",
       "      <td>-2879.202052</td>\n",
       "      <td>43</td>\n",
       "      <td>высшее</td>\n",
       "      <td>0</td>\n",
       "      <td>женат / замужем</td>\n",
       "      <td>0</td>\n",
       "      <td>F</td>\n",
       "      <td>компаньон</td>\n",
       "      <td>0</td>\n",
       "      <td>240525.971920</td>\n",
       "      <td>операции с жильем</td>\n",
       "    </tr>\n",
       "    <tr>\n",
       "      <th>7</th>\n",
       "      <td>0</td>\n",
       "      <td>-152.779569</td>\n",
       "      <td>50</td>\n",
       "      <td>СРЕДНЕЕ</td>\n",
       "      <td>1</td>\n",
       "      <td>женат / замужем</td>\n",
       "      <td>0</td>\n",
       "      <td>M</td>\n",
       "      <td>сотрудник</td>\n",
       "      <td>0</td>\n",
       "      <td>135823.934197</td>\n",
       "      <td>образование</td>\n",
       "    </tr>\n",
       "    <tr>\n",
       "      <th>8</th>\n",
       "      <td>2</td>\n",
       "      <td>-6929.865299</td>\n",
       "      <td>35</td>\n",
       "      <td>ВЫСШЕЕ</td>\n",
       "      <td>0</td>\n",
       "      <td>гражданский брак</td>\n",
       "      <td>1</td>\n",
       "      <td>F</td>\n",
       "      <td>сотрудник</td>\n",
       "      <td>0</td>\n",
       "      <td>95856.832424</td>\n",
       "      <td>на проведение свадьбы</td>\n",
       "    </tr>\n",
       "    <tr>\n",
       "      <th>9</th>\n",
       "      <td>0</td>\n",
       "      <td>-2188.756445</td>\n",
       "      <td>41</td>\n",
       "      <td>среднее</td>\n",
       "      <td>1</td>\n",
       "      <td>женат / замужем</td>\n",
       "      <td>0</td>\n",
       "      <td>M</td>\n",
       "      <td>сотрудник</td>\n",
       "      <td>0</td>\n",
       "      <td>144425.938277</td>\n",
       "      <td>покупка жилья для семьи</td>\n",
       "    </tr>\n",
       "    <tr>\n",
       "      <th>10</th>\n",
       "      <td>2</td>\n",
       "      <td>-4171.483647</td>\n",
       "      <td>36</td>\n",
       "      <td>высшее</td>\n",
       "      <td>0</td>\n",
       "      <td>женат / замужем</td>\n",
       "      <td>0</td>\n",
       "      <td>M</td>\n",
       "      <td>компаньон</td>\n",
       "      <td>0</td>\n",
       "      <td>113943.491460</td>\n",
       "      <td>покупка недвижимости</td>\n",
       "    </tr>\n",
       "    <tr>\n",
       "      <th>11</th>\n",
       "      <td>0</td>\n",
       "      <td>-792.701887</td>\n",
       "      <td>40</td>\n",
       "      <td>среднее</td>\n",
       "      <td>1</td>\n",
       "      <td>женат / замужем</td>\n",
       "      <td>0</td>\n",
       "      <td>F</td>\n",
       "      <td>сотрудник</td>\n",
       "      <td>0</td>\n",
       "      <td>77069.234271</td>\n",
       "      <td>покупка коммерческой недвижимости</td>\n",
       "    </tr>\n",
       "    <tr>\n",
       "      <th>12</th>\n",
       "      <td>0</td>\n",
       "      <td>NaN</td>\n",
       "      <td>65</td>\n",
       "      <td>среднее</td>\n",
       "      <td>1</td>\n",
       "      <td>гражданский брак</td>\n",
       "      <td>1</td>\n",
       "      <td>M</td>\n",
       "      <td>пенсионер</td>\n",
       "      <td>0</td>\n",
       "      <td>NaN</td>\n",
       "      <td>сыграть свадьбу</td>\n",
       "    </tr>\n",
       "    <tr>\n",
       "      <th>13</th>\n",
       "      <td>0</td>\n",
       "      <td>-1846.641941</td>\n",
       "      <td>54</td>\n",
       "      <td>неоконченное высшее</td>\n",
       "      <td>2</td>\n",
       "      <td>женат / замужем</td>\n",
       "      <td>0</td>\n",
       "      <td>F</td>\n",
       "      <td>сотрудник</td>\n",
       "      <td>0</td>\n",
       "      <td>130458.228857</td>\n",
       "      <td>приобретение автомобиля</td>\n",
       "    </tr>\n",
       "    <tr>\n",
       "      <th>14</th>\n",
       "      <td>0</td>\n",
       "      <td>-1844.956182</td>\n",
       "      <td>56</td>\n",
       "      <td>высшее</td>\n",
       "      <td>0</td>\n",
       "      <td>гражданский брак</td>\n",
       "      <td>1</td>\n",
       "      <td>F</td>\n",
       "      <td>компаньон</td>\n",
       "      <td>1</td>\n",
       "      <td>165127.911772</td>\n",
       "      <td>покупка жилой недвижимости</td>\n",
       "    </tr>\n",
       "    <tr>\n",
       "      <th>15</th>\n",
       "      <td>1</td>\n",
       "      <td>-972.364419</td>\n",
       "      <td>26</td>\n",
       "      <td>среднее</td>\n",
       "      <td>1</td>\n",
       "      <td>женат / замужем</td>\n",
       "      <td>0</td>\n",
       "      <td>F</td>\n",
       "      <td>сотрудник</td>\n",
       "      <td>0</td>\n",
       "      <td>116820.904450</td>\n",
       "      <td>строительство собственной недвижимости</td>\n",
       "    </tr>\n",
       "    <tr>\n",
       "      <th>16</th>\n",
       "      <td>0</td>\n",
       "      <td>-1719.934226</td>\n",
       "      <td>35</td>\n",
       "      <td>среднее</td>\n",
       "      <td>1</td>\n",
       "      <td>женат / замужем</td>\n",
       "      <td>0</td>\n",
       "      <td>F</td>\n",
       "      <td>сотрудник</td>\n",
       "      <td>0</td>\n",
       "      <td>289202.704229</td>\n",
       "      <td>недвижимость</td>\n",
       "    </tr>\n",
       "    <tr>\n",
       "      <th>17</th>\n",
       "      <td>0</td>\n",
       "      <td>-2369.999720</td>\n",
       "      <td>33</td>\n",
       "      <td>высшее</td>\n",
       "      <td>0</td>\n",
       "      <td>гражданский брак</td>\n",
       "      <td>1</td>\n",
       "      <td>M</td>\n",
       "      <td>сотрудник</td>\n",
       "      <td>0</td>\n",
       "      <td>90410.586745</td>\n",
       "      <td>строительство недвижимости</td>\n",
       "    </tr>\n",
       "    <tr>\n",
       "      <th>18</th>\n",
       "      <td>0</td>\n",
       "      <td>400281.136913</td>\n",
       "      <td>53</td>\n",
       "      <td>среднее</td>\n",
       "      <td>1</td>\n",
       "      <td>вдовец / вдова</td>\n",
       "      <td>2</td>\n",
       "      <td>F</td>\n",
       "      <td>пенсионер</td>\n",
       "      <td>0</td>\n",
       "      <td>56823.777243</td>\n",
       "      <td>на покупку подержанного автомобиля</td>\n",
       "    </tr>\n",
       "    <tr>\n",
       "      <th>19</th>\n",
       "      <td>0</td>\n",
       "      <td>-10038.818549</td>\n",
       "      <td>48</td>\n",
       "      <td>СРЕДНЕЕ</td>\n",
       "      <td>1</td>\n",
       "      <td>в разводе</td>\n",
       "      <td>3</td>\n",
       "      <td>F</td>\n",
       "      <td>сотрудник</td>\n",
       "      <td>0</td>\n",
       "      <td>242831.107982</td>\n",
       "      <td>на покупку своего автомобиля</td>\n",
       "    </tr>\n",
       "  </tbody>\n",
       "</table>\n",
       "</div>"
      ],
      "text/plain": [
       "    children  days_employed  dob_years            education  education_id  \\\n",
       "0          1   -8437.673028         42               высшее             0   \n",
       "1          1   -4024.803754         36              среднее             1   \n",
       "2          0   -5623.422610         33              Среднее             1   \n",
       "3          3   -4124.747207         32              среднее             1   \n",
       "4          0  340266.072047         53              среднее             1   \n",
       "5          0    -926.185831         27               высшее             0   \n",
       "6          0   -2879.202052         43               высшее             0   \n",
       "7          0    -152.779569         50              СРЕДНЕЕ             1   \n",
       "8          2   -6929.865299         35               ВЫСШЕЕ             0   \n",
       "9          0   -2188.756445         41              среднее             1   \n",
       "10         2   -4171.483647         36               высшее             0   \n",
       "11         0    -792.701887         40              среднее             1   \n",
       "12         0            NaN         65              среднее             1   \n",
       "13         0   -1846.641941         54  неоконченное высшее             2   \n",
       "14         0   -1844.956182         56               высшее             0   \n",
       "15         1    -972.364419         26              среднее             1   \n",
       "16         0   -1719.934226         35              среднее             1   \n",
       "17         0   -2369.999720         33               высшее             0   \n",
       "18         0  400281.136913         53              среднее             1   \n",
       "19         0  -10038.818549         48              СРЕДНЕЕ             1   \n",
       "\n",
       "       family_status  family_status_id gender income_type  debt  \\\n",
       "0    женат / замужем                 0      F   сотрудник     0   \n",
       "1    женат / замужем                 0      F   сотрудник     0   \n",
       "2    женат / замужем                 0      M   сотрудник     0   \n",
       "3    женат / замужем                 0      M   сотрудник     0   \n",
       "4   гражданский брак                 1      F   пенсионер     0   \n",
       "5   гражданский брак                 1      M   компаньон     0   \n",
       "6    женат / замужем                 0      F   компаньон     0   \n",
       "7    женат / замужем                 0      M   сотрудник     0   \n",
       "8   гражданский брак                 1      F   сотрудник     0   \n",
       "9    женат / замужем                 0      M   сотрудник     0   \n",
       "10   женат / замужем                 0      M   компаньон     0   \n",
       "11   женат / замужем                 0      F   сотрудник     0   \n",
       "12  гражданский брак                 1      M   пенсионер     0   \n",
       "13   женат / замужем                 0      F   сотрудник     0   \n",
       "14  гражданский брак                 1      F   компаньон     1   \n",
       "15   женат / замужем                 0      F   сотрудник     0   \n",
       "16   женат / замужем                 0      F   сотрудник     0   \n",
       "17  гражданский брак                 1      M   сотрудник     0   \n",
       "18    вдовец / вдова                 2      F   пенсионер     0   \n",
       "19         в разводе                 3      F   сотрудник     0   \n",
       "\n",
       "     total_income                                 purpose  \n",
       "0   253875.639453                           покупка жилья  \n",
       "1   112080.014102                 приобретение автомобиля  \n",
       "2   145885.952297                           покупка жилья  \n",
       "3   267628.550329              дополнительное образование  \n",
       "4   158616.077870                         сыграть свадьбу  \n",
       "5   255763.565419                           покупка жилья  \n",
       "6   240525.971920                       операции с жильем  \n",
       "7   135823.934197                             образование  \n",
       "8    95856.832424                   на проведение свадьбы  \n",
       "9   144425.938277                 покупка жилья для семьи  \n",
       "10  113943.491460                    покупка недвижимости  \n",
       "11   77069.234271       покупка коммерческой недвижимости  \n",
       "12            NaN                         сыграть свадьбу  \n",
       "13  130458.228857                 приобретение автомобиля  \n",
       "14  165127.911772              покупка жилой недвижимости  \n",
       "15  116820.904450  строительство собственной недвижимости  \n",
       "16  289202.704229                            недвижимость  \n",
       "17   90410.586745              строительство недвижимости  \n",
       "18   56823.777243      на покупку подержанного автомобиля  \n",
       "19  242831.107982            на покупку своего автомобиля  "
      ]
     },
     "execution_count": 2,
     "metadata": {},
     "output_type": "execute_result"
    }
   ],
   "source": [
    "data.head(20)"
   ]
  },
  {
   "cell_type": "markdown",
   "id": "e30bbaf7",
   "metadata": {
    "deletable": false,
    "editable": false,
    "id": "1c12e233"
   },
   "source": [
    "**Задание 3. Выведите основную информацию о датафрейме с помощью метода `info()`.**"
   ]
  },
  {
   "cell_type": "code",
   "execution_count": 3,
   "id": "298dda44",
   "metadata": {
    "deletable": false,
    "id": "2b757bca",
    "outputId": "15376089-8dad-46c9-b520-c05248d43158"
   },
   "outputs": [
    {
     "name": "stdout",
     "output_type": "stream",
     "text": [
      "<class 'pandas.core.frame.DataFrame'>\n",
      "RangeIndex: 21525 entries, 0 to 21524\n",
      "Data columns (total 12 columns):\n",
      " #   Column            Non-Null Count  Dtype  \n",
      "---  ------            --------------  -----  \n",
      " 0   children          21525 non-null  int64  \n",
      " 1   days_employed     19351 non-null  float64\n",
      " 2   dob_years         21525 non-null  int64  \n",
      " 3   education         21525 non-null  object \n",
      " 4   education_id      21525 non-null  int64  \n",
      " 5   family_status     21525 non-null  object \n",
      " 6   family_status_id  21525 non-null  int64  \n",
      " 7   gender            21525 non-null  object \n",
      " 8   income_type       21525 non-null  object \n",
      " 9   debt              21525 non-null  int64  \n",
      " 10  total_income      19351 non-null  float64\n",
      " 11  purpose           21525 non-null  object \n",
      "dtypes: float64(2), int64(5), object(5)\n",
      "memory usage: 2.0+ MB\n"
     ]
    }
   ],
   "source": [
    "data.info()"
   ]
  },
  {
   "cell_type": "markdown",
   "id": "61f284ae",
   "metadata": {
    "deletable": false,
    "editable": false,
    "id": "333ec665"
   },
   "source": [
    "## Предобработка данных"
   ]
  },
  {
   "cell_type": "markdown",
   "id": "1f7295ee",
   "metadata": {
    "deletable": false,
    "editable": false,
    "id": "02d92d53"
   },
   "source": [
    "### Удаление пропусков"
   ]
  },
  {
   "cell_type": "markdown",
   "id": "994fe4a6",
   "metadata": {
    "deletable": false,
    "editable": false,
    "id": "cd84967c"
   },
   "source": [
    "**Задание 4. Выведите количество пропущенных значений для каждого столбца. Используйте комбинацию двух методов.**"
   ]
  },
  {
   "cell_type": "code",
   "execution_count": 4,
   "id": "11665892",
   "metadata": {
    "deletable": false,
    "id": "7f9b2309",
    "outputId": "81f4d817-781c-465c-ed15-91ce4446810d"
   },
   "outputs": [
    {
     "data": {
      "text/plain": [
       "children               0\n",
       "days_employed       2174\n",
       "dob_years              0\n",
       "education              0\n",
       "education_id           0\n",
       "family_status          0\n",
       "family_status_id       0\n",
       "gender                 0\n",
       "income_type            0\n",
       "debt                   0\n",
       "total_income        2174\n",
       "purpose                0\n",
       "dtype: int64"
      ]
     },
     "execution_count": 4,
     "metadata": {},
     "output_type": "execute_result"
    }
   ],
   "source": [
    "data.isna().sum()"
   ]
  },
  {
   "cell_type": "markdown",
   "id": "3f6272e7",
   "metadata": {
    "deletable": false,
    "editable": false,
    "id": "db86e27b"
   },
   "source": [
    "**Задание 5. В двух столбцах есть пропущенные значения. Один из них — `days_employed`. Пропуски в этом столбце вы обработаете на следующем этапе. Другой столбец с пропущенными значениями — `total_income` — хранит данные о доходах. На сумму дохода сильнее всего влияет тип занятости, поэтому заполнить пропуски в этом столбце нужно медианным значением по каждому типу из столбца `income_type`. Например, у человека с типом занятости `сотрудник` пропуск в столбце `total_income` должен быть заполнен медианным доходом среди всех записей с тем же типом.**"
   ]
  },
  {
   "cell_type": "code",
   "execution_count": 5,
   "id": "5cc8675e",
   "metadata": {
    "deletable": false,
    "id": "42006a93"
   },
   "outputs": [],
   "source": [
    "for t in data['income_type'].unique():\n",
    "    data.loc[(data['income_type'] == t) & (data['total_income'].isna()), 'total_income'] = \\\n",
    "    data.loc[(data['income_type'] == t), 'total_income'].median()"
   ]
  },
  {
   "cell_type": "markdown",
   "id": "4d429e86",
   "metadata": {
    "deletable": false,
    "editable": false,
    "id": "89da5ece"
   },
   "source": [
    "### Обработка аномальных значений"
   ]
  },
  {
   "cell_type": "markdown",
   "id": "ed3fb6a7",
   "metadata": {
    "deletable": false,
    "editable": false,
    "id": "57964554"
   },
   "source": [
    "**Задание 6. В данных могут встречаться артефакты (аномалии) — значения, которые не отражают действительность и появились по какой-то ошибке. таким артефактом будет отрицательное количество дней трудового стажа в столбце `days_employed`. Для реальных данных это нормально. Обработайте значения в этом столбце: замените все отрицательные значения положительными с помощью метода `abs()`.**"
   ]
  },
  {
   "cell_type": "code",
   "execution_count": 6,
   "id": "f281a8a9",
   "metadata": {
    "deletable": false,
    "id": "f6f055bf"
   },
   "outputs": [],
   "source": [
    "data['days_employed'] = data['days_employed'].abs()"
   ]
  },
  {
   "cell_type": "markdown",
   "id": "b5135ef1",
   "metadata": {
    "deletable": false,
    "editable": false,
    "id": "6107dd2f"
   },
   "source": [
    "**Задание 7. Для каждого типа занятости выведите медианное значение трудового стажа `days_employed` в днях.**"
   ]
  },
  {
   "cell_type": "code",
   "execution_count": 7,
   "id": "400e6bbf",
   "metadata": {
    "deletable": false,
    "id": "85a5faf6",
    "outputId": "801ef80e-522b-4668-f34e-565af7432bcf"
   },
   "outputs": [
    {
     "data": {
      "text/plain": [
       "income_type\n",
       "безработный        366413.652744\n",
       "в декрете            3296.759962\n",
       "госслужащий          2689.368353\n",
       "компаньон            1547.382223\n",
       "пенсионер          365213.306266\n",
       "предприниматель       520.848083\n",
       "сотрудник            1574.202821\n",
       "студент               578.751554\n",
       "Name: days_employed, dtype: float64"
      ]
     },
     "execution_count": 7,
     "metadata": {},
     "output_type": "execute_result"
    }
   ],
   "source": [
    "data.groupby('income_type')['days_employed'].agg('median')"
   ]
  },
  {
   "cell_type": "markdown",
   "id": "f5bb726e",
   "metadata": {
    "deletable": false,
    "editable": false,
    "id": "38d1a030"
   },
   "source": [
    "У двух типов (безработные и пенсионеры) получатся аномально большие значения. Исправить такие значения сложно, поэтому оставьте их как есть. Тем более этот столбец не понадобится вам для исследования."
   ]
  },
  {
   "cell_type": "markdown",
   "id": "c656ad17",
   "metadata": {
    "deletable": false,
    "editable": false,
    "id": "d8a9f147"
   },
   "source": [
    "**Задание 8. Выведите перечень уникальных значений столбца `children`.**"
   ]
  },
  {
   "cell_type": "code",
   "execution_count": 8,
   "id": "d4a44ba2",
   "metadata": {
    "deletable": false,
    "id": "ef5056eb",
    "outputId": "6975b15c-7f95-4697-d16d-a0c79b657b03"
   },
   "outputs": [
    {
     "data": {
      "text/plain": [
       "array([ 1,  0,  3,  2, -1,  4, 20,  5], dtype=int64)"
      ]
     },
     "execution_count": 8,
     "metadata": {},
     "output_type": "execute_result"
    }
   ],
   "source": [
    "data['children'].unique()"
   ]
  },
  {
   "cell_type": "markdown",
   "id": "9ed1c362",
   "metadata": {
    "deletable": false,
    "editable": false,
    "id": "40b9ebf2"
   },
   "source": [
    "**Задание 9. В столбце `children` есть два аномальных значения. Удалите строки, в которых встречаются такие аномальные значения из датафрейма `data`.**"
   ]
  },
  {
   "cell_type": "code",
   "execution_count": 9,
   "id": "71d50421",
   "metadata": {
    "deletable": false,
    "id": "3ff9801d"
   },
   "outputs": [],
   "source": [
    "data = data[(data['children'] != -1) & (data['children'] != 20)]"
   ]
  },
  {
   "cell_type": "markdown",
   "id": "0223f6b9",
   "metadata": {
    "deletable": false,
    "editable": false,
    "id": "bbc4d0ce"
   },
   "source": [
    "**Задание 10. Ещё раз выведите перечень уникальных значений столбца `children`, чтобы убедиться, что артефакты удалены.**"
   ]
  },
  {
   "cell_type": "code",
   "execution_count": 10,
   "id": "5000e3da",
   "metadata": {
    "deletable": false,
    "id": "ad4fa8b7",
    "outputId": "b2097101-d49d-44d9-901b-32a65c9463d1"
   },
   "outputs": [
    {
     "data": {
      "text/plain": [
       "array([1, 0, 3, 2, 4, 5], dtype=int64)"
      ]
     },
     "execution_count": 10,
     "metadata": {},
     "output_type": "execute_result"
    }
   ],
   "source": [
    "data['children'].unique()"
   ]
  },
  {
   "cell_type": "markdown",
   "id": "eb1109e0",
   "metadata": {
    "deletable": false,
    "editable": false,
    "id": "75440b63"
   },
   "source": [
    "### Удаление пропусков (продолжение)"
   ]
  },
  {
   "cell_type": "markdown",
   "id": "b553971d",
   "metadata": {
    "deletable": false,
    "editable": false,
    "id": "f4ea573f"
   },
   "source": [
    "**Задание 11. Заполните пропуски в столбце `days_employed` медианными значениями по каждого типа занятости `income_type`.**"
   ]
  },
  {
   "cell_type": "code",
   "execution_count": 11,
   "id": "420ec7eb",
   "metadata": {
    "deletable": false,
    "id": "af6b1a7e"
   },
   "outputs": [],
   "source": [
    "for t in data['income_type'].unique():\n",
    "    data.loc[(data['income_type'] == t) & (data['days_employed'].isna()), 'days_employed'] = \\\n",
    "    data.loc[(data['income_type'] == t), 'days_employed'].median()"
   ]
  },
  {
   "cell_type": "markdown",
   "id": "e164490d",
   "metadata": {
    "deletable": false,
    "editable": false,
    "id": "2753f40d"
   },
   "source": [
    "**Задание 12. Убедитесь, что все пропуски заполнены. Проверьте себя и ещё раз выведите количество пропущенных значений для каждого столбца с помощью двух методов.**"
   ]
  },
  {
   "cell_type": "code",
   "execution_count": 12,
   "id": "21a4fc8f",
   "metadata": {
    "deletable": false,
    "id": "55f78bc2",
    "outputId": "8da1e4e1-358e-4e87-98c9-f261bce0a7b2"
   },
   "outputs": [
    {
     "data": {
      "text/plain": [
       "children            0\n",
       "days_employed       0\n",
       "dob_years           0\n",
       "education           0\n",
       "education_id        0\n",
       "family_status       0\n",
       "family_status_id    0\n",
       "gender              0\n",
       "income_type         0\n",
       "debt                0\n",
       "total_income        0\n",
       "purpose             0\n",
       "dtype: int64"
      ]
     },
     "execution_count": 12,
     "metadata": {},
     "output_type": "execute_result"
    }
   ],
   "source": [
    "data.isna().sum()"
   ]
  },
  {
   "cell_type": "markdown",
   "id": "5c2fcc7d",
   "metadata": {
    "deletable": false,
    "editable": false,
    "id": "ddc81e43"
   },
   "source": [
    "### Изменение типов данных"
   ]
  },
  {
   "cell_type": "markdown",
   "id": "0c4cf016",
   "metadata": {
    "deletable": false,
    "editable": false,
    "id": "42d19d24"
   },
   "source": [
    "**Задание 13. Замените вещественный тип данных в столбце `total_income` на целочисленный с помощью метода `astype()`.**"
   ]
  },
  {
   "cell_type": "code",
   "execution_count": 13,
   "id": "29fce00c",
   "metadata": {
    "deletable": false,
    "id": "920b65ad"
   },
   "outputs": [],
   "source": [
    "data['total_income'] = data['total_income'].astype(int)"
   ]
  },
  {
   "cell_type": "markdown",
   "id": "a36b4baa",
   "metadata": {
    "deletable": false,
    "editable": false,
    "id": "80c420ba"
   },
   "source": [
    "### Обработка дубликатов"
   ]
  },
  {
   "cell_type": "markdown",
   "id": "d669afa6",
   "metadata": {
    "deletable": false,
    "editable": false
   },
   "source": [
    "**Задание 14. Обработайте неявные дубликаты в столбце `education`. В этом столбце есть одни и те же значения, но записанные по-разному: с использованием заглавных и строчных букв. Приведите их к нижнему регистру. Проверьте остальные столбцы.**"
   ]
  },
  {
   "cell_type": "code",
   "execution_count": 14,
   "id": "f1589a13",
   "metadata": {
    "deletable": false
   },
   "outputs": [],
   "source": [
    "data['education'] = data['education'].str.lower()"
   ]
  },
  {
   "cell_type": "markdown",
   "id": "3eeeef69",
   "metadata": {
    "deletable": false,
    "editable": false,
    "id": "dc587695"
   },
   "source": [
    "**Задание 15. Выведите на экран количество строк-дубликатов в данных. Если такие строки присутствуют, удалите их.**"
   ]
  },
  {
   "cell_type": "code",
   "execution_count": 15,
   "id": "6309498b",
   "metadata": {
    "deletable": false,
    "id": "3ee445e4",
    "outputId": "9684deba-1934-42d1-99e1-cda61740f822"
   },
   "outputs": [
    {
     "data": {
      "text/plain": [
       "71"
      ]
     },
     "execution_count": 15,
     "metadata": {},
     "output_type": "execute_result"
    }
   ],
   "source": [
    "data.duplicated().sum()"
   ]
  },
  {
   "cell_type": "code",
   "execution_count": 16,
   "id": "be19ac83",
   "metadata": {
    "deletable": false,
    "id": "8575fe05"
   },
   "outputs": [],
   "source": [
    "data = data.drop_duplicates()"
   ]
  },
  {
   "cell_type": "markdown",
   "id": "57ebc3ad",
   "metadata": {
    "deletable": false,
    "editable": false,
    "id": "9904cf55"
   },
   "source": [
    "### Категоризация данных"
   ]
  },
  {
   "cell_type": "markdown",
   "id": "276b6908",
   "metadata": {
    "deletable": false,
    "editable": false,
    "id": "72fcc8a2"
   },
   "source": [
    "**Задание 16. На основании диапазонов, указанных ниже, создайте в датафрейме `data` столбец `total_income_category` с категориями:**\n",
    "\n",
    "- 0–30000 — `'E'`;\n",
    "- 30001–50000 — `'D'`;\n",
    "- 50001–200000 — `'C'`;\n",
    "- 200001–1000000 — `'B'`;\n",
    "- 1000001 и выше — `'A'`.\n",
    "\n",
    "\n",
    "**Например, кредитополучателю с доходом 25000 нужно назначить категорию `'E'`, а клиенту, получающему 235000, — `'B'`. Используйте собственную функцию с именем `categorize_income()` и метод `apply()`.**"
   ]
  },
  {
   "cell_type": "code",
   "execution_count": 17,
   "id": "95102863",
   "metadata": {
    "deletable": false,
    "id": "e1771346"
   },
   "outputs": [],
   "source": [
    "def categorize_income(income):\n",
    "    try:\n",
    "        if 0 <= income <= 30000:\n",
    "            return 'E'\n",
    "        elif 30001 <= income <= 50000:\n",
    "            return 'D'\n",
    "        elif 50001 <= income <= 200000:\n",
    "            return 'C'\n",
    "        elif 200001 <= income <= 1000000:\n",
    "            return 'B'\n",
    "        elif income >= 1000001:\n",
    "            return 'A'\n",
    "    except:\n",
    "        pass"
   ]
  },
  {
   "cell_type": "code",
   "execution_count": 18,
   "id": "153a9912",
   "metadata": {
    "deletable": false,
    "id": "d5f3586d"
   },
   "outputs": [],
   "source": [
    "data['total_income_category'] = data['total_income'].apply(categorize_income)"
   ]
  },
  {
   "cell_type": "markdown",
   "id": "9656a152",
   "metadata": {
    "deletable": false,
    "editable": false,
    "id": "dde49b5c"
   },
   "source": [
    "**Задание 17. Выведите на экран перечень уникальных целей взятия кредита из столбца `purpose`.**"
   ]
  },
  {
   "cell_type": "code",
   "execution_count": 19,
   "id": "a87c58ef",
   "metadata": {
    "deletable": false,
    "id": "f67ce9b3",
    "outputId": "673c12d9-7d7e-4ae0-9812-c622c89dd244"
   },
   "outputs": [
    {
     "data": {
      "text/plain": [
       "array(['покупка жилья', 'приобретение автомобиля',\n",
       "       'дополнительное образование', 'сыграть свадьбу',\n",
       "       'операции с жильем', 'образование', 'на проведение свадьбы',\n",
       "       'покупка жилья для семьи', 'покупка недвижимости',\n",
       "       'покупка коммерческой недвижимости', 'покупка жилой недвижимости',\n",
       "       'строительство собственной недвижимости', 'недвижимость',\n",
       "       'строительство недвижимости', 'на покупку подержанного автомобиля',\n",
       "       'на покупку своего автомобиля',\n",
       "       'операции с коммерческой недвижимостью',\n",
       "       'строительство жилой недвижимости', 'жилье',\n",
       "       'операции со своей недвижимостью', 'автомобили',\n",
       "       'заняться образованием', 'сделка с подержанным автомобилем',\n",
       "       'получение образования', 'автомобиль', 'свадьба',\n",
       "       'получение дополнительного образования', 'покупка своего жилья',\n",
       "       'операции с недвижимостью', 'получение высшего образования',\n",
       "       'свой автомобиль', 'сделка с автомобилем',\n",
       "       'профильное образование', 'высшее образование',\n",
       "       'покупка жилья для сдачи', 'на покупку автомобиля', 'ремонт жилью',\n",
       "       'заняться высшим образованием'], dtype=object)"
      ]
     },
     "execution_count": 19,
     "metadata": {},
     "output_type": "execute_result"
    }
   ],
   "source": [
    "data['purpose'].unique()"
   ]
  },
  {
   "cell_type": "markdown",
   "id": "1f221cc7",
   "metadata": {
    "deletable": false,
    "editable": false,
    "id": "85d0aef0"
   },
   "source": [
    "**Задание 18. Создайте функцию, которая на основании данных из столбца `purpose` сформирует новый столбец `purpose_category`, в который войдут следующие категории:**\n",
    "\n",
    "- `'операции с автомобилем'`,\n",
    "- `'операции с недвижимостью'`,\n",
    "- `'проведение свадьбы'`,\n",
    "- `'получение образования'`.\n",
    "\n",
    "**Например, если в столбце `purpose` находится подстрока `'на покупку автомобиля'`, то в столбце `purpose_category` должна появиться строка `'операции с автомобилем'`.**\n",
    "\n",
    "**Используйте собственную функцию с именем `categorize_purpose()` и метод `apply()`. Изучите данные в столбце `purpose` и определите, какие подстроки помогут вам правильно определить категорию.**"
   ]
  },
  {
   "cell_type": "code",
   "execution_count": 20,
   "id": "d62a2b05",
   "metadata": {
    "deletable": false,
    "id": "e149fab4"
   },
   "outputs": [],
   "source": [
    "def categorize_purpose(row):\n",
    "    try:\n",
    "        if 'автом' in row:\n",
    "            return 'операции с автомобилем'\n",
    "        elif 'жил' in row or 'недвиж' in row:\n",
    "            return 'операции с недвижимостью'\n",
    "        elif 'свад' in row:\n",
    "            return 'проведение свадьбы'\n",
    "        elif 'образов' in row:\n",
    "            return 'получение образования'\n",
    "    except:\n",
    "        return 'нет категории'"
   ]
  },
  {
   "cell_type": "code",
   "execution_count": 21,
   "id": "78aac19c",
   "metadata": {
    "deletable": false,
    "id": "bf36e69b"
   },
   "outputs": [],
   "source": [
    "data['purpose_category'] = data['purpose'].apply(categorize_purpose)"
   ]
  },
  {
   "cell_type": "markdown",
   "id": "61823446",
   "metadata": {
    "deletable": false,
    "editable": false,
    "id": "09b242bf"
   },
   "source": [
    "### Шаг 3. Исследуйте данные и ответьте на вопросы"
   ]
  },
  {
   "cell_type": "markdown",
   "id": "8ca51cca",
   "metadata": {
    "deletable": false,
    "editable": false,
    "id": "c5d66278"
   },
   "source": [
    "#### 3.1 Есть ли зависимость между количеством детей и возвратом кредита в срок?"
   ]
  },
  {
   "cell_type": "code",
   "execution_count": 22,
   "id": "84ef2516",
   "metadata": {
    "deletable": false,
    "id": "2cacfc4a"
   },
   "outputs": [
    {
     "name": "stdout",
     "output_type": "stream",
     "text": [
      "При числе детей равное 0, процент людей, имеющих кредит равен 4.98%, а процент людей с погашенным кридитом равен 61.08%\n",
      "Отношение невыплаченных кредитов к погашенным 8.16%\n",
      "Выборка 14091\n",
      "При числе детей равное 1, процент людей, имеющих кредит равен 2.08%, а процент людей с погашенным кридитом равен 20.46%\n",
      "Отношение невыплаченных кредитов к погашенным 10.17%\n",
      "Выборка 4808\n",
      "При числе детей равное 2, процент людей, имеющих кредит равен 0.91%, а процент людей с погашенным кридитом равен 8.71%\n",
      "Отношение невыплаченных кредитов к погашенным 10.44%\n",
      "Выборка 2052\n",
      "При числе детей равное 3, процент людей, имеющих кредит равен 0.13%, а процент людей с погашенным кридитом равен 1.42%\n",
      "Отношение невыплаченных кредитов к погашенным 8.91%\n",
      "Выборка 330\n",
      "При числе детей равное 4, процент людей, имеющих кредит равен 0.02%, а процент людей с погашенным кридитом равен 0.17%\n",
      "Отношение невыплаченных кредитов к погашенным 10.81%\n",
      "Выборка 41\n",
      "При числе детей равное 5, процент людей, имеющих кредит равен 0.00%, а процент людей с погашенным кридитом равен 0.04%\n",
      "Отношение невыплаченных кредитов к погашенным 0.00%\n",
      "Выборка 9\n"
     ]
    }
   ],
   "source": [
    "# Напишем цикл, в котором посчитаем,\n",
    "number_of_children = sorted(data['children'].unique())\n",
    "debt = data['debt'].unique()\n",
    "total_debt = data['debt'].count()\n",
    "for amount in number_of_children:\n",
    "    debt_one = data.loc[(data['children'] == amount) & (data['debt'] == 1)]['debt'].count()\n",
    "    debt_zero = data.loc[(data['children'] == amount) & (data['debt'] == 0)]['debt'].count()\n",
    "    print(f'При числе детей равное {amount}, процент людей, имеющих кредит равен {debt_one / total_debt:.2%}, а процент людей с погашенным кридитом равен {debt_zero / total_debt:.2%}')\n",
    "    print(f'Отношение невыплаченных кредитов к погашенным {debt_one / debt_zero:.2%}')\n",
    "    print(f'Выборка {debt_one + debt_zero}')"
   ]
  },
  {
   "cell_type": "markdown",
   "id": "03e447fb",
   "metadata": {
    "deletable": false,
    "id": "3a6b99ec"
   },
   "source": [
    "**Вывод:** Из полученных данных видно, что большая часть кредиторов составляют люди без ребенка или одним, двумя детьми. И как самая большая группа состоящая из бездетных людей, имеет хороший процент выплат, по сравнению с людьми имеющими одного, двух детей. Про семьи, состоящих из более двух детей, не могу утверждать, что данные корректные, из-за малой выборки. Можно понять, почему число неоплаченных кредитов может вырасти по сравнению с увеличением числа детей, так как общие расходы семьи растут, но тогда процент должен был увеличиваться постепенно, а в этой таблице выборка из пяти и четырех детей выглядит странно. Но можно утверждать, что есть зависимость срока выалаты кредита от количества детей."
   ]
  },
  {
   "cell_type": "code",
   "execution_count": 23,
   "id": "a75130e3",
   "metadata": {},
   "outputs": [
    {
     "name": "stdout",
     "output_type": "stream",
     "text": [
      "                debt    persent\n",
      "children debt                  \n",
      "0        0     13028  61.075430\n",
      "         1      1063   4.983358\n",
      "1        0      4364  20.458488\n",
      "         1       444   2.081478\n",
      "2        0      1858   8.710328\n",
      "         1       194   0.909474\n",
      "3        0       303   1.420468\n",
      "         1        27   0.126576\n",
      "4        0        37   0.173456\n",
      "         1         4   0.018752\n",
      "5        0         9   0.042192\n"
     ]
    }
   ],
   "source": [
    "#Аналогичгын данные полученные выше в сводной таблице\n",
    "data_grouped = data.groupby(['children','debt']).agg({'debt':'count'})\n",
    "data_grouped['persent'] = data_grouped['debt'] / total_debt * 100\n",
    "print(data_grouped)"
   ]
  },
  {
   "cell_type": "code",
   "execution_count": 24,
   "id": "8c18256f",
   "metadata": {},
   "outputs": [
    {
     "data": {
      "text/html": [
       "<div>\n",
       "<style scoped>\n",
       "    .dataframe tbody tr th:only-of-type {\n",
       "        vertical-align: middle;\n",
       "    }\n",
       "\n",
       "    .dataframe tbody tr th {\n",
       "        vertical-align: top;\n",
       "    }\n",
       "\n",
       "    .dataframe thead tr th {\n",
       "        text-align: left;\n",
       "    }\n",
       "\n",
       "    .dataframe thead tr:last-of-type th {\n",
       "        text-align: right;\n",
       "    }\n",
       "</style>\n",
       "<table border=\"1\" class=\"dataframe\">\n",
       "  <thead>\n",
       "    <tr>\n",
       "      <th></th>\n",
       "      <th colspan=\"3\" halign=\"left\">debt</th>\n",
       "    </tr>\n",
       "    <tr>\n",
       "      <th></th>\n",
       "      <th>count</th>\n",
       "      <th>sum</th>\n",
       "      <th>mean</th>\n",
       "    </tr>\n",
       "    <tr>\n",
       "      <th>children</th>\n",
       "      <th></th>\n",
       "      <th></th>\n",
       "      <th></th>\n",
       "    </tr>\n",
       "  </thead>\n",
       "  <tbody>\n",
       "    <tr>\n",
       "      <th>0</th>\n",
       "      <td>14091</td>\n",
       "      <td>1063</td>\n",
       "      <td>0.075438</td>\n",
       "    </tr>\n",
       "    <tr>\n",
       "      <th>1</th>\n",
       "      <td>4808</td>\n",
       "      <td>444</td>\n",
       "      <td>0.092346</td>\n",
       "    </tr>\n",
       "    <tr>\n",
       "      <th>2</th>\n",
       "      <td>2052</td>\n",
       "      <td>194</td>\n",
       "      <td>0.094542</td>\n",
       "    </tr>\n",
       "    <tr>\n",
       "      <th>3</th>\n",
       "      <td>330</td>\n",
       "      <td>27</td>\n",
       "      <td>0.081818</td>\n",
       "    </tr>\n",
       "    <tr>\n",
       "      <th>4</th>\n",
       "      <td>41</td>\n",
       "      <td>4</td>\n",
       "      <td>0.097561</td>\n",
       "    </tr>\n",
       "    <tr>\n",
       "      <th>5</th>\n",
       "      <td>9</td>\n",
       "      <td>0</td>\n",
       "      <td>0.000000</td>\n",
       "    </tr>\n",
       "  </tbody>\n",
       "</table>\n",
       "</div>"
      ],
      "text/plain": [
       "           debt                \n",
       "          count   sum      mean\n",
       "children                       \n",
       "0         14091  1063  0.075438\n",
       "1          4808   444  0.092346\n",
       "2          2052   194  0.094542\n",
       "3           330    27  0.081818\n",
       "4            41     4  0.097561\n",
       "5             9     0  0.000000"
      ]
     },
     "execution_count": 24,
     "metadata": {},
     "output_type": "execute_result"
    }
   ],
   "source": [
    "\n",
    "data.groupby('children').agg({'debt': ['count', 'sum', 'mean']})"
   ]
  },
  {
   "cell_type": "code",
   "execution_count": 25,
   "id": "81c72e90",
   "metadata": {
    "scrolled": true
   },
   "outputs": [
    {
     "name": "stdout",
     "output_type": "stream",
     "text": [
      "                    debt                               \n",
      "         Выдано кредитов Всего должников Доля должников\n",
      "children                                               \n",
      "0                  14091            1063       0.075438\n",
      "1                   4808             444       0.092346\n",
      "2                   2052             194       0.094542\n",
      "3                    330              27       0.081818\n",
      "4                     41               4       0.097561\n",
      "5                      9               0       0.000000\n"
     ]
    }
   ],
   "source": [
    "\n",
    "data_children = data.groupby('children').agg({'debt': ['count', 'sum', 'mean']})\n",
    "data_children.rename(columns = {'count' : 'Выдано кредитов', 'sum' : 'Всего должников', 'mean' : 'Доля должников'}, inplace = True)\n",
    "print(data_children)"
   ]
  },
  {
   "cell_type": "markdown",
   "id": "318f9770",
   "metadata": {
    "deletable": false,
    "editable": false,
    "id": "97be82ca"
   },
   "source": [
    "#### 3.2 Есть ли зависимость между семейным положением и возвратом кредита в срок?"
   ]
  },
  {
   "cell_type": "code",
   "execution_count": 26,
   "id": "4cecf859",
   "metadata": {
    "deletable": false,
    "id": "dc3f7ee8"
   },
   "outputs": [
    {
     "name": "stdout",
     "output_type": "stream",
     "text": [
      "['женат / замужем' 'гражданский брак' 'вдовец / вдова' 'в разводе'\n",
      " 'Не женат / не замужем']\n",
      "Отношение невыплаченных кредитов к погашенным 8.18% для семейного положения женат / замужем\n",
      "Отношение невыплаченных кредитов к погашенным 10.27% для семейного положения гражданский брак\n",
      "Отношение невыплаченных кредитов к погашенным 7.09% для семейного положения вдовец / вдова\n",
      "Отношение невыплаченных кредитов к погашенным 7.60% для семейного положения в разводе\n",
      "Отношение невыплаченных кредитов к погашенным 10.82% для семейного положения Не женат / не замужем\n"
     ]
    }
   ],
   "source": [
    "# Посмотрим какие уникальные статусы сущетсвуют\n",
    "print(data['family_status'].unique())\n",
    "total_family_status = data['family_status'].unique()\n",
    "total_debt = data['debt'].count()\n",
    "for status in total_family_status:\n",
    "    debt_yes = data.loc[(data['family_status'] == status) & (data['debt'] == 1)]['debt'].count()\n",
    "    debt_no = data.loc[(data['family_status'] == status) & (data['debt'] == 0)]['debt'].count()\n",
    "    print(f'Отношение невыплаченных кредитов к погашенным {debt_yes / debt_no:.2%} для семейного положения {status}')  \n",
    "     "
   ]
  },
  {
   "cell_type": "markdown",
   "id": "2d403aa4",
   "metadata": {
    "deletable": false,
    "id": "1cef7837"
   },
   "source": [
    "**Вывод:** Из данных видим, что чаще всего кридиты не выплачивают группы \"Не женат / не замужем\" и \"гражданский брак\", а лучшими кредиторами явлются люди в разводе или вдовы с довцами."
   ]
  },
  {
   "cell_type": "code",
   "execution_count": 27,
   "id": "153e2eca",
   "metadata": {},
   "outputs": [
    {
     "name": "stdout",
     "output_type": "stream",
     "text": [
      "                             debt    persent\n",
      "family_status         debt                  \n",
      "Не женат / не замужем 0      2523  11.827856\n",
      "                      1       273   1.279827\n",
      "в разводе             0      1105   5.180254\n",
      "                      1        84   0.393793\n",
      "вдовец / вдова        0       888   4.162955\n",
      "                      1        63   0.295345\n",
      "гражданский брак      0      3749  17.575360\n",
      "                      1       385   1.804885\n",
      "женат / замужем       0     11334  53.133937\n",
      "                      1       927   4.345788\n"
     ]
    }
   ],
   "source": [
    "#Сводная таблица\n",
    "data_grouped = data.groupby(['family_status','debt']).agg({'debt':'count'})\n",
    "data_grouped['persent'] = data_grouped['debt'] / total_debt * 100\n",
    "print(data_grouped)"
   ]
  },
  {
   "cell_type": "code",
   "execution_count": 28,
   "id": "22112823",
   "metadata": {},
   "outputs": [
    {
     "name": "stdout",
     "output_type": "stream",
     "text": [
      "                                 debt                               \n",
      "                      Выдано кредитов Всего должников Доля должников\n",
      "family_status                                                       \n",
      "Не женат / не замужем            2796             273       0.097639\n",
      "в разводе                        1189              84       0.070648\n",
      "вдовец / вдова                    951              63       0.066246\n",
      "гражданский брак                 4134             385       0.093130\n",
      "женат / замужем                 12261             927       0.075606\n"
     ]
    }
   ],
   "source": [
    "\n",
    "data_children = data.groupby('family_status').agg({'debt': ['count', 'sum', 'mean']})\n",
    "data_children.rename(columns = {'count' : 'Выдано кредитов', 'sum' : 'Всего должников', 'mean' : 'Доля должников'}, inplace = True)\n",
    "print(data_children)"
   ]
  },
  {
   "cell_type": "markdown",
   "id": "60941804",
   "metadata": {
    "deletable": false,
    "editable": false,
    "id": "1e8b2fca"
   },
   "source": [
    "#### 3.3 Есть ли зависимость между уровнем дохода и возвратом кредита в срок?"
   ]
  },
  {
   "cell_type": "code",
   "execution_count": 29,
   "id": "5cde75d7",
   "metadata": {
    "deletable": false,
    "id": "cd7e3720"
   },
   "outputs": [
    {
     "name": "stdout",
     "output_type": "stream",
     "text": [
      "['B' 'C' 'D' 'E' 'A']\n",
      "Отношение невыплаченных кредитов к погашенным 8.70% для категории доходов A\n",
      "Отношение невыплаченных кредитов к погашенным 7.60% для категории доходов B\n",
      "Отношение невыплаченных кредитов к погашенным 9.29% для категории доходов C\n",
      "Отношение невыплаченных кредитов к погашенным 6.40% для категории доходов D\n",
      "Отношение невыплаченных кредитов к погашенным 10.00% для категории доходов E\n"
     ]
    }
   ],
   "source": [
    "print(data['total_income_category'].unique())\n",
    "#0–30000 — 'E';\n",
    "#30001–50000 — 'D';\n",
    "#50001–200000 — 'C';\n",
    "#200001–1000000 — 'B';\n",
    "#1000001 и выше — 'A'.\n",
    "total_income_categorys = sorted(data['total_income_category'].unique())\n",
    "total_debt = data['debt'].count()\n",
    "for category in total_income_categorys:\n",
    "    debt_yes = data.loc[(data['total_income_category'] == category) & (data['debt'] == 1)]['debt'].count()\n",
    "    debt_no = data.loc[(data['total_income_category'] == category) & (data['debt'] == 0)]['debt'].count()\n",
    "    print(f'Отношение невыплаченных кредитов к погашенным {debt_yes / debt_no:.2%} для категории доходов {category}')  "
   ]
  },
  {
   "cell_type": "markdown",
   "id": "095edad3",
   "metadata": {
    "deletable": false,
    "id": "e8593def"
   },
   "source": [
    "**Вывод:** Люди с высоким и средним доходм выплачивают креды вовремя чаще чем люди с низким доходм, за исключением группы людей, у которых доход выше среднего, возможно к этой группе относятся малый бизнес, где люди, которые пытаються увеличить свой доход за счет открытия собственого бизнеса, но за счет сильно увеличивающих затрат, становиться категориально похожи на людей с низким доходом."
   ]
  },
  {
   "cell_type": "code",
   "execution_count": 30,
   "id": "34054037",
   "metadata": {},
   "outputs": [
    {
     "name": "stdout",
     "output_type": "stream",
     "text": [
      "                                 debt                               \n",
      "                      Выдано кредитов Всего должников Доля должников\n",
      "total_income_category                                               \n",
      "A                                  25               2       0.080000\n",
      "B                                5014             354       0.070602\n",
      "C                               15921            1353       0.084982\n",
      "D                                 349              21       0.060172\n",
      "E                                  22               2       0.090909\n"
     ]
    }
   ],
   "source": [
    "\n",
    "data_children = data.groupby('total_income_category').agg({'debt': ['count', 'sum', 'mean']})\n",
    "data_children.rename(columns = {'count' : 'Выдано кредитов', 'sum' : 'Всего должников', 'mean' : 'Доля должников'}, inplace = True)\n",
    "print(data_children)"
   ]
  },
  {
   "cell_type": "markdown",
   "id": "56eb4609",
   "metadata": {},
   "source": [
    "Благодаря данной сводной таблице видим, что у нас малопредставленны группы с высокой заработной платой и зарплатой ниже среднего. Либо банк не орентирован на таких клиентов, либо в целом данные категории людей редко берут кредиты. По двум самым большим выборкам можем сделать вывод, что люди с большим достатком реже берут кредиты, но возращают они их в срок чаще, чем люди с меньшим достатком."
   ]
  },
  {
   "cell_type": "markdown",
   "id": "c9e26d80",
   "metadata": {
    "deletable": false,
    "editable": false,
    "id": "99ecbd1f"
   },
   "source": [
    "#### 3.4 Как разные цели кредита влияют на его возврат в срок?"
   ]
  },
  {
   "cell_type": "code",
   "execution_count": 31,
   "id": "b126cf08",
   "metadata": {
    "deletable": false,
    "id": "2b687290"
   },
   "outputs": [
    {
     "name": "stdout",
     "output_type": "stream",
     "text": [
      "['операции с недвижимостью' 'операции с автомобилем'\n",
      " 'получение образования' 'проведение свадьбы']\n",
      "Отношение невыплаченных кредитов к погашенным 10.31% для категории доходов операции с автомобилем\n",
      "Выборка 4279\n",
      "Отношение невыплаченных кредитов к погашенным 7.82% для категории доходов операции с недвижимостью\n",
      "Выборка 10751\n",
      "Отношение невыплаченных кредитов к погашенным 10.20% для категории доходов получение образования\n",
      "Выборка 3988\n",
      "Отношение невыплаченных кредитов к погашенным 8.59% для категории доходов проведение свадьбы\n",
      "Выборка 2313\n"
     ]
    }
   ],
   "source": [
    "print(data['purpose_category'].unique())\n",
    "#display(data)\n",
    "purpose_categorys = sorted(data['purpose_category'].unique())\n",
    "total_debt = data['debt'].count()\n",
    "for category in purpose_categorys:\n",
    "    debt_yes = data.loc[(data['purpose_category'] == category) & (data['debt'] == 1)]['debt'].count()\n",
    "    debt_no = data.loc[(data['purpose_category'] == category) & (data['debt'] == 0)]['debt'].count()\n",
    "    print(f'Отношение невыплаченных кредитов к погашенным {debt_yes / debt_no:.2%} для категории доходов {category}')\n",
    "    print(f'Выборка {debt_yes + debt_no}')"
   ]
  },
  {
   "cell_type": "markdown",
   "id": "767c1060",
   "metadata": {
    "deletable": false,
    "id": "b4bb2ce6"
   },
   "source": [
    "**Вывод:** Лучше всего оплачиваются кредиты в срок связанные с недвижимостью, хуже всего автмобильные и образовательные категории. Возможно, высокий процент закрытия кредитов по недвижимости связан с требованиями банков и суммы в них участвывающие, так как из всех категорий, которые сюда входят там будут займы на самые большие суммы, и для более обеспеченных людей и фирм. Свадьба не такое затратное мероприятие как покупка автомобиля и образование, возможно, поэтому это второй по успешности закрытия кредит."
   ]
  },
  {
   "cell_type": "code",
   "execution_count": 32,
   "id": "11f7494a",
   "metadata": {},
   "outputs": [
    {
     "name": "stdout",
     "output_type": "stream",
     "text": [
      "                                    debt                               \n",
      "                         Выдано кредитов Всего должников Доля должников\n",
      "purpose_category                                                       \n",
      "операции с автомобилем              4279             400       0.093480\n",
      "операции с недвижимостью           10751             780       0.072551\n",
      "получение образования               3988             369       0.092528\n",
      "проведение свадьбы                  2313             183       0.079118\n"
     ]
    }
   ],
   "source": [
    "\n",
    "data_children = data.groupby('purpose_category').agg({'debt': ['count', 'sum', 'mean']})\n",
    "data_children.rename(columns = {'count' : 'Выдано кредитов', 'sum' : 'Всего должников', 'mean' : 'Доля должников'}, inplace = True)\n",
    "print(data_children)"
   ]
  },
  {
   "cell_type": "markdown",
   "id": "5be67424",
   "metadata": {
    "deletable": false,
    "editable": false,
    "id": "09c3ac4c"
   },
   "source": [
    "#### 3.5 Приведите возможные причины появления пропусков в исходных данных."
   ]
  },
  {
   "cell_type": "markdown",
   "id": "892eed3b",
   "metadata": {
    "deletable": false,
    "id": "9da2ceda"
   },
   "source": [
    "*Ответ:* Было одинаково недостаточно данных по двум столбцам: стажу и ежемесячный доход. Вероятно, что данные были изначально не заполненны, так как мы имеем равное количество отсутсвующих данных, возможно планировалось взять эту у клиентов позже."
   ]
  },
  {
   "cell_type": "markdown",
   "id": "65fe847a",
   "metadata": {
    "deletable": false,
    "editable": false,
    "id": "7b0487d6"
   },
   "source": [
    "#### 3.6 Объясните, почему заполнить пропуски медианным значением — лучшее решение для количественных переменных."
   ]
  },
  {
   "cell_type": "markdown",
   "id": "bb11f3dc",
   "metadata": {
    "deletable": false,
    "id": "7ecf2b8e"
   },
   "source": [
    "*Ответ:* В данном случае мы заменяли пропуски медмнным значением в столбце со стажем людей, здесь было взято медианное значение, а не среднее так как и в премере с директором из курса, может присутствоват силшком большой разброс по стажу между разными людьми, и среднем арефметическом может это не учитывать, из-за чего данные станут менее корректными."
   ]
  },
  {
   "cell_type": "markdown",
   "id": "d2f3dd25",
   "metadata": {
    "deletable": false,
    "editable": false,
    "id": "6db5255a"
   },
   "source": [
    "### Шаг 4: общий вывод."
   ]
  },
  {
   "cell_type": "markdown",
   "id": "1914bb8f",
   "metadata": {
    "deletable": false,
    "id": "bad65432"
   },
   "source": [
    "На основании выше полученных данных, были сделаны следующие выводы:\n",
    "1. Семьи с меньшим количеством детей чаще погащают кредиты в срок.\n",
    "2. Одинокие люди чаще погащают кредиты в срок\n",
    "3. Люди с с доходом выше среднего чаще погащают кредиты в срок.\n",
    "4. Люди берущие кредиты на недвижиность и проведение свадьбы погасят свои кредиты раньше нежели люди, получившие кредиты на автотранспорт или образование."
   ]
  },
  {
   "cell_type": "markdown",
   "id": "15e46ab4",
   "metadata": {},
   "source": [
    "<font color='blue'>Обновленный вывод</font>"
   ]
  },
  {
   "cell_type": "markdown",
   "id": "09929d26",
   "metadata": {},
   "source": [
    "Для анализа данных была представлена таблица из кредитного отдела банка с информацией о: количестве детей в семье, общем трудовом стаже в днях, возрасте клиента в годах, уровене образования клиента, семейном положении, поле клиента, типе занятости,  имел ли клиент задолженность по возврату кредитов, ежемесячный доход, цели получения кредита.\n",
    "\n",
    "На этапе предобработки данных пустные значениях в столбцах: общий трудовой стаж и ежемесячный доход были заменены мединым значением соответсвующих столбцов, также была обработы аномалии, встретивщиеся в колонке с числом детей в семье.\n",
    "\n",
    "На основании выше полученных данных, были сделаны следующие выводы:\n",
    "1. Семьи с меньшим количеством детей чаще погащают кредиты в срок.\n",
    "2. Одинокие люди чаще погащают кредиты в срок\n",
    "3. Люди с с доходом выше среднего чаще погащают кредиты в срок.\n",
    "4. Люди берущие кредиты на недвижиность и проведение свадьбы погасят свои кредиты раньше нежели люди, получившие кредиты на автотранспорт или образование."
   ]
  }
 ],
 "metadata": {
  "ExecuteTimeLog": [
   {
    "duration": 58,
    "start_time": "2022-09-13T08:12:41.901Z"
   },
   {
    "duration": 497,
    "start_time": "2022-09-13T08:12:53.728Z"
   },
   {
    "duration": 22,
    "start_time": "2022-09-13T08:12:54.226Z"
   },
   {
    "duration": 15,
    "start_time": "2022-09-13T08:12:54.249Z"
   },
   {
    "duration": 9,
    "start_time": "2022-09-13T08:12:54.265Z"
   },
   {
    "duration": 36,
    "start_time": "2022-09-13T08:12:54.276Z"
   },
   {
    "duration": 3,
    "start_time": "2022-09-13T08:12:54.314Z"
   },
   {
    "duration": 11,
    "start_time": "2022-09-13T08:12:54.318Z"
   },
   {
    "duration": 16,
    "start_time": "2022-09-13T08:12:54.330Z"
   },
   {
    "duration": 8,
    "start_time": "2022-09-13T08:12:54.348Z"
   },
   {
    "duration": 5,
    "start_time": "2022-09-13T08:12:54.358Z"
   },
   {
    "duration": 51,
    "start_time": "2022-09-13T08:12:54.365Z"
   },
   {
    "duration": 11,
    "start_time": "2022-09-13T08:12:54.418Z"
   },
   {
    "duration": 4,
    "start_time": "2022-09-13T08:12:54.431Z"
   },
   {
    "duration": 11,
    "start_time": "2022-09-13T08:12:54.438Z"
   },
   {
    "duration": 51,
    "start_time": "2022-09-13T08:12:54.450Z"
   },
   {
    "duration": 17,
    "start_time": "2022-09-13T08:12:54.502Z"
   },
   {
    "duration": 5,
    "start_time": "2022-09-13T08:12:54.520Z"
   },
   {
    "duration": 12,
    "start_time": "2022-09-13T08:12:54.527Z"
   },
   {
    "duration": 13,
    "start_time": "2022-09-13T08:12:54.541Z"
   },
   {
    "duration": 3,
    "start_time": "2022-09-13T08:12:54.555Z"
   },
   {
    "duration": 34,
    "start_time": "2022-09-13T08:12:54.560Z"
   },
   {
    "duration": 1585,
    "start_time": "2022-09-13T08:12:54.596Z"
   },
   {
    "duration": 0,
    "start_time": "2022-09-13T08:12:56.183Z"
   },
   {
    "duration": 0,
    "start_time": "2022-09-13T08:12:56.184Z"
   },
   {
    "duration": 0,
    "start_time": "2022-09-13T08:12:56.185Z"
   },
   {
    "duration": 26,
    "start_time": "2022-09-13T08:13:07.452Z"
   },
   {
    "duration": 9,
    "start_time": "2022-09-13T08:23:19.949Z"
   },
   {
    "duration": 12,
    "start_time": "2022-09-13T08:23:31.938Z"
   },
   {
    "duration": 48,
    "start_time": "2022-09-13T08:24:12.104Z"
   },
   {
    "duration": 23,
    "start_time": "2022-09-13T08:25:04.764Z"
   },
   {
    "duration": 9,
    "start_time": "2022-09-13T08:26:04.076Z"
   },
   {
    "duration": 23,
    "start_time": "2022-09-13T08:26:31.731Z"
   },
   {
    "duration": 1432,
    "start_time": "2022-09-13T08:30:05.424Z"
   },
   {
    "duration": 1421,
    "start_time": "2022-09-13T08:30:15.900Z"
   },
   {
    "duration": 1683,
    "start_time": "2022-09-13T08:30:52.056Z"
   },
   {
    "duration": 495,
    "start_time": "2022-09-13T08:31:26.481Z"
   },
   {
    "duration": 23,
    "start_time": "2022-09-13T08:31:26.978Z"
   },
   {
    "duration": 15,
    "start_time": "2022-09-13T08:31:27.003Z"
   },
   {
    "duration": 10,
    "start_time": "2022-09-13T08:31:27.021Z"
   },
   {
    "duration": 66,
    "start_time": "2022-09-13T08:31:27.033Z"
   },
   {
    "duration": 3,
    "start_time": "2022-09-13T08:31:27.101Z"
   },
   {
    "duration": 13,
    "start_time": "2022-09-13T08:31:27.106Z"
   },
   {
    "duration": 20,
    "start_time": "2022-09-13T08:31:27.121Z"
   },
   {
    "duration": 14,
    "start_time": "2022-09-13T08:31:27.143Z"
   },
   {
    "duration": 8,
    "start_time": "2022-09-13T08:31:27.161Z"
   },
   {
    "duration": 49,
    "start_time": "2022-09-13T08:31:27.171Z"
   },
   {
    "duration": 10,
    "start_time": "2022-09-13T08:31:27.222Z"
   },
   {
    "duration": 7,
    "start_time": "2022-09-13T08:31:27.234Z"
   },
   {
    "duration": 18,
    "start_time": "2022-09-13T08:31:27.242Z"
   },
   {
    "duration": 28,
    "start_time": "2022-09-13T08:31:27.262Z"
   },
   {
    "duration": 16,
    "start_time": "2022-09-13T08:31:27.291Z"
   },
   {
    "duration": 4,
    "start_time": "2022-09-13T08:31:27.309Z"
   },
   {
    "duration": 19,
    "start_time": "2022-09-13T08:31:27.314Z"
   },
   {
    "duration": 22,
    "start_time": "2022-09-13T08:31:27.334Z"
   },
   {
    "duration": 7,
    "start_time": "2022-09-13T08:31:27.359Z"
   },
   {
    "duration": 11,
    "start_time": "2022-09-13T08:31:27.388Z"
   },
   {
    "duration": 2412,
    "start_time": "2022-09-13T08:31:27.401Z"
   },
   {
    "duration": 0,
    "start_time": "2022-09-13T08:31:29.815Z"
   },
   {
    "duration": 0,
    "start_time": "2022-09-13T08:31:29.816Z"
   },
   {
    "duration": 0,
    "start_time": "2022-09-13T08:31:29.817Z"
   },
   {
    "duration": 25,
    "start_time": "2022-09-13T08:31:55.994Z"
   },
   {
    "duration": 870,
    "start_time": "2022-09-13T08:37:07.807Z"
   },
   {
    "duration": 15,
    "start_time": "2022-09-13T08:37:41.570Z"
   },
   {
    "duration": 20,
    "start_time": "2022-09-13T08:37:48.396Z"
   },
   {
    "duration": 21,
    "start_time": "2022-09-13T08:40:05.665Z"
   },
   {
    "duration": 21,
    "start_time": "2022-09-13T08:41:49.241Z"
   },
   {
    "duration": 21,
    "start_time": "2022-09-13T08:42:01.419Z"
   },
   {
    "duration": 22,
    "start_time": "2022-09-13T08:42:10.137Z"
   },
   {
    "duration": 14,
    "start_time": "2022-09-13T08:44:48.920Z"
   },
   {
    "duration": 20,
    "start_time": "2022-09-13T08:46:34.944Z"
   },
   {
    "duration": 20,
    "start_time": "2022-09-13T08:46:45.790Z"
   },
   {
    "duration": 21,
    "start_time": "2022-09-13T08:47:48.900Z"
   },
   {
    "duration": 36,
    "start_time": "2022-09-13T08:48:04.295Z"
   },
   {
    "duration": 35,
    "start_time": "2022-09-13T08:48:30.954Z"
   },
   {
    "duration": 459,
    "start_time": "2022-09-13T08:49:06.026Z"
   },
   {
    "duration": 22,
    "start_time": "2022-09-13T08:49:06.487Z"
   },
   {
    "duration": 18,
    "start_time": "2022-09-13T08:49:06.511Z"
   },
   {
    "duration": 11,
    "start_time": "2022-09-13T08:49:06.531Z"
   },
   {
    "duration": 58,
    "start_time": "2022-09-13T08:49:06.543Z"
   },
   {
    "duration": 3,
    "start_time": "2022-09-13T08:49:06.603Z"
   },
   {
    "duration": 12,
    "start_time": "2022-09-13T08:49:06.608Z"
   },
   {
    "duration": 4,
    "start_time": "2022-09-13T08:49:06.622Z"
   },
   {
    "duration": 10,
    "start_time": "2022-09-13T08:49:06.627Z"
   },
   {
    "duration": 6,
    "start_time": "2022-09-13T08:49:06.640Z"
   },
   {
    "duration": 67,
    "start_time": "2022-09-13T08:49:06.647Z"
   },
   {
    "duration": 11,
    "start_time": "2022-09-13T08:49:06.716Z"
   },
   {
    "duration": 4,
    "start_time": "2022-09-13T08:49:06.729Z"
   },
   {
    "duration": 12,
    "start_time": "2022-09-13T08:49:06.735Z"
   },
   {
    "duration": 42,
    "start_time": "2022-09-13T08:49:06.749Z"
   },
   {
    "duration": 19,
    "start_time": "2022-09-13T08:49:06.793Z"
   },
   {
    "duration": 3,
    "start_time": "2022-09-13T08:49:06.814Z"
   },
   {
    "duration": 17,
    "start_time": "2022-09-13T08:49:06.819Z"
   },
   {
    "duration": 25,
    "start_time": "2022-09-13T08:49:06.838Z"
   },
   {
    "duration": 26,
    "start_time": "2022-09-13T08:49:06.864Z"
   },
   {
    "duration": 12,
    "start_time": "2022-09-13T08:49:06.892Z"
   },
   {
    "duration": 39,
    "start_time": "2022-09-13T08:49:06.905Z"
   },
   {
    "duration": 3,
    "start_time": "2022-09-13T08:49:06.946Z"
   },
   {
    "duration": 3,
    "start_time": "2022-09-13T08:49:06.951Z"
   },
   {
    "duration": 5,
    "start_time": "2022-09-13T08:49:06.956Z"
   },
   {
    "duration": 24,
    "start_time": "2022-09-13T08:49:34.987Z"
   },
   {
    "duration": 21,
    "start_time": "2022-09-13T08:49:59.953Z"
   },
   {
    "duration": 20,
    "start_time": "2022-09-13T08:52:10.935Z"
   },
   {
    "duration": 22,
    "start_time": "2022-09-13T08:56:48.983Z"
   },
   {
    "duration": 23,
    "start_time": "2022-09-13T09:06:21.551Z"
   },
   {
    "duration": 64,
    "start_time": "2022-09-13T09:14:28.722Z"
   },
   {
    "duration": 4,
    "start_time": "2022-09-13T09:14:47.281Z"
   },
   {
    "duration": 12,
    "start_time": "2022-09-13T09:34:22.818Z"
   },
   {
    "duration": 28,
    "start_time": "2022-09-13T09:35:39.142Z"
   },
   {
    "duration": 12,
    "start_time": "2022-09-13T09:36:01.731Z"
   },
   {
    "duration": 15,
    "start_time": "2022-09-13T09:36:31.792Z"
   },
   {
    "duration": 9,
    "start_time": "2022-09-13T09:36:40.909Z"
   },
   {
    "duration": 550,
    "start_time": "2022-09-13T09:36:48.582Z"
   },
   {
    "duration": 25,
    "start_time": "2022-09-13T09:36:49.134Z"
   },
   {
    "duration": 36,
    "start_time": "2022-09-13T09:36:49.161Z"
   },
   {
    "duration": 10,
    "start_time": "2022-09-13T09:36:49.200Z"
   },
   {
    "duration": 36,
    "start_time": "2022-09-13T09:36:49.212Z"
   },
   {
    "duration": 3,
    "start_time": "2022-09-13T09:36:49.250Z"
   },
   {
    "duration": 35,
    "start_time": "2022-09-13T09:36:49.256Z"
   },
   {
    "duration": 6,
    "start_time": "2022-09-13T09:36:49.293Z"
   },
   {
    "duration": 9,
    "start_time": "2022-09-13T09:36:49.301Z"
   },
   {
    "duration": 6,
    "start_time": "2022-09-13T09:36:49.313Z"
   },
   {
    "duration": 73,
    "start_time": "2022-09-13T09:36:49.321Z"
   },
   {
    "duration": 18,
    "start_time": "2022-09-13T09:36:49.397Z"
   },
   {
    "duration": 33,
    "start_time": "2022-09-13T09:36:49.417Z"
   },
   {
    "duration": 30,
    "start_time": "2022-09-13T09:36:49.452Z"
   },
   {
    "duration": 29,
    "start_time": "2022-09-13T09:36:49.484Z"
   },
   {
    "duration": 20,
    "start_time": "2022-09-13T09:36:49.514Z"
   },
   {
    "duration": 3,
    "start_time": "2022-09-13T09:36:49.537Z"
   },
   {
    "duration": 16,
    "start_time": "2022-09-13T09:36:49.542Z"
   },
   {
    "duration": 38,
    "start_time": "2022-09-13T09:36:49.560Z"
   },
   {
    "duration": 4,
    "start_time": "2022-09-13T09:36:49.599Z"
   },
   {
    "duration": 12,
    "start_time": "2022-09-13T09:36:49.605Z"
   },
   {
    "duration": 30,
    "start_time": "2022-09-13T09:36:49.619Z"
   },
   {
    "duration": 53,
    "start_time": "2022-09-13T09:36:49.650Z"
   },
   {
    "duration": 2,
    "start_time": "2022-09-13T09:36:49.706Z"
   },
   {
    "duration": 6,
    "start_time": "2022-09-13T09:36:49.709Z"
   },
   {
    "duration": 40,
    "start_time": "2022-09-13T09:37:40.893Z"
   },
   {
    "duration": 20,
    "start_time": "2022-09-13T09:45:53.568Z"
   },
   {
    "duration": 507,
    "start_time": "2022-09-13T09:46:04.463Z"
   },
   {
    "duration": 28,
    "start_time": "2022-09-13T09:46:04.973Z"
   },
   {
    "duration": 19,
    "start_time": "2022-09-13T09:46:05.003Z"
   },
   {
    "duration": 11,
    "start_time": "2022-09-13T09:46:05.024Z"
   },
   {
    "duration": 63,
    "start_time": "2022-09-13T09:46:05.036Z"
   },
   {
    "duration": 3,
    "start_time": "2022-09-13T09:46:05.101Z"
   },
   {
    "duration": 17,
    "start_time": "2022-09-13T09:46:05.106Z"
   },
   {
    "duration": 11,
    "start_time": "2022-09-13T09:46:05.125Z"
   },
   {
    "duration": 13,
    "start_time": "2022-09-13T09:46:05.137Z"
   },
   {
    "duration": 6,
    "start_time": "2022-09-13T09:46:05.153Z"
   },
   {
    "duration": 49,
    "start_time": "2022-09-13T09:46:05.160Z"
   },
   {
    "duration": 10,
    "start_time": "2022-09-13T09:46:05.211Z"
   },
   {
    "duration": 6,
    "start_time": "2022-09-13T09:46:05.223Z"
   },
   {
    "duration": 14,
    "start_time": "2022-09-13T09:46:05.231Z"
   },
   {
    "duration": 42,
    "start_time": "2022-09-13T09:46:05.247Z"
   },
   {
    "duration": 18,
    "start_time": "2022-09-13T09:46:05.291Z"
   },
   {
    "duration": 3,
    "start_time": "2022-09-13T09:46:05.311Z"
   },
   {
    "duration": 13,
    "start_time": "2022-09-13T09:46:05.316Z"
   },
   {
    "duration": 24,
    "start_time": "2022-09-13T09:46:05.331Z"
   },
   {
    "duration": 3,
    "start_time": "2022-09-13T09:46:05.357Z"
   },
   {
    "duration": 35,
    "start_time": "2022-09-13T09:46:05.362Z"
   },
   {
    "duration": 26,
    "start_time": "2022-09-13T09:46:05.399Z"
   },
   {
    "duration": 17,
    "start_time": "2022-09-13T09:46:05.427Z"
   },
   {
    "duration": 2,
    "start_time": "2022-09-13T09:46:05.446Z"
   },
   {
    "duration": 13,
    "start_time": "2022-09-13T09:46:05.450Z"
   },
   {
    "duration": 21,
    "start_time": "2022-09-13T09:47:29.332Z"
   },
   {
    "duration": 24,
    "start_time": "2022-09-13T09:48:13.849Z"
   },
   {
    "duration": 26,
    "start_time": "2022-09-13T09:48:26.521Z"
   },
   {
    "duration": 20,
    "start_time": "2022-09-13T09:49:53.728Z"
   },
   {
    "duration": 24,
    "start_time": "2022-09-13T09:51:12.660Z"
   },
   {
    "duration": 15,
    "start_time": "2022-09-13T09:51:54.706Z"
   },
   {
    "duration": 17,
    "start_time": "2022-09-13T09:52:49.870Z"
   },
   {
    "duration": 20,
    "start_time": "2022-09-13T09:53:10.783Z"
   },
   {
    "duration": 31,
    "start_time": "2022-09-13T09:54:16.083Z"
   },
   {
    "duration": 31,
    "start_time": "2022-09-13T09:55:16.752Z"
   },
   {
    "duration": 95,
    "start_time": "2022-09-13T09:57:44.676Z"
   },
   {
    "duration": 114,
    "start_time": "2022-09-13T10:01:56.170Z"
   },
   {
    "duration": 74,
    "start_time": "2022-09-13T10:02:46.935Z"
   },
   {
    "duration": 5,
    "start_time": "2022-09-13T10:02:56.527Z"
   },
   {
    "duration": 5,
    "start_time": "2022-09-13T10:03:07.728Z"
   },
   {
    "duration": 506,
    "start_time": "2022-09-13T10:03:27.381Z"
   },
   {
    "duration": 24,
    "start_time": "2022-09-13T10:03:27.889Z"
   },
   {
    "duration": 16,
    "start_time": "2022-09-13T10:03:27.914Z"
   },
   {
    "duration": 9,
    "start_time": "2022-09-13T10:03:27.932Z"
   },
   {
    "duration": 59,
    "start_time": "2022-09-13T10:03:27.943Z"
   },
   {
    "duration": 4,
    "start_time": "2022-09-13T10:03:28.003Z"
   },
   {
    "duration": 12,
    "start_time": "2022-09-13T10:03:28.009Z"
   },
   {
    "duration": 3,
    "start_time": "2022-09-13T10:03:28.023Z"
   },
   {
    "duration": 9,
    "start_time": "2022-09-13T10:03:28.027Z"
   },
   {
    "duration": 4,
    "start_time": "2022-09-13T10:03:28.040Z"
   },
   {
    "duration": 65,
    "start_time": "2022-09-13T10:03:28.045Z"
   },
   {
    "duration": 10,
    "start_time": "2022-09-13T10:03:28.112Z"
   },
   {
    "duration": 9,
    "start_time": "2022-09-13T10:03:28.124Z"
   },
   {
    "duration": 12,
    "start_time": "2022-09-13T10:03:28.135Z"
   },
   {
    "duration": 20,
    "start_time": "2022-09-13T10:03:28.149Z"
   },
   {
    "duration": 36,
    "start_time": "2022-09-13T10:03:28.171Z"
   },
   {
    "duration": 4,
    "start_time": "2022-09-13T10:03:28.209Z"
   },
   {
    "duration": 15,
    "start_time": "2022-09-13T10:03:28.214Z"
   },
   {
    "duration": 7,
    "start_time": "2022-09-13T10:03:28.231Z"
   },
   {
    "duration": 6,
    "start_time": "2022-09-13T10:03:28.240Z"
   },
   {
    "duration": 10,
    "start_time": "2022-09-13T10:03:28.248Z"
   },
   {
    "duration": 50,
    "start_time": "2022-09-13T10:03:28.260Z"
   },
   {
    "duration": 4,
    "start_time": "2022-09-13T10:03:28.312Z"
   },
   {
    "duration": 0,
    "start_time": "2022-09-13T10:03:28.318Z"
   },
   {
    "duration": 0,
    "start_time": "2022-09-13T10:03:28.319Z"
   },
   {
    "duration": 91,
    "start_time": "2022-09-13T10:03:53.808Z"
   },
   {
    "duration": 30,
    "start_time": "2022-09-13T10:08:10.702Z"
   },
   {
    "duration": 26,
    "start_time": "2022-09-13T10:08:34.169Z"
   },
   {
    "duration": 5,
    "start_time": "2022-09-13T10:12:53.142Z"
   },
   {
    "duration": 60,
    "start_time": "2022-09-13T10:13:07.173Z"
   },
   {
    "duration": 41,
    "start_time": "2022-09-13T10:13:40.860Z"
   },
   {
    "duration": 45,
    "start_time": "2022-09-13T10:13:51.708Z"
   },
   {
    "duration": 138,
    "start_time": "2022-09-13T10:14:34.441Z"
   },
   {
    "duration": 50,
    "start_time": "2022-09-13T10:15:14.390Z"
   },
   {
    "duration": 53,
    "start_time": "2022-09-13T10:15:36.570Z"
   },
   {
    "duration": 59,
    "start_time": "2022-09-13T10:15:56.293Z"
   },
   {
    "duration": 32,
    "start_time": "2022-09-13T10:16:17.439Z"
   },
   {
    "duration": 4,
    "start_time": "2022-09-13T10:21:56.554Z"
   },
   {
    "duration": 47,
    "start_time": "2022-09-13T10:22:29.089Z"
   },
   {
    "duration": 31,
    "start_time": "2022-09-13T10:24:24.895Z"
   },
   {
    "duration": 32,
    "start_time": "2022-09-13T10:24:43.303Z"
   },
   {
    "duration": 46,
    "start_time": "2022-09-13T10:31:09.170Z"
   },
   {
    "duration": 48,
    "start_time": "2022-09-13T10:32:06.490Z"
   },
   {
    "duration": 31,
    "start_time": "2022-09-13T10:32:14.001Z"
   },
   {
    "duration": 45,
    "start_time": "2022-09-13T10:32:50.084Z"
   },
   {
    "duration": 100,
    "start_time": "2022-09-14T09:34:53.230Z"
   },
   {
    "duration": 48,
    "start_time": "2022-09-14T09:35:12.604Z"
   },
   {
    "duration": 591,
    "start_time": "2022-09-14T09:35:22.472Z"
   },
   {
    "duration": 22,
    "start_time": "2022-09-14T09:35:23.066Z"
   },
   {
    "duration": 24,
    "start_time": "2022-09-14T09:35:23.095Z"
   },
   {
    "duration": 9,
    "start_time": "2022-09-14T09:35:23.121Z"
   },
   {
    "duration": 39,
    "start_time": "2022-09-14T09:35:23.131Z"
   },
   {
    "duration": 19,
    "start_time": "2022-09-14T09:35:23.172Z"
   },
   {
    "duration": 44,
    "start_time": "2022-09-14T09:35:23.194Z"
   },
   {
    "duration": 9,
    "start_time": "2022-09-14T09:35:23.240Z"
   },
   {
    "duration": 31,
    "start_time": "2022-09-14T09:35:23.250Z"
   },
   {
    "duration": 6,
    "start_time": "2022-09-14T09:35:23.283Z"
   },
   {
    "duration": 50,
    "start_time": "2022-09-14T09:35:23.293Z"
   },
   {
    "duration": 10,
    "start_time": "2022-09-14T09:35:23.344Z"
   },
   {
    "duration": 12,
    "start_time": "2022-09-14T09:35:23.356Z"
   },
   {
    "duration": 14,
    "start_time": "2022-09-14T09:35:23.369Z"
   },
   {
    "duration": 33,
    "start_time": "2022-09-14T09:35:23.384Z"
   },
   {
    "duration": 21,
    "start_time": "2022-09-14T09:35:23.418Z"
   },
   {
    "duration": 4,
    "start_time": "2022-09-14T09:35:23.441Z"
   },
   {
    "duration": 20,
    "start_time": "2022-09-14T09:35:23.446Z"
   },
   {
    "duration": 8,
    "start_time": "2022-09-14T09:35:23.468Z"
   },
   {
    "duration": 19,
    "start_time": "2022-09-14T09:35:23.478Z"
   },
   {
    "duration": 22,
    "start_time": "2022-09-14T09:35:23.499Z"
   },
   {
    "duration": 52,
    "start_time": "2022-09-14T09:35:23.523Z"
   },
   {
    "duration": 39,
    "start_time": "2022-09-14T09:35:23.577Z"
   },
   {
    "duration": 29,
    "start_time": "2022-09-14T09:35:23.618Z"
   },
   {
    "duration": 27,
    "start_time": "2022-09-14T09:35:23.649Z"
   },
   {
    "duration": 60,
    "start_time": "2022-09-14T09:41:40.082Z"
   },
   {
    "duration": 51,
    "start_time": "2022-09-14T09:41:57.558Z"
   },
   {
    "duration": 97,
    "start_time": "2022-09-14T09:42:23.578Z"
   },
   {
    "duration": 55,
    "start_time": "2022-09-14T09:42:52.472Z"
   },
   {
    "duration": 50,
    "start_time": "2022-09-14T09:44:21.470Z"
   },
   {
    "duration": 62,
    "start_time": "2022-09-14T09:49:32.491Z"
   },
   {
    "duration": 61,
    "start_time": "2022-09-14T10:45:51.906Z"
   },
   {
    "duration": 52,
    "start_time": "2022-09-14T10:47:01.007Z"
   },
   {
    "duration": 46,
    "start_time": "2022-09-14T10:47:22.162Z"
   },
   {
    "duration": 60,
    "start_time": "2022-09-14T10:48:57.074Z"
   },
   {
    "duration": 57,
    "start_time": "2022-09-14T10:52:48.988Z"
   },
   {
    "duration": 54,
    "start_time": "2022-09-14T10:53:04.679Z"
   },
   {
    "duration": 12,
    "start_time": "2022-09-14T10:54:10.701Z"
   },
   {
    "duration": 11,
    "start_time": "2022-09-14T10:55:23.818Z"
   },
   {
    "duration": 19,
    "start_time": "2022-09-14T10:56:08.042Z"
   },
   {
    "duration": 11,
    "start_time": "2022-09-14T10:56:39.518Z"
   },
   {
    "duration": 13,
    "start_time": "2022-09-14T10:56:48.902Z"
   },
   {
    "duration": 528,
    "start_time": "2022-09-14T16:15:27.894Z"
   },
   {
    "duration": 26,
    "start_time": "2022-09-14T16:15:28.424Z"
   },
   {
    "duration": 18,
    "start_time": "2022-09-14T16:15:28.452Z"
   },
   {
    "duration": 22,
    "start_time": "2022-09-14T16:15:28.472Z"
   },
   {
    "duration": 34,
    "start_time": "2022-09-14T16:15:28.496Z"
   },
   {
    "duration": 4,
    "start_time": "2022-09-14T16:15:28.531Z"
   },
   {
    "duration": 11,
    "start_time": "2022-09-14T16:15:28.536Z"
   },
   {
    "duration": 13,
    "start_time": "2022-09-14T16:15:28.549Z"
   },
   {
    "duration": 9,
    "start_time": "2022-09-14T16:15:28.588Z"
   },
   {
    "duration": 5,
    "start_time": "2022-09-14T16:15:28.600Z"
   },
   {
    "duration": 59,
    "start_time": "2022-09-14T16:15:28.606Z"
   },
   {
    "duration": 31,
    "start_time": "2022-09-14T16:15:28.667Z"
   },
   {
    "duration": 12,
    "start_time": "2022-09-14T16:15:28.699Z"
   },
   {
    "duration": 15,
    "start_time": "2022-09-14T16:15:28.713Z"
   },
   {
    "duration": 19,
    "start_time": "2022-09-14T16:15:28.729Z"
   },
   {
    "duration": 39,
    "start_time": "2022-09-14T16:15:28.750Z"
   },
   {
    "duration": 3,
    "start_time": "2022-09-14T16:15:28.791Z"
   },
   {
    "duration": 16,
    "start_time": "2022-09-14T16:15:28.796Z"
   },
   {
    "duration": 9,
    "start_time": "2022-09-14T16:15:28.814Z"
   },
   {
    "duration": 6,
    "start_time": "2022-09-14T16:15:28.824Z"
   },
   {
    "duration": 10,
    "start_time": "2022-09-14T16:15:28.831Z"
   },
   {
    "duration": 61,
    "start_time": "2022-09-14T16:15:28.842Z"
   },
   {
    "duration": 11,
    "start_time": "2022-09-14T16:15:28.905Z"
   },
   {
    "duration": 32,
    "start_time": "2022-09-14T16:15:28.917Z"
   },
   {
    "duration": 62,
    "start_time": "2022-09-14T16:15:28.951Z"
   },
   {
    "duration": 29,
    "start_time": "2022-09-14T16:15:29.015Z"
   },
   {
    "duration": 12,
    "start_time": "2022-09-14T16:16:01.562Z"
   },
   {
    "duration": 84,
    "start_time": "2022-09-14T16:17:25.463Z"
   },
   {
    "duration": 11,
    "start_time": "2022-09-14T16:24:38.446Z"
   },
   {
    "duration": 510,
    "start_time": "2022-09-14T16:40:03.663Z"
   },
   {
    "duration": 23,
    "start_time": "2022-09-14T16:40:04.175Z"
   },
   {
    "duration": 17,
    "start_time": "2022-09-14T16:40:04.199Z"
   },
   {
    "duration": 9,
    "start_time": "2022-09-14T16:40:04.218Z"
   },
   {
    "duration": 33,
    "start_time": "2022-09-14T16:40:04.229Z"
   },
   {
    "duration": 28,
    "start_time": "2022-09-14T16:40:04.263Z"
   },
   {
    "duration": 12,
    "start_time": "2022-09-14T16:40:04.293Z"
   },
   {
    "duration": 5,
    "start_time": "2022-09-14T16:40:04.307Z"
   },
   {
    "duration": 9,
    "start_time": "2022-09-14T16:40:04.314Z"
   },
   {
    "duration": 9,
    "start_time": "2022-09-14T16:40:04.328Z"
   },
   {
    "duration": 69,
    "start_time": "2022-09-14T16:40:04.339Z"
   },
   {
    "duration": 12,
    "start_time": "2022-09-14T16:40:04.410Z"
   },
   {
    "duration": 5,
    "start_time": "2022-09-14T16:40:04.424Z"
   },
   {
    "duration": 14,
    "start_time": "2022-09-14T16:40:04.430Z"
   },
   {
    "duration": 54,
    "start_time": "2022-09-14T16:40:04.445Z"
   },
   {
    "duration": 18,
    "start_time": "2022-09-14T16:40:04.500Z"
   },
   {
    "duration": 4,
    "start_time": "2022-09-14T16:40:04.520Z"
   },
   {
    "duration": 13,
    "start_time": "2022-09-14T16:40:04.525Z"
   },
   {
    "duration": 12,
    "start_time": "2022-09-14T16:40:04.539Z"
   },
   {
    "duration": 4,
    "start_time": "2022-09-14T16:40:04.553Z"
   },
   {
    "duration": 14,
    "start_time": "2022-09-14T16:40:04.589Z"
   },
   {
    "duration": 31,
    "start_time": "2022-09-14T16:40:04.605Z"
   },
   {
    "duration": 10,
    "start_time": "2022-09-14T16:40:04.638Z"
   },
   {
    "duration": 59,
    "start_time": "2022-09-14T16:40:04.651Z"
   },
   {
    "duration": 13,
    "start_time": "2022-09-14T16:40:04.712Z"
   },
   {
    "duration": 61,
    "start_time": "2022-09-14T16:40:04.728Z"
   },
   {
    "duration": 30,
    "start_time": "2022-09-14T16:40:04.792Z"
   },
   {
    "duration": 44,
    "start_time": "2022-09-15T07:55:59.838Z"
   },
   {
    "duration": 691,
    "start_time": "2022-09-15T07:56:06.428Z"
   },
   {
    "duration": 23,
    "start_time": "2022-09-15T07:56:07.121Z"
   },
   {
    "duration": 18,
    "start_time": "2022-09-15T07:56:07.146Z"
   },
   {
    "duration": 9,
    "start_time": "2022-09-15T07:56:07.166Z"
   },
   {
    "duration": 33,
    "start_time": "2022-09-15T07:56:07.177Z"
   },
   {
    "duration": 3,
    "start_time": "2022-09-15T07:56:07.212Z"
   },
   {
    "duration": 11,
    "start_time": "2022-09-15T07:56:07.217Z"
   },
   {
    "duration": 5,
    "start_time": "2022-09-15T07:56:07.230Z"
   },
   {
    "duration": 9,
    "start_time": "2022-09-15T07:56:07.237Z"
   },
   {
    "duration": 5,
    "start_time": "2022-09-15T07:56:07.276Z"
   },
   {
    "duration": 34,
    "start_time": "2022-09-15T07:56:07.284Z"
   },
   {
    "duration": 10,
    "start_time": "2022-09-15T07:56:07.320Z"
   },
   {
    "duration": 4,
    "start_time": "2022-09-15T07:56:07.332Z"
   },
   {
    "duration": 46,
    "start_time": "2022-09-15T07:56:07.337Z"
   },
   {
    "duration": 20,
    "start_time": "2022-09-15T07:56:07.384Z"
   },
   {
    "duration": 17,
    "start_time": "2022-09-15T07:56:07.405Z"
   },
   {
    "duration": 3,
    "start_time": "2022-09-15T07:56:07.424Z"
   },
   {
    "duration": 13,
    "start_time": "2022-09-15T07:56:07.429Z"
   },
   {
    "duration": 11,
    "start_time": "2022-09-15T07:56:07.444Z"
   },
   {
    "duration": 23,
    "start_time": "2022-09-15T07:56:07.456Z"
   },
   {
    "duration": 22,
    "start_time": "2022-09-15T07:56:07.481Z"
   },
   {
    "duration": 29,
    "start_time": "2022-09-15T07:56:07.505Z"
   },
   {
    "duration": 11,
    "start_time": "2022-09-15T07:56:07.536Z"
   },
   {
    "duration": 34,
    "start_time": "2022-09-15T07:56:07.549Z"
   },
   {
    "duration": 33,
    "start_time": "2022-09-15T07:56:07.585Z"
   },
   {
    "duration": 12,
    "start_time": "2022-09-15T07:56:07.619Z"
   },
   {
    "duration": 61,
    "start_time": "2022-09-15T07:56:07.633Z"
   },
   {
    "duration": 31,
    "start_time": "2022-09-15T07:56:07.697Z"
   },
   {
    "duration": 11,
    "start_time": "2022-09-15T08:03:42.236Z"
   },
   {
    "duration": 14,
    "start_time": "2022-09-15T08:03:56.544Z"
   },
   {
    "duration": 16,
    "start_time": "2022-09-15T08:05:58.554Z"
   },
   {
    "duration": 1053,
    "start_time": "2022-09-15T08:06:53.568Z"
   },
   {
    "duration": 1074,
    "start_time": "2022-09-15T08:07:08.028Z"
   },
   {
    "duration": 14,
    "start_time": "2022-09-15T08:08:05.512Z"
   },
   {
    "duration": 15,
    "start_time": "2022-09-15T08:08:19.652Z"
   },
   {
    "duration": 456,
    "start_time": "2022-09-15T08:08:29.589Z"
   },
   {
    "duration": 29,
    "start_time": "2022-09-15T08:08:30.047Z"
   },
   {
    "duration": 15,
    "start_time": "2022-09-15T08:08:30.078Z"
   },
   {
    "duration": 13,
    "start_time": "2022-09-15T08:08:30.095Z"
   },
   {
    "duration": 35,
    "start_time": "2022-09-15T08:08:30.110Z"
   },
   {
    "duration": 4,
    "start_time": "2022-09-15T08:08:30.147Z"
   },
   {
    "duration": 29,
    "start_time": "2022-09-15T08:08:30.152Z"
   },
   {
    "duration": 4,
    "start_time": "2022-09-15T08:08:30.183Z"
   },
   {
    "duration": 27,
    "start_time": "2022-09-15T08:08:30.189Z"
   },
   {
    "duration": 14,
    "start_time": "2022-09-15T08:08:30.218Z"
   },
   {
    "duration": 42,
    "start_time": "2022-09-15T08:08:30.234Z"
   },
   {
    "duration": 9,
    "start_time": "2022-09-15T08:08:30.277Z"
   },
   {
    "duration": 47,
    "start_time": "2022-09-15T08:08:30.287Z"
   },
   {
    "duration": 53,
    "start_time": "2022-09-15T08:08:30.336Z"
   },
   {
    "duration": 47,
    "start_time": "2022-09-15T08:08:30.391Z"
   },
   {
    "duration": 17,
    "start_time": "2022-09-15T08:08:30.440Z"
   },
   {
    "duration": 20,
    "start_time": "2022-09-15T08:08:30.458Z"
   },
   {
    "duration": 25,
    "start_time": "2022-09-15T08:08:30.480Z"
   },
   {
    "duration": 19,
    "start_time": "2022-09-15T08:08:30.507Z"
   },
   {
    "duration": 29,
    "start_time": "2022-09-15T08:08:30.528Z"
   },
   {
    "duration": 35,
    "start_time": "2022-09-15T08:08:30.559Z"
   },
   {
    "duration": 61,
    "start_time": "2022-09-15T08:08:30.596Z"
   },
   {
    "duration": 56,
    "start_time": "2022-09-15T08:08:30.659Z"
   },
   {
    "duration": 58,
    "start_time": "2022-09-15T08:08:30.717Z"
   },
   {
    "duration": 35,
    "start_time": "2022-09-15T08:08:30.776Z"
   },
   {
    "duration": 42,
    "start_time": "2022-09-15T08:08:30.813Z"
   },
   {
    "duration": 12,
    "start_time": "2022-09-15T08:08:30.857Z"
   },
   {
    "duration": 60,
    "start_time": "2022-09-15T08:08:30.872Z"
   },
   {
    "duration": 55,
    "start_time": "2022-09-15T08:08:30.933Z"
   },
   {
    "duration": 37,
    "start_time": "2022-09-15T08:08:30.990Z"
   },
   {
    "duration": 13,
    "start_time": "2022-09-15T08:09:42.609Z"
   },
   {
    "duration": 256,
    "start_time": "2022-09-15T08:14:47.348Z"
   },
   {
    "duration": 14,
    "start_time": "2022-09-15T08:15:32.297Z"
   }
  ],
  "colab": {
   "name": "dpp_template_part2.ipynb",
   "provenance": []
  },
  "kernelspec": {
   "display_name": "Python 3 (ipykernel)",
   "language": "python",
   "name": "python3"
  },
  "language_info": {
   "codemirror_mode": {
    "name": "ipython",
    "version": 3
   },
   "file_extension": ".py",
   "mimetype": "text/x-python",
   "name": "python",
   "nbconvert_exporter": "python",
   "pygments_lexer": "ipython3",
   "version": "3.9.13"
  },
  "toc": {
   "base_numbering": 1,
   "nav_menu": {},
   "number_sections": true,
   "sideBar": true,
   "skip_h1_title": true,
   "title_cell": "Table of Contents",
   "title_sidebar": "Contents",
   "toc_cell": false,
   "toc_position": {},
   "toc_section_display": true,
   "toc_window_display": false
  }
 },
 "nbformat": 4,
 "nbformat_minor": 5
}
